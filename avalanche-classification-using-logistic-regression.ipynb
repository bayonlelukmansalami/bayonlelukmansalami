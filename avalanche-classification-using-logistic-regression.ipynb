{
 "cells": [
  {
   "cell_type": "code",
   "execution_count": 1,
   "id": "e5ba2786",
   "metadata": {
    "execution": {
     "iopub.execute_input": "2022-12-14T15:13:18.833959Z",
     "iopub.status.busy": "2022-12-14T15:13:18.833251Z",
     "iopub.status.idle": "2022-12-14T15:13:20.883644Z",
     "shell.execute_reply": "2022-12-14T15:13:20.882352Z"
    },
    "papermill": {
     "duration": 2.064115,
     "end_time": "2022-12-14T15:13:20.886685",
     "exception": false,
     "start_time": "2022-12-14T15:13:18.822570",
     "status": "completed"
    },
    "tags": []
   },
   "outputs": [],
   "source": [
    "import pandas as pd\n",
    "import numpy as np\n",
    "import matplotlib.pyplot as plt\n",
    "import seaborn as sns\n",
    "import warnings\n",
    "warnings.filterwarnings('ignore')\n",
    "from sklearn import preprocessing\n",
    "from sklearn.preprocessing import StandardScaler\n",
    "from sklearn.model_selection import train_test_split\n",
    "from sklearn.neighbors import KNeighborsClassifier\n",
    "from sklearn import metrics\n",
    "from sklearn.metrics import r2_score\n",
    "from sklearn.tree import DecisionTreeClassifier\n",
    "import sklearn.tree as tree\n",
    "import scipy.optimize as opt\n",
    "from sklearn.linear_model import LogisticRegression\n",
    "from sklearn.metrics import jaccard_score\n",
    "from sklearn.metrics import confusion_matrix\n",
    "%matplotlib inline"
   ]
  },
  {
   "cell_type": "code",
   "execution_count": 2,
   "id": "eda8f113",
   "metadata": {
    "execution": {
     "iopub.execute_input": "2022-12-14T15:13:20.903581Z",
     "iopub.status.busy": "2022-12-14T15:13:20.903144Z",
     "iopub.status.idle": "2022-12-14T15:13:20.950939Z",
     "shell.execute_reply": "2022-12-14T15:13:20.949579Z"
    },
    "papermill": {
     "duration": 0.059595,
     "end_time": "2022-12-14T15:13:20.953820",
     "exception": false,
     "start_time": "2022-12-14T15:13:20.894225",
     "status": "completed"
    },
    "tags": []
   },
   "outputs": [
    {
     "data": {
      "text/html": [
       "<div>\n",
       "<style scoped>\n",
       "    .dataframe tbody tr th:only-of-type {\n",
       "        vertical-align: middle;\n",
       "    }\n",
       "\n",
       "    .dataframe tbody tr th {\n",
       "        vertical-align: top;\n",
       "    }\n",
       "\n",
       "    .dataframe thead th {\n",
       "        text-align: right;\n",
       "    }\n",
       "</style>\n",
       "<table border=\"1\" class=\"dataframe\">\n",
       "  <thead>\n",
       "    <tr style=\"text-align: right;\">\n",
       "      <th></th>\n",
       "      <th>Unnamed: 0</th>\n",
       "      <th>avalanche</th>\n",
       "      <th>no_visitors</th>\n",
       "      <th>surface_hoar</th>\n",
       "      <th>fresh_thickness</th>\n",
       "      <th>wind</th>\n",
       "      <th>weak_layers</th>\n",
       "      <th>tracked_out</th>\n",
       "    </tr>\n",
       "  </thead>\n",
       "  <tbody>\n",
       "    <tr>\n",
       "      <th>0</th>\n",
       "      <td>0</td>\n",
       "      <td>0</td>\n",
       "      <td>4</td>\n",
       "      <td>3.900508</td>\n",
       "      <td>8.715485</td>\n",
       "      <td>6</td>\n",
       "      <td>9</td>\n",
       "      <td>0</td>\n",
       "    </tr>\n",
       "    <tr>\n",
       "      <th>1</th>\n",
       "      <td>1</td>\n",
       "      <td>0</td>\n",
       "      <td>9</td>\n",
       "      <td>1.477586</td>\n",
       "      <td>6.801417</td>\n",
       "      <td>30</td>\n",
       "      <td>0</td>\n",
       "      <td>0</td>\n",
       "    </tr>\n",
       "    <tr>\n",
       "      <th>2</th>\n",
       "      <td>2</td>\n",
       "      <td>1</td>\n",
       "      <td>3</td>\n",
       "      <td>3.236594</td>\n",
       "      <td>5.632457</td>\n",
       "      <td>8</td>\n",
       "      <td>8</td>\n",
       "      <td>1</td>\n",
       "    </tr>\n",
       "    <tr>\n",
       "      <th>3</th>\n",
       "      <td>3</td>\n",
       "      <td>0</td>\n",
       "      <td>0</td>\n",
       "      <td>3.244283</td>\n",
       "      <td>9.348871</td>\n",
       "      <td>12</td>\n",
       "      <td>10</td>\n",
       "      <td>0</td>\n",
       "    </tr>\n",
       "    <tr>\n",
       "      <th>4</th>\n",
       "      <td>4</td>\n",
       "      <td>1</td>\n",
       "      <td>2</td>\n",
       "      <td>5.196741</td>\n",
       "      <td>3.782315</td>\n",
       "      <td>4</td>\n",
       "      <td>9</td>\n",
       "      <td>1</td>\n",
       "    </tr>\n",
       "  </tbody>\n",
       "</table>\n",
       "</div>"
      ],
      "text/plain": [
       "   Unnamed: 0  avalanche  no_visitors  surface_hoar  fresh_thickness  wind  \\\n",
       "0           0          0            4      3.900508         8.715485     6   \n",
       "1           1          0            9      1.477586         6.801417    30   \n",
       "2           2          1            3      3.236594         5.632457     8   \n",
       "3           3          0            0      3.244283         9.348871    12   \n",
       "4           4          1            2      5.196741         3.782315     4   \n",
       "\n",
       "   weak_layers  tracked_out  \n",
       "0            9            0  \n",
       "1            0            0  \n",
       "2            8            1  \n",
       "3           10            0  \n",
       "4            9            1  "
      ]
     },
     "execution_count": 2,
     "metadata": {},
     "output_type": "execute_result"
    }
   ],
   "source": [
    "df = pd.read_csv('/kaggle/input/avalanche/avalanche (3).csv',sep='\\t')\n",
    "df.head()"
   ]
  },
  {
   "cell_type": "code",
   "execution_count": 3,
   "id": "8950e9e8",
   "metadata": {
    "execution": {
     "iopub.execute_input": "2022-12-14T15:13:20.970529Z",
     "iopub.status.busy": "2022-12-14T15:13:20.970083Z",
     "iopub.status.idle": "2022-12-14T15:13:20.984847Z",
     "shell.execute_reply": "2022-12-14T15:13:20.983580Z"
    },
    "papermill": {
     "duration": 0.026159,
     "end_time": "2022-12-14T15:13:20.987534",
     "exception": false,
     "start_time": "2022-12-14T15:13:20.961375",
     "status": "completed"
    },
    "tags": []
   },
   "outputs": [
    {
     "data": {
      "text/html": [
       "<div>\n",
       "<style scoped>\n",
       "    .dataframe tbody tr th:only-of-type {\n",
       "        vertical-align: middle;\n",
       "    }\n",
       "\n",
       "    .dataframe tbody tr th {\n",
       "        vertical-align: top;\n",
       "    }\n",
       "\n",
       "    .dataframe thead th {\n",
       "        text-align: right;\n",
       "    }\n",
       "</style>\n",
       "<table border=\"1\" class=\"dataframe\">\n",
       "  <thead>\n",
       "    <tr style=\"text-align: right;\">\n",
       "      <th></th>\n",
       "      <th>Unnamed: 0</th>\n",
       "      <th>avalanche</th>\n",
       "      <th>no_visitors</th>\n",
       "      <th>surface_hoar</th>\n",
       "      <th>fresh_thickness</th>\n",
       "      <th>wind</th>\n",
       "      <th>weak_layers</th>\n",
       "      <th>tracked_out</th>\n",
       "    </tr>\n",
       "  </thead>\n",
       "  <tbody>\n",
       "    <tr>\n",
       "      <th>1090</th>\n",
       "      <td>1090</td>\n",
       "      <td>1</td>\n",
       "      <td>1</td>\n",
       "      <td>2.182905</td>\n",
       "      <td>6.109184</td>\n",
       "      <td>3</td>\n",
       "      <td>9</td>\n",
       "      <td>0</td>\n",
       "    </tr>\n",
       "    <tr>\n",
       "      <th>1091</th>\n",
       "      <td>1091</td>\n",
       "      <td>0</td>\n",
       "      <td>2</td>\n",
       "      <td>3.718231</td>\n",
       "      <td>10.426100</td>\n",
       "      <td>28</td>\n",
       "      <td>0</td>\n",
       "      <td>0</td>\n",
       "    </tr>\n",
       "    <tr>\n",
       "      <th>1092</th>\n",
       "      <td>1092</td>\n",
       "      <td>1</td>\n",
       "      <td>8</td>\n",
       "      <td>7.037647</td>\n",
       "      <td>9.741006</td>\n",
       "      <td>34</td>\n",
       "      <td>3</td>\n",
       "      <td>0</td>\n",
       "    </tr>\n",
       "    <tr>\n",
       "      <th>1093</th>\n",
       "      <td>1093</td>\n",
       "      <td>0</td>\n",
       "      <td>2</td>\n",
       "      <td>2.449889</td>\n",
       "      <td>7.337579</td>\n",
       "      <td>37</td>\n",
       "      <td>10</td>\n",
       "      <td>1</td>\n",
       "    </tr>\n",
       "    <tr>\n",
       "      <th>1094</th>\n",
       "      <td>1094</td>\n",
       "      <td>1</td>\n",
       "      <td>3</td>\n",
       "      <td>4.881081</td>\n",
       "      <td>10.457047</td>\n",
       "      <td>9</td>\n",
       "      <td>7</td>\n",
       "      <td>0</td>\n",
       "    </tr>\n",
       "  </tbody>\n",
       "</table>\n",
       "</div>"
      ],
      "text/plain": [
       "      Unnamed: 0  avalanche  no_visitors  surface_hoar  fresh_thickness  wind  \\\n",
       "1090        1090          1            1      2.182905         6.109184     3   \n",
       "1091        1091          0            2      3.718231        10.426100    28   \n",
       "1092        1092          1            8      7.037647         9.741006    34   \n",
       "1093        1093          0            2      2.449889         7.337579    37   \n",
       "1094        1094          1            3      4.881081        10.457047     9   \n",
       "\n",
       "      weak_layers  tracked_out  \n",
       "1090            9            0  \n",
       "1091            0            0  \n",
       "1092            3            0  \n",
       "1093           10            1  \n",
       "1094            7            0  "
      ]
     },
     "execution_count": 3,
     "metadata": {},
     "output_type": "execute_result"
    }
   ],
   "source": [
    "df.tail()"
   ]
  },
  {
   "cell_type": "code",
   "execution_count": 4,
   "id": "3176587a",
   "metadata": {
    "execution": {
     "iopub.execute_input": "2022-12-14T15:13:21.005691Z",
     "iopub.status.busy": "2022-12-14T15:13:21.004567Z",
     "iopub.status.idle": "2022-12-14T15:13:21.025465Z",
     "shell.execute_reply": "2022-12-14T15:13:21.024122Z"
    },
    "papermill": {
     "duration": 0.032959,
     "end_time": "2022-12-14T15:13:21.028277",
     "exception": false,
     "start_time": "2022-12-14T15:13:20.995318",
     "status": "completed"
    },
    "tags": []
   },
   "outputs": [
    {
     "data": {
      "text/html": [
       "<div>\n",
       "<style scoped>\n",
       "    .dataframe tbody tr th:only-of-type {\n",
       "        vertical-align: middle;\n",
       "    }\n",
       "\n",
       "    .dataframe tbody tr th {\n",
       "        vertical-align: top;\n",
       "    }\n",
       "\n",
       "    .dataframe thead th {\n",
       "        text-align: right;\n",
       "    }\n",
       "</style>\n",
       "<table border=\"1\" class=\"dataframe\">\n",
       "  <thead>\n",
       "    <tr style=\"text-align: right;\">\n",
       "      <th></th>\n",
       "      <th>Unnamed: 0</th>\n",
       "      <th>avalanche</th>\n",
       "      <th>no_visitors</th>\n",
       "      <th>surface_hoar</th>\n",
       "      <th>fresh_thickness</th>\n",
       "      <th>wind</th>\n",
       "      <th>weak_layers</th>\n",
       "      <th>tracked_out</th>\n",
       "    </tr>\n",
       "  </thead>\n",
       "  <tbody>\n",
       "    <tr>\n",
       "      <th>0</th>\n",
       "      <td>0</td>\n",
       "      <td>0</td>\n",
       "      <td>4</td>\n",
       "      <td>3.900508</td>\n",
       "      <td>8.715485</td>\n",
       "      <td>6</td>\n",
       "      <td>9</td>\n",
       "      <td>0</td>\n",
       "    </tr>\n",
       "    <tr>\n",
       "      <th>1</th>\n",
       "      <td>1</td>\n",
       "      <td>0</td>\n",
       "      <td>9</td>\n",
       "      <td>1.477586</td>\n",
       "      <td>6.801417</td>\n",
       "      <td>30</td>\n",
       "      <td>0</td>\n",
       "      <td>0</td>\n",
       "    </tr>\n",
       "    <tr>\n",
       "      <th>2</th>\n",
       "      <td>2</td>\n",
       "      <td>1</td>\n",
       "      <td>3</td>\n",
       "      <td>3.236594</td>\n",
       "      <td>5.632457</td>\n",
       "      <td>8</td>\n",
       "      <td>8</td>\n",
       "      <td>1</td>\n",
       "    </tr>\n",
       "    <tr>\n",
       "      <th>3</th>\n",
       "      <td>3</td>\n",
       "      <td>0</td>\n",
       "      <td>0</td>\n",
       "      <td>3.244283</td>\n",
       "      <td>9.348871</td>\n",
       "      <td>12</td>\n",
       "      <td>10</td>\n",
       "      <td>0</td>\n",
       "    </tr>\n",
       "    <tr>\n",
       "      <th>4</th>\n",
       "      <td>4</td>\n",
       "      <td>1</td>\n",
       "      <td>2</td>\n",
       "      <td>5.196741</td>\n",
       "      <td>3.782315</td>\n",
       "      <td>4</td>\n",
       "      <td>9</td>\n",
       "      <td>1</td>\n",
       "    </tr>\n",
       "    <tr>\n",
       "      <th>...</th>\n",
       "      <td>...</td>\n",
       "      <td>...</td>\n",
       "      <td>...</td>\n",
       "      <td>...</td>\n",
       "      <td>...</td>\n",
       "      <td>...</td>\n",
       "      <td>...</td>\n",
       "      <td>...</td>\n",
       "    </tr>\n",
       "    <tr>\n",
       "      <th>1090</th>\n",
       "      <td>1090</td>\n",
       "      <td>1</td>\n",
       "      <td>1</td>\n",
       "      <td>2.182905</td>\n",
       "      <td>6.109184</td>\n",
       "      <td>3</td>\n",
       "      <td>9</td>\n",
       "      <td>0</td>\n",
       "    </tr>\n",
       "    <tr>\n",
       "      <th>1091</th>\n",
       "      <td>1091</td>\n",
       "      <td>0</td>\n",
       "      <td>2</td>\n",
       "      <td>3.718231</td>\n",
       "      <td>10.426100</td>\n",
       "      <td>28</td>\n",
       "      <td>0</td>\n",
       "      <td>0</td>\n",
       "    </tr>\n",
       "    <tr>\n",
       "      <th>1092</th>\n",
       "      <td>1092</td>\n",
       "      <td>1</td>\n",
       "      <td>8</td>\n",
       "      <td>7.037647</td>\n",
       "      <td>9.741006</td>\n",
       "      <td>34</td>\n",
       "      <td>3</td>\n",
       "      <td>0</td>\n",
       "    </tr>\n",
       "    <tr>\n",
       "      <th>1093</th>\n",
       "      <td>1093</td>\n",
       "      <td>0</td>\n",
       "      <td>2</td>\n",
       "      <td>2.449889</td>\n",
       "      <td>7.337579</td>\n",
       "      <td>37</td>\n",
       "      <td>10</td>\n",
       "      <td>1</td>\n",
       "    </tr>\n",
       "    <tr>\n",
       "      <th>1094</th>\n",
       "      <td>1094</td>\n",
       "      <td>1</td>\n",
       "      <td>3</td>\n",
       "      <td>4.881081</td>\n",
       "      <td>10.457047</td>\n",
       "      <td>9</td>\n",
       "      <td>7</td>\n",
       "      <td>0</td>\n",
       "    </tr>\n",
       "  </tbody>\n",
       "</table>\n",
       "<p>1095 rows × 8 columns</p>\n",
       "</div>"
      ],
      "text/plain": [
       "      Unnamed: 0  avalanche  no_visitors  surface_hoar  fresh_thickness  wind  \\\n",
       "0              0          0            4      3.900508         8.715485     6   \n",
       "1              1          0            9      1.477586         6.801417    30   \n",
       "2              2          1            3      3.236594         5.632457     8   \n",
       "3              3          0            0      3.244283         9.348871    12   \n",
       "4              4          1            2      5.196741         3.782315     4   \n",
       "...          ...        ...          ...           ...              ...   ...   \n",
       "1090        1090          1            1      2.182905         6.109184     3   \n",
       "1091        1091          0            2      3.718231        10.426100    28   \n",
       "1092        1092          1            8      7.037647         9.741006    34   \n",
       "1093        1093          0            2      2.449889         7.337579    37   \n",
       "1094        1094          1            3      4.881081        10.457047     9   \n",
       "\n",
       "      weak_layers  tracked_out  \n",
       "0               9            0  \n",
       "1               0            0  \n",
       "2               8            1  \n",
       "3              10            0  \n",
       "4               9            1  \n",
       "...           ...          ...  \n",
       "1090            9            0  \n",
       "1091            0            0  \n",
       "1092            3            0  \n",
       "1093           10            1  \n",
       "1094            7            0  \n",
       "\n",
       "[1095 rows x 8 columns]"
      ]
     },
     "execution_count": 4,
     "metadata": {},
     "output_type": "execute_result"
    }
   ],
   "source": [
    "df"
   ]
  },
  {
   "cell_type": "code",
   "execution_count": 5,
   "id": "c9947430",
   "metadata": {
    "execution": {
     "iopub.execute_input": "2022-12-14T15:13:21.045768Z",
     "iopub.status.busy": "2022-12-14T15:13:21.045351Z",
     "iopub.status.idle": "2022-12-14T15:13:21.055262Z",
     "shell.execute_reply": "2022-12-14T15:13:21.053970Z"
    },
    "papermill": {
     "duration": 0.021585,
     "end_time": "2022-12-14T15:13:21.057667",
     "exception": false,
     "start_time": "2022-12-14T15:13:21.036082",
     "status": "completed"
    },
    "tags": []
   },
   "outputs": [
    {
     "data": {
      "text/plain": [
       "Unnamed: 0         0\n",
       "avalanche          0\n",
       "no_visitors        0\n",
       "surface_hoar       0\n",
       "fresh_thickness    0\n",
       "wind               0\n",
       "weak_layers        0\n",
       "tracked_out        0\n",
       "dtype: int64"
      ]
     },
     "execution_count": 5,
     "metadata": {},
     "output_type": "execute_result"
    }
   ],
   "source": [
    "df.isnull().sum()"
   ]
  },
  {
   "cell_type": "code",
   "execution_count": 6,
   "id": "dfca66cd",
   "metadata": {
    "execution": {
     "iopub.execute_input": "2022-12-14T15:13:21.077231Z",
     "iopub.status.busy": "2022-12-14T15:13:21.076632Z",
     "iopub.status.idle": "2022-12-14T15:13:21.083343Z",
     "shell.execute_reply": "2022-12-14T15:13:21.082334Z"
    },
    "papermill": {
     "duration": 0.019985,
     "end_time": "2022-12-14T15:13:21.085517",
     "exception": false,
     "start_time": "2022-12-14T15:13:21.065532",
     "status": "completed"
    },
    "tags": []
   },
   "outputs": [
    {
     "data": {
      "text/plain": [
       "Index(['Unnamed: 0', 'avalanche', 'no_visitors', 'surface_hoar',\n",
       "       'fresh_thickness', 'wind', 'weak_layers', 'tracked_out'],\n",
       "      dtype='object')"
      ]
     },
     "execution_count": 6,
     "metadata": {},
     "output_type": "execute_result"
    }
   ],
   "source": [
    "df.columns"
   ]
  },
  {
   "cell_type": "code",
   "execution_count": 7,
   "id": "996f9118",
   "metadata": {
    "execution": {
     "iopub.execute_input": "2022-12-14T15:13:21.104435Z",
     "iopub.status.busy": "2022-12-14T15:13:21.103879Z",
     "iopub.status.idle": "2022-12-14T15:13:22.306873Z",
     "shell.execute_reply": "2022-12-14T15:13:22.305597Z"
    },
    "papermill": {
     "duration": 1.215954,
     "end_time": "2022-12-14T15:13:22.310035",
     "exception": false,
     "start_time": "2022-12-14T15:13:21.094081",
     "status": "completed"
    },
    "tags": []
   },
   "outputs": [
    {
     "data": {
      "image/png": "[encoded data removed]",
      "text/plain": [
       "<Figure size 432x288 with 1 Axes>"
      ]
     },
     "metadata": {
      "needs_background": "light"
     },
     "output_type": "display_data"
    },
    {
     "data": {
      "image/png": "[encoded data removed]",
      "text/plain": [
       "<Figure size 432x288 with 1 Axes>"
      ]
     },
     "metadata": {
      "needs_background": "light"
     },
     "output_type": "display_data"
    },
    {
     "data": {
      "image/png": "[encoded data removed]",
      "text/plain": [
       "<Figure size 432x288 with 1 Axes>"
      ]
     },
     "metadata": {
      "needs_background": "light"
     },
     "output_type": "display_data"
    },
    {
     "data": {
      "image/png": "[encoded data removed]",
      "text/plain": [
       "<Figure size 432x288 with 1 Axes>"
      ]
     },
     "metadata": {
      "needs_background": "light"
     },
     "output_type": "display_data"
    },
    {
     "data": {
      "image/png": "[encoded data removed]",
      "text/plain": [
       "<Figure size 432x288 with 1 Axes>"
      ]
     },
     "metadata": {
      "needs_background": "light"
     },
     "output_type": "display_data"
    },
    {
     "data": {
      "image/png": "[encoded data removed]",
      "text/plain": [
       "<Figure size 432x288 with 1 Axes>"
      ]
     },
     "metadata": {
      "needs_background": "light"
     },
     "output_type": "display_data"
    }
   ],
   "source": [
    "cols = ['no_visitors','surface_hoar','fresh_thickness','weak_layers','wind','tracked_out']\n",
    "\n",
    "for col in cols:\n",
    "    sns.boxplot(x='avalanche',y=col,data=df)\n",
    "    plt.show()"
   ]
  },
  {
   "cell_type": "code",
   "execution_count": 8,
   "id": "c6ff451c",
   "metadata": {
    "execution": {
     "iopub.execute_input": "2022-12-14T15:13:22.337394Z",
     "iopub.status.busy": "2022-12-14T15:13:22.336227Z",
     "iopub.status.idle": "2022-12-14T15:13:22.346745Z",
     "shell.execute_reply": "2022-12-14T15:13:22.345058Z"
    },
    "papermill": {
     "duration": 0.028,
     "end_time": "2022-12-14T15:13:22.350125",
     "exception": false,
     "start_time": "2022-12-14T15:13:22.322125",
     "status": "completed"
    },
    "tags": []
   },
   "outputs": [],
   "source": [
    "X = df[df.columns.drop(\"avalanche\")]\n",
    "y = df[['avalanche']]"
   ]
  },
  {
   "cell_type": "code",
   "execution_count": 9,
   "id": "87987a58",
   "metadata": {
    "execution": {
     "iopub.execute_input": "2022-12-14T15:13:22.371265Z",
     "iopub.status.busy": "2022-12-14T15:13:22.370863Z",
     "iopub.status.idle": "2022-12-14T15:13:22.385023Z",
     "shell.execute_reply": "2022-12-14T15:13:22.383089Z"
    },
    "papermill": {
     "duration": 0.027866,
     "end_time": "2022-12-14T15:13:22.387465",
     "exception": false,
     "start_time": "2022-12-14T15:13:22.359599",
     "status": "completed"
    },
    "tags": []
   },
   "outputs": [
    {
     "data": {
      "text/html": [
       "<div>\n",
       "<style scoped>\n",
       "    .dataframe tbody tr th:only-of-type {\n",
       "        vertical-align: middle;\n",
       "    }\n",
       "\n",
       "    .dataframe tbody tr th {\n",
       "        vertical-align: top;\n",
       "    }\n",
       "\n",
       "    .dataframe thead th {\n",
       "        text-align: right;\n",
       "    }\n",
       "</style>\n",
       "<table border=\"1\" class=\"dataframe\">\n",
       "  <thead>\n",
       "    <tr style=\"text-align: right;\">\n",
       "      <th></th>\n",
       "      <th>Unnamed: 0</th>\n",
       "      <th>no_visitors</th>\n",
       "      <th>surface_hoar</th>\n",
       "      <th>fresh_thickness</th>\n",
       "      <th>wind</th>\n",
       "      <th>weak_layers</th>\n",
       "      <th>tracked_out</th>\n",
       "    </tr>\n",
       "  </thead>\n",
       "  <tbody>\n",
       "    <tr>\n",
       "      <th>0</th>\n",
       "      <td>0</td>\n",
       "      <td>4</td>\n",
       "      <td>3.900508</td>\n",
       "      <td>8.715485</td>\n",
       "      <td>6</td>\n",
       "      <td>9</td>\n",
       "      <td>0</td>\n",
       "    </tr>\n",
       "    <tr>\n",
       "      <th>1</th>\n",
       "      <td>1</td>\n",
       "      <td>9</td>\n",
       "      <td>1.477586</td>\n",
       "      <td>6.801417</td>\n",
       "      <td>30</td>\n",
       "      <td>0</td>\n",
       "      <td>0</td>\n",
       "    </tr>\n",
       "    <tr>\n",
       "      <th>2</th>\n",
       "      <td>2</td>\n",
       "      <td>3</td>\n",
       "      <td>3.236594</td>\n",
       "      <td>5.632457</td>\n",
       "      <td>8</td>\n",
       "      <td>8</td>\n",
       "      <td>1</td>\n",
       "    </tr>\n",
       "    <tr>\n",
       "      <th>3</th>\n",
       "      <td>3</td>\n",
       "      <td>0</td>\n",
       "      <td>3.244283</td>\n",
       "      <td>9.348871</td>\n",
       "      <td>12</td>\n",
       "      <td>10</td>\n",
       "      <td>0</td>\n",
       "    </tr>\n",
       "    <tr>\n",
       "      <th>4</th>\n",
       "      <td>4</td>\n",
       "      <td>2</td>\n",
       "      <td>5.196741</td>\n",
       "      <td>3.782315</td>\n",
       "      <td>4</td>\n",
       "      <td>9</td>\n",
       "      <td>1</td>\n",
       "    </tr>\n",
       "  </tbody>\n",
       "</table>\n",
       "</div>"
      ],
      "text/plain": [
       "   Unnamed: 0  no_visitors  surface_hoar  fresh_thickness  wind  weak_layers  \\\n",
       "0           0            4      3.900508         8.715485     6            9   \n",
       "1           1            9      1.477586         6.801417    30            0   \n",
       "2           2            3      3.236594         5.632457     8            8   \n",
       "3           3            0      3.244283         9.348871    12           10   \n",
       "4           4            2      5.196741         3.782315     4            9   \n",
       "\n",
       "   tracked_out  \n",
       "0            0  \n",
       "1            0  \n",
       "2            1  \n",
       "3            0  \n",
       "4            1  "
      ]
     },
     "execution_count": 9,
     "metadata": {},
     "output_type": "execute_result"
    }
   ],
   "source": [
    "X.head()"
   ]
  },
  {
   "cell_type": "code",
   "execution_count": 10,
   "id": "d4e83c39",
   "metadata": {
    "execution": {
     "iopub.execute_input": "2022-12-14T15:13:22.410132Z",
     "iopub.status.busy": "2022-12-14T15:13:22.409493Z",
     "iopub.status.idle": "2022-12-14T15:13:22.418593Z",
     "shell.execute_reply": "2022-12-14T15:13:22.417180Z"
    },
    "papermill": {
     "duration": 0.02326,
     "end_time": "2022-12-14T15:13:22.421356",
     "exception": false,
     "start_time": "2022-12-14T15:13:22.398096",
     "status": "completed"
    },
    "tags": []
   },
   "outputs": [
    {
     "name": "stdout",
     "output_type": "stream",
     "text": [
      "Train set: (657, 7) (657, 1)\n",
      "Test set: (438, 7) (438, 1)\n"
     ]
    }
   ],
   "source": [
    "X_train, X_test, y_train, y_test = train_test_split( X, y, test_size=0.4, random_state=0)\n",
    "print ('Train set:', X_train.shape,  y_train.shape)\n",
    "print ('Test set:', X_test.shape,  y_test.shape)"
   ]
  },
  {
   "cell_type": "code",
   "execution_count": 11,
   "id": "feb66fe9",
   "metadata": {
    "execution": {
     "iopub.execute_input": "2022-12-14T15:13:22.442613Z",
     "iopub.status.busy": "2022-12-14T15:13:22.442162Z",
     "iopub.status.idle": "2022-12-14T15:13:22.454652Z",
     "shell.execute_reply": "2022-12-14T15:13:22.453613Z"
    },
    "papermill": {
     "duration": 0.026115,
     "end_time": "2022-12-14T15:13:22.457333",
     "exception": false,
     "start_time": "2022-12-14T15:13:22.431218",
     "status": "completed"
    },
    "tags": []
   },
   "outputs": [],
   "source": [
    "scaler = StandardScaler()\n",
    "X_train = scaler.fit_transform(X_train)\n",
    "X_test = scaler.transform(X_test)"
   ]
  },
  {
   "cell_type": "code",
   "execution_count": 12,
   "id": "fe48ebf7",
   "metadata": {
    "execution": {
     "iopub.execute_input": "2022-12-14T15:13:22.479749Z",
     "iopub.status.busy": "2022-12-14T15:13:22.478204Z",
     "iopub.status.idle": "2022-12-14T15:13:22.512572Z",
     "shell.execute_reply": "2022-12-14T15:13:22.511360Z"
    },
    "papermill": {
     "duration": 0.048233,
     "end_time": "2022-12-14T15:13:22.515301",
     "exception": false,
     "start_time": "2022-12-14T15:13:22.467068",
     "status": "completed"
    },
    "tags": []
   },
   "outputs": [
    {
     "name": "stdout",
     "output_type": "stream",
     "text": [
      "[0.7785388127853882, 0.7785388127853882, 0.7808219178082192, 0.7808219178082192, 0.7808219178082192, 0.776255707762557, 0.7808219178082192, 0.7808219178082192, 0.7785388127853882, 0.7785388127853882, 0.7785388127853882, 0.7785388127853882]\n"
     ]
    }
   ],
   "source": [
    "lr = LogisticRegression(max_iter = 10000, solver='liblinear')\n",
    "C = [0.0001,0.001,0.002,0.003,0.004,0.01,0.1,0.2,0.3,0.4,1.0,2.0]\n",
    "scores = []\n",
    "for choice in C:\n",
    "    lr.set_params(C=choice)\n",
    "    lr.fit(X_train,y_train)\n",
    "    scores.append(lr.score(X_test,y_test))\n",
    "\n",
    "print(scores)"
   ]
  },
  {
   "cell_type": "code",
   "execution_count": 13,
   "id": "9a062faf",
   "metadata": {
    "execution": {
     "iopub.execute_input": "2022-12-14T15:13:22.538490Z",
     "iopub.status.busy": "2022-12-14T15:13:22.538015Z",
     "iopub.status.idle": "2022-12-14T15:13:22.555812Z",
     "shell.execute_reply": "2022-12-14T15:13:22.554465Z"
    },
    "papermill": {
     "duration": 0.032819,
     "end_time": "2022-12-14T15:13:22.558434",
     "exception": false,
     "start_time": "2022-12-14T15:13:22.525615",
     "status": "completed"
    },
    "tags": []
   },
   "outputs": [
    {
     "data": {
      "text/plain": [
       "LogisticRegression(C=0.004, solver='liblinear')"
      ]
     },
     "execution_count": 13,
     "metadata": {},
     "output_type": "execute_result"
    }
   ],
   "source": [
    "LR = LogisticRegression(C=0.004,solver='liblinear').fit(X_train,y_train)\n",
    "LR"
   ]
  },
  {
   "cell_type": "code",
   "execution_count": 14,
   "id": "6536fca5",
   "metadata": {
    "execution": {
     "iopub.execute_input": "2022-12-14T15:13:22.581976Z",
     "iopub.status.busy": "2022-12-14T15:13:22.581244Z",
     "iopub.status.idle": "2022-12-14T15:13:22.589769Z",
     "shell.execute_reply": "2022-12-14T15:13:22.588790Z"
    },
    "papermill": {
     "duration": 0.023408,
     "end_time": "2022-12-14T15:13:22.592214",
     "exception": false,
     "start_time": "2022-12-14T15:13:22.568806",
     "status": "completed"
    },
    "tags": []
   },
   "outputs": [
    {
     "data": {
      "text/plain": [
       "array([1, 1, 0, 0, 1, 0, 1, 0, 0, 0, 1, 1, 1, 0, 1, 0, 1, 1, 0, 0, 0, 1,\n",
       "       0, 0, 1, 1, 1, 0, 1, 0, 0, 0, 0, 0, 1, 0, 1, 1, 0, 1, 0, 1, 1, 1,\n",
       "       1, 0, 0, 0, 1, 0, 0, 0, 1, 1, 0, 1, 0, 1, 1, 1, 0, 1, 0, 0, 1, 1,\n",
       "       1, 0, 0, 1, 1, 0, 1, 1, 1, 1, 0, 0, 0, 1, 1, 0, 1, 0, 0, 0, 0, 0,\n",
       "       1, 1, 0, 1, 0, 1, 1, 0, 1, 0, 0, 0, 0, 1, 1, 1, 1, 1, 0, 1, 1, 0,\n",
       "       0, 0, 1, 1, 1, 1, 1, 1, 1, 1, 1, 1, 0, 1, 1, 1, 0, 0, 1, 0, 1, 1,\n",
       "       1, 0, 1, 1, 1, 1, 1, 1, 0, 0, 0, 0, 1, 1, 1, 1, 1, 1, 1, 1, 0, 1,\n",
       "       1, 1, 0, 1, 0, 0, 0, 0, 1, 1, 0, 1, 1, 1, 1, 1, 1, 1, 1, 0, 1, 0,\n",
       "       1, 1, 1, 0, 1, 1, 1, 1, 1, 0, 0, 0, 1, 0, 1, 1, 1, 1, 1, 1, 1, 0,\n",
       "       1, 1, 1, 1, 1, 1, 1, 0, 0, 0, 1, 1, 1, 1, 0, 0, 1, 1, 0, 0, 1, 1,\n",
       "       0, 1, 1, 1, 1, 1, 1, 0, 1, 0, 0, 0, 0, 1, 1, 0, 0, 1, 1, 1, 1, 1,\n",
       "       1, 1, 1, 1, 1, 1, 0, 1, 0, 1, 0, 1, 0, 0, 1, 1, 0, 1, 1, 1, 0, 0,\n",
       "       0, 1, 0, 0, 0, 0, 1, 1, 1, 0, 1, 0, 0, 1, 1, 0, 0, 1, 1, 0, 0, 1,\n",
       "       1, 0, 1, 0, 1, 1, 1, 1, 0, 0, 0, 0, 1, 1, 0, 0, 0, 0, 0, 0, 1, 0,\n",
       "       1, 0, 1, 1, 0, 0, 1, 1, 0, 0, 1, 1, 1, 1, 1, 0, 0, 0, 1, 0, 0, 1,\n",
       "       1, 0, 1, 1, 0, 1, 0, 0, 1, 1, 1, 0, 1, 0, 1, 1, 0, 1, 1, 0, 0, 0,\n",
       "       0, 0, 0, 1, 0, 1, 1, 1, 0, 1, 1, 1, 1, 1, 0, 1, 0, 1, 1, 1, 1, 1,\n",
       "       1, 1, 1, 1, 0, 1, 0, 0, 1, 1, 1, 1, 1, 0, 1, 0, 1, 0, 1, 1, 1, 1,\n",
       "       1, 1, 1, 1, 0, 1, 0, 1, 1, 1, 1, 1, 0, 1, 1, 1, 0, 1, 0, 1, 1, 0,\n",
       "       1, 1, 1, 1, 0, 0, 1, 1, 1, 0, 1, 1, 0, 1, 0, 1, 0, 1, 1, 0])"
      ]
     },
     "execution_count": 14,
     "metadata": {},
     "output_type": "execute_result"
    }
   ],
   "source": [
    "yhat = LR.predict(X_test)\n",
    "yhat"
   ]
  },
  {
   "cell_type": "code",
   "execution_count": 15,
   "id": "1af9db67",
   "metadata": {
    "execution": {
     "iopub.execute_input": "2022-12-14T15:13:22.614252Z",
     "iopub.status.busy": "2022-12-14T15:13:22.613530Z",
     "iopub.status.idle": "2022-12-14T15:13:22.622041Z",
     "shell.execute_reply": "2022-12-14T15:13:22.620818Z"
    },
    "papermill": {
     "duration": 0.022793,
     "end_time": "2022-12-14T15:13:22.624893",
     "exception": false,
     "start_time": "2022-12-14T15:13:22.602100",
     "status": "completed"
    },
    "tags": []
   },
   "outputs": [
    {
     "data": {
      "text/plain": [
       "array([[0.44711355, 0.55288645],\n",
       "       [0.22370287, 0.77629713],\n",
       "       [0.56444787, 0.43555213],\n",
       "       [0.54918425, 0.45081575],\n",
       "       [0.47758916, 0.52241084]])"
      ]
     },
     "execution_count": 15,
     "metadata": {},
     "output_type": "execute_result"
    }
   ],
   "source": [
    "yhat_prob = LR.predict_proba(X_test)\n",
    "yhat_prob[0:5]"
   ]
  },
  {
   "cell_type": "code",
   "execution_count": 16,
   "id": "146fad05",
   "metadata": {
    "execution": {
     "iopub.execute_input": "2022-12-14T15:13:22.647288Z",
     "iopub.status.busy": "2022-12-14T15:13:22.646878Z",
     "iopub.status.idle": "2022-12-14T15:13:22.657523Z",
     "shell.execute_reply": "2022-12-14T15:13:22.655833Z"
    },
    "papermill": {
     "duration": 0.025053,
     "end_time": "2022-12-14T15:13:22.660209",
     "exception": false,
     "start_time": "2022-12-14T15:13:22.635156",
     "status": "completed"
    },
    "tags": []
   },
   "outputs": [
    {
     "name": "stdout",
     "output_type": "stream",
     "text": [
      "0.5733333333333334\n"
     ]
    }
   ],
   "source": [
    "JaccardIndex = jaccard_score(y_test, yhat,pos_label=0)\n",
    "print(JaccardIndex)"
   ]
  },
  {
   "cell_type": "code",
   "execution_count": 17,
   "id": "0d2db329",
   "metadata": {
    "execution": {
     "iopub.execute_input": "2022-12-14T15:13:22.684744Z",
     "iopub.status.busy": "2022-12-14T15:13:22.683788Z",
     "iopub.status.idle": "2022-12-14T15:13:22.692150Z",
     "shell.execute_reply": "2022-12-14T15:13:22.690734Z"
    },
    "papermill": {
     "duration": 0.02357,
     "end_time": "2022-12-14T15:13:22.695011",
     "exception": false,
     "start_time": "2022-12-14T15:13:22.671441",
     "status": "completed"
    },
    "tags": []
   },
   "outputs": [
    {
     "data": {
      "text/plain": [
       "0.7808219178082192"
      ]
     },
     "execution_count": 17,
     "metadata": {},
     "output_type": "execute_result"
    }
   ],
   "source": [
    "## Lets Get the Score\n",
    "LR.score(X_test,y_test)"
   ]
  },
  {
   "cell_type": "code",
   "execution_count": 18,
   "id": "d9887306",
   "metadata": {
    "execution": {
     "iopub.execute_input": "2022-12-14T15:13:22.718223Z",
     "iopub.status.busy": "2022-12-14T15:13:22.717817Z",
     "iopub.status.idle": "2022-12-14T15:13:22.727663Z",
     "shell.execute_reply": "2022-12-14T15:13:22.726178Z"
    },
    "papermill": {
     "duration": 0.024651,
     "end_time": "2022-12-14T15:13:22.730585",
     "exception": false,
     "start_time": "2022-12-14T15:13:22.705934",
     "status": "completed"
    },
    "tags": []
   },
   "outputs": [],
   "source": [
    "confusion_matrix = metrics.confusion_matrix(y_test, yhat)"
   ]
  },
  {
   "cell_type": "code",
   "execution_count": 19,
   "id": "7c3bcfab",
   "metadata": {
    "execution": {
     "iopub.execute_input": "2022-12-14T15:13:22.754351Z",
     "iopub.status.busy": "2022-12-14T15:13:22.753938Z",
     "iopub.status.idle": "2022-12-14T15:13:22.994211Z",
     "shell.execute_reply": "2022-12-14T15:13:22.992972Z"
    },
    "papermill": {
     "duration": 0.254752,
     "end_time": "2022-12-14T15:13:22.997032",
     "exception": false,
     "start_time": "2022-12-14T15:13:22.742280",
     "status": "completed"
    },
    "tags": []
   },
   "outputs": [
    {
     "data": {
      "image/png": "[encoded data removed]",
      "text/plain": [
       "<Figure size 432x288 with 2 Axes>"
      ]
     },
     "metadata": {
      "needs_background": "light"
     },
     "output_type": "display_data"
    }
   ],
   "source": [
    "cm_display = metrics.ConfusionMatrixDisplay(confusion_matrix=confusion_matrix, display_labels=[0,1])\n",
    "cm_display.plot()\n",
    "plt.show()"
   ]
  },
  {
   "cell_type": "code",
   "execution_count": 20,
   "id": "471ffa66",
   "metadata": {
    "execution": {
     "iopub.execute_input": "2022-12-14T15:13:23.020464Z",
     "iopub.status.busy": "2022-12-14T15:13:23.019538Z",
     "iopub.status.idle": "2022-12-14T15:13:23.026042Z",
     "shell.execute_reply": "2022-12-14T15:13:23.024949Z"
    },
    "papermill": {
     "duration": 0.02127,
     "end_time": "2022-12-14T15:13:23.028863",
     "exception": false,
     "start_time": "2022-12-14T15:13:23.007593",
     "status": "completed"
    },
    "tags": []
   },
   "outputs": [
    {
     "name": "stdout",
     "output_type": "stream",
     "text": [
      "Accuracy:  0.7808219178082192\n"
     ]
    }
   ],
   "source": [
    "## Accuracy\n",
    "Accuracy = metrics.accuracy_score(y_test,yhat)\n",
    "print(\"Accuracy: \", Accuracy)"
   ]
  },
  {
   "cell_type": "code",
   "execution_count": 21,
   "id": "b4336e11",
   "metadata": {
    "execution": {
     "iopub.execute_input": "2022-12-14T15:13:23.051555Z",
     "iopub.status.busy": "2022-12-14T15:13:23.051122Z",
     "iopub.status.idle": "2022-12-14T15:13:23.060462Z",
     "shell.execute_reply": "2022-12-14T15:13:23.058533Z"
    },
    "papermill": {
     "duration": 0.025097,
     "end_time": "2022-12-14T15:13:23.064333",
     "exception": false,
     "start_time": "2022-12-14T15:13:23.039236",
     "status": "completed"
    },
    "tags": []
   },
   "outputs": [
    {
     "name": "stdout",
     "output_type": "stream",
     "text": [
      "Precision:  0.8068181818181818\n"
     ]
    }
   ],
   "source": [
    "## Precision\n",
    "Precision = metrics.precision_score(y_test,yhat)\n",
    "print(\"Precision: \", Precision)"
   ]
  },
  {
   "cell_type": "code",
   "execution_count": 22,
   "id": "1c18d74b",
   "metadata": {
    "execution": {
     "iopub.execute_input": "2022-12-14T15:13:23.089422Z",
     "iopub.status.busy": "2022-12-14T15:13:23.088489Z",
     "iopub.status.idle": "2022-12-14T15:13:23.097292Z",
     "shell.execute_reply": "2022-12-14T15:13:23.095709Z"
    },
    "papermill": {
     "duration": 0.024108,
     "end_time": "2022-12-14T15:13:23.099915",
     "exception": false,
     "start_time": "2022-12-14T15:13:23.075807",
     "status": "completed"
    },
    "tags": []
   },
   "outputs": [
    {
     "name": "stdout",
     "output_type": "stream",
     "text": [
      "Sensitivity:  0.8255813953488372\n"
     ]
    }
   ],
   "source": [
    "## Sensitivity\n",
    "Sensitivity = metrics.recall_score(y_test,yhat)\n",
    "print(\"Sensitivity: \", Sensitivity)"
   ]
  },
  {
   "cell_type": "code",
   "execution_count": 23,
   "id": "270a94d1",
   "metadata": {
    "execution": {
     "iopub.execute_input": "2022-12-14T15:13:23.125277Z",
     "iopub.status.busy": "2022-12-14T15:13:23.124866Z",
     "iopub.status.idle": "2022-12-14T15:13:23.131695Z",
     "shell.execute_reply": "2022-12-14T15:13:23.130778Z"
    },
    "papermill": {
     "duration": 0.022632,
     "end_time": "2022-12-14T15:13:23.134395",
     "exception": false,
     "start_time": "2022-12-14T15:13:23.111763",
     "status": "completed"
    },
    "tags": []
   },
   "outputs": [
    {
     "name": "stdout",
     "output_type": "stream",
     "text": [
      "F1 SCORE:  0.8160919540229885\n"
     ]
    }
   ],
   "source": [
    "## F1 Score\n",
    "F1_score = metrics.f1_score(y_test,yhat)\n",
    "print(\"F1 SCORE: \", F1_score)"
   ]
  },
  {
   "cell_type": "code",
   "execution_count": 24,
   "id": "77e884c4",
   "metadata": {
    "execution": {
     "iopub.execute_input": "2022-12-14T15:13:23.159367Z",
     "iopub.status.busy": "2022-12-14T15:13:23.158962Z",
     "iopub.status.idle": "2022-12-14T15:13:23.169322Z",
     "shell.execute_reply": "2022-12-14T15:13:23.167444Z"
    },
    "papermill": {
     "duration": 0.026212,
     "end_time": "2022-12-14T15:13:23.172435",
     "exception": false,
     "start_time": "2022-12-14T15:13:23.146223",
     "status": "completed"
    },
    "tags": []
   },
   "outputs": [
    {
     "name": "stdout",
     "output_type": "stream",
     "text": [
      "Log_Loss:  7.570235875297638\n"
     ]
    }
   ],
   "source": [
    "logloss= metrics.log_loss(y_test,yhat)\n",
    "print(\"Log_Loss: \", logloss)"
   ]
  },
  {
   "cell_type": "code",
   "execution_count": 25,
   "id": "3f7e3532",
   "metadata": {
    "execution": {
     "iopub.execute_input": "2022-12-14T15:13:23.198276Z",
     "iopub.status.busy": "2022-12-14T15:13:23.197807Z",
     "iopub.status.idle": "2022-12-14T15:13:23.214564Z",
     "shell.execute_reply": "2022-12-14T15:13:23.212791Z"
    },
    "papermill": {
     "duration": 0.033297,
     "end_time": "2022-12-14T15:13:23.217572",
     "exception": false,
     "start_time": "2022-12-14T15:13:23.184275",
     "status": "completed"
    },
    "tags": []
   },
   "outputs": [
    {
     "data": {
      "text/html": [
       "<div>\n",
       "<style scoped>\n",
       "    .dataframe tbody tr th:only-of-type {\n",
       "        vertical-align: middle;\n",
       "    }\n",
       "\n",
       "    .dataframe tbody tr th {\n",
       "        vertical-align: top;\n",
       "    }\n",
       "\n",
       "    .dataframe thead th {\n",
       "        text-align: right;\n",
       "    }\n",
       "</style>\n",
       "<table border=\"1\" class=\"dataframe\">\n",
       "  <thead>\n",
       "    <tr style=\"text-align: right;\">\n",
       "      <th></th>\n",
       "      <th>Accuracy</th>\n",
       "      <th>JaccardIndex</th>\n",
       "      <th>F1</th>\n",
       "      <th>Log Loss</th>\n",
       "      <th>Sensitivity</th>\n",
       "    </tr>\n",
       "  </thead>\n",
       "  <tbody>\n",
       "    <tr>\n",
       "      <th>0</th>\n",
       "      <td>0.780822</td>\n",
       "      <td>0.573333</td>\n",
       "      <td>0.816092</td>\n",
       "      <td>7.570236</td>\n",
       "      <td>0.825581</td>\n",
       "    </tr>\n",
       "  </tbody>\n",
       "</table>\n",
       "</div>"
      ],
      "text/plain": [
       "   Accuracy  JaccardIndex        F1  Log Loss  Sensitivity\n",
       "0  0.780822      0.573333  0.816092  7.570236     0.825581"
      ]
     },
     "execution_count": 25,
     "metadata": {},
     "output_type": "execute_result"
    }
   ],
   "source": [
    "LR.score = pd.DataFrame({'Accuracy':[Accuracy],'JaccardIndex':[JaccardIndex],'F1':[F1_score],'Log Loss':[logloss],'Sensitivity':[Sensitivity]})\n",
    "LR.score"
   ]
  },
  {
   "cell_type": "code",
   "execution_count": 26,
   "id": "52736043",
   "metadata": {
    "execution": {
     "iopub.execute_input": "2022-12-14T15:13:23.243178Z",
     "iopub.status.busy": "2022-12-14T15:13:23.242703Z",
     "iopub.status.idle": "2022-12-14T15:13:23.570884Z",
     "shell.execute_reply": "2022-12-14T15:13:23.569575Z"
    },
    "papermill": {
     "duration": 0.344332,
     "end_time": "2022-12-14T15:13:23.573930",
     "exception": false,
     "start_time": "2022-12-14T15:13:23.229598",
     "status": "completed"
    },
    "tags": []
   },
   "outputs": [
    {
     "data": {
      "image/png": "[encoded data removed]",
      "text/plain": [
       "<Figure size 432x288 with 2 Axes>"
      ]
     },
     "metadata": {
      "needs_background": "light"
     },
     "output_type": "display_data"
    }
   ],
   "source": [
    "fig,ax = plt.subplots(1,2,sharey=True)\n",
    "ax[0] = sns.distplot(yhat,hist=False, color=\"r\",ax=ax[0])\n",
    "ax[1] = sns.distplot(y_train,hist=False,color='b',ax=ax[1])\n",
    "plt.show()"
   ]
  },
  {
   "cell_type": "code",
   "execution_count": 27,
   "id": "0266e763",
   "metadata": {
    "execution": {
     "iopub.execute_input": "2022-12-14T15:13:23.599766Z",
     "iopub.status.busy": "2022-12-14T15:13:23.599310Z",
     "iopub.status.idle": "2022-12-14T15:13:23.877123Z",
     "shell.execute_reply": "2022-12-14T15:13:23.875858Z"
    },
    "papermill": {
     "duration": 0.294043,
     "end_time": "2022-12-14T15:13:23.879799",
     "exception": false,
     "start_time": "2022-12-14T15:13:23.585756",
     "status": "completed"
    },
    "tags": []
   },
   "outputs": [
    {
     "data": {
      "image/png": "[encoded data removed]",
      "text/plain": [
       "<Figure size 432x288 with 1 Axes>"
      ]
     },
     "metadata": {
      "needs_background": "light"
     },
     "output_type": "display_data"
    }
   ],
   "source": [
    "ax = sns.distplot(yhat,hist=False, color=\"r\")\n",
    "ax1 = sns.distplot(y_train,hist=False,color='b',ax=ax)\n",
    "plt.legend([\"Predicted\", \"Actual\"], loc=0)\n",
    "plt.show()"
   ]
  },
  {
   "cell_type": "markdown",
   "id": "d501fada",
   "metadata": {
    "papermill": {
     "duration": 0.013053,
     "end_time": "2022-12-14T15:13:23.906760",
     "exception": false,
     "start_time": "2022-12-14T15:13:23.893707",
     "status": "completed"
    },
    "tags": []
   },
   "source": [
    "## THANK YOU"
   ]
  }
 ],
 "metadata": {
  "kernelspec": {
   "display_name": "Python 3",
   "language": "python",
   "name": "python3"
  },
  "language_info": {
   "codemirror_mode": {
    "name": "ipython",
    "version": 3
   },
   "file_extension": ".py",
   "mimetype": "text/x-python",
   "name": "python",
   "nbconvert_exporter": "python",
   "pygments_lexer": "ipython3",
   "version": "3.7.12"
  },
  "papermill": {
   "default_parameters": {},
   "duration": 16.39224,
   "end_time": "2022-12-14T15:13:24.743352",
   "environment_variables": {},
   "exception": null,
   "input_path": "__notebook__.ipynb",
   "output_path": "__notebook__.ipynb",
   "parameters": {},
   "start_time": "2022-12-14T15:13:08.351112",
   "version": "2.3.4"
  }
 },
 "nbformat": 4,
 "nbformat_minor": 5
}
