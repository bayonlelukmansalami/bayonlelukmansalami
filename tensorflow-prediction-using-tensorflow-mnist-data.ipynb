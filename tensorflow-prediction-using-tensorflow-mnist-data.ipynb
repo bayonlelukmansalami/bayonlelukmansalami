{
 "cells": [
  {
   "cell_type": "code",
   "execution_count": 1,
   "id": "34d18fe0",
   "metadata": {
    "execution": {
     "iopub.execute_input": "2022-10-16T15:50:40.092476Z",
     "iopub.status.busy": "2022-10-16T15:50:40.092041Z",
     "iopub.status.idle": "2022-10-16T15:50:46.394001Z",
     "shell.execute_reply": "2022-10-16T15:50:46.393149Z"
    },
    "papermill": {
     "duration": 6.311629,
     "end_time": "2022-10-16T15:50:46.396957",
     "exception": false,
     "start_time": "2022-10-16T15:50:40.085328",
     "status": "completed"
    },
    "tags": []
   },
   "outputs": [],
   "source": [
    "import numpy as np\n",
    "import pandas as pd\n",
    "import random\n",
    "import tensorflow as tf\n",
    "import matplotlib.pyplot as plt\n",
    "\n",
    "from tensorflow.keras.models import Sequential\n",
    "from tensorflow.keras.layers import Flatten,Conv2D,Dense,MaxPooling2D\n",
    "from tensorflow.keras.optimizers import SGD\n",
    "from tensorflow.keras.utils import to_categorical\n",
    "from tensorflow.keras.datasets import mnist"
   ]
  },
  {
   "cell_type": "markdown",
   "id": "6d3b17fe",
   "metadata": {
    "papermill": {
     "duration": 0.00354,
     "end_time": "2022-10-16T15:50:46.404981",
     "exception": false,
     "start_time": "2022-10-16T15:50:46.401441",
     "status": "completed"
    },
    "tags": []
   },
   "source": [
    "Load our dataset and split it to train and test"
   ]
  },
  {
   "cell_type": "code",
   "execution_count": 2,
   "id": "e8850b2c",
   "metadata": {
    "execution": {
     "iopub.execute_input": "2022-10-16T15:50:46.414814Z",
     "iopub.status.busy": "2022-10-16T15:50:46.413379Z",
     "iopub.status.idle": "2022-10-16T15:50:47.150283Z",
     "shell.execute_reply": "2022-10-16T15:50:47.149286Z"
    },
    "papermill": {
     "duration": 0.744183,
     "end_time": "2022-10-16T15:50:47.152837",
     "exception": false,
     "start_time": "2022-10-16T15:50:46.408654",
     "status": "completed"
    },
    "tags": []
   },
   "outputs": [
    {
     "name": "stdout",
     "output_type": "stream",
     "text": [
      "Downloading data from https://storage.googleapis.com/tensorflow/tf-keras-datasets/mnist.npz\n",
      "11493376/11490434 [==============================] - 0s 0us/step\n",
      "11501568/11490434 [==============================] - 0s 0us/step\n"
     ]
    }
   ],
   "source": [
    "(x_train,y_train),(x_test,y_test) = mnist.load_data()\n",
    "\n",
    "x_train = x_train.reshape((x_train.shape[0],28,28,1))\n",
    "x_train = x_train.astype('float32') / 255.0\n",
    "\n",
    "y_train = to_categorical(y_train)"
   ]
  },
  {
   "cell_type": "markdown",
   "id": "16e473c9",
   "metadata": {
    "papermill": {
     "duration": 0.003731,
     "end_time": "2022-10-16T15:50:47.160979",
     "exception": false,
     "start_time": "2022-10-16T15:50:47.157248",
     "status": "completed"
    },
    "tags": []
   },
   "source": [
    "### Modelling"
   ]
  },
  {
   "cell_type": "code",
   "execution_count": 3,
   "id": "a11d4a02",
   "metadata": {
    "execution": {
     "iopub.execute_input": "2022-10-16T15:50:47.171013Z",
     "iopub.status.busy": "2022-10-16T15:50:47.170279Z",
     "iopub.status.idle": "2022-10-16T15:50:47.303271Z",
     "shell.execute_reply": "2022-10-16T15:50:47.302464Z"
    },
    "papermill": {
     "duration": 0.14048,
     "end_time": "2022-10-16T15:50:47.305604",
     "exception": false,
     "start_time": "2022-10-16T15:50:47.165124",
     "status": "completed"
    },
    "tags": []
   },
   "outputs": [
    {
     "name": "stderr",
     "output_type": "stream",
     "text": [
      "2022-10-16 15:50:47.213507: I tensorflow/core/common_runtime/process_util.cc:146] Creating new thread pool with default inter op setting: 2. Tune using inter_op_parallelism_threads for best performance.\n"
     ]
    }
   ],
   "source": [
    "model = Sequential([\n",
    "    Conv2D(32,(3,3), activation='relu', input_shape=(28,28,1)),\n",
    "    MaxPooling2D((2,2)),\n",
    "    Flatten(),\n",
    "    Dense(100, activation='relu'),\n",
    "    Dense(10, activation='softmax')\n",
    "])"
   ]
  },
  {
   "cell_type": "markdown",
   "id": "67542dcc",
   "metadata": {
    "papermill": {
     "duration": 0.003868,
     "end_time": "2022-10-16T15:50:47.313690",
     "exception": false,
     "start_time": "2022-10-16T15:50:47.309822",
     "status": "completed"
    },
    "tags": []
   },
   "source": [
    "### Optimizer"
   ]
  },
  {
   "cell_type": "code",
   "execution_count": 4,
   "id": "5ac54a7b",
   "metadata": {
    "execution": {
     "iopub.execute_input": "2022-10-16T15:50:47.323540Z",
     "iopub.status.busy": "2022-10-16T15:50:47.322651Z",
     "iopub.status.idle": "2022-10-16T15:50:47.499821Z",
     "shell.execute_reply": "2022-10-16T15:50:47.498695Z"
    },
    "papermill": {
     "duration": 0.184958,
     "end_time": "2022-10-16T15:50:47.502534",
     "exception": false,
     "start_time": "2022-10-16T15:50:47.317576",
     "status": "completed"
    },
    "tags": []
   },
   "outputs": [],
   "source": [
    "optimizer = SGD(learning_rate=0.01, momentum=0.9)\n",
    "model.compile(\n",
    "    optimizer=optimizer,\n",
    "    loss='categorical_crossentropy',\n",
    "    metrics=['accuracy']\n",
    ")"
   ]
  },
  {
   "cell_type": "code",
   "execution_count": 5,
   "id": "0903909a",
   "metadata": {
    "execution": {
     "iopub.execute_input": "2022-10-16T15:50:47.512735Z",
     "iopub.status.busy": "2022-10-16T15:50:47.512336Z",
     "iopub.status.idle": "2022-10-16T15:53:10.223760Z",
     "shell.execute_reply": "2022-10-16T15:53:10.222267Z"
    },
    "papermill": {
     "duration": 142.719817,
     "end_time": "2022-10-16T15:53:10.226766",
     "exception": false,
     "start_time": "2022-10-16T15:50:47.506949",
     "status": "completed"
    },
    "tags": []
   },
   "outputs": [
    {
     "name": "stderr",
     "output_type": "stream",
     "text": [
      "2022-10-16 15:50:47.796230: I tensorflow/compiler/mlir/mlir_graph_optimization_pass.cc:185] None of the MLIR Optimization Passes are enabled (registered 2)\n"
     ]
    },
    {
     "name": "stdout",
     "output_type": "stream",
     "text": [
      "Epoch 1/10\n",
      "1875/1875 [==============================] - 13s 6ms/step - loss: 0.2295 - accuracy: 0.9302\n",
      "Epoch 2/10\n",
      "1875/1875 [==============================] - 12s 7ms/step - loss: 0.0731 - accuracy: 0.9772\n",
      "Epoch 3/10\n",
      "1875/1875 [==============================] - 13s 7ms/step - loss: 0.0481 - accuracy: 0.9853\n",
      "Epoch 4/10\n",
      "1875/1875 [==============================] - 12s 6ms/step - loss: 0.0354 - accuracy: 0.9887\n",
      "Epoch 5/10\n",
      "1875/1875 [==============================] - 13s 7ms/step - loss: 0.0263 - accuracy: 0.9915\n",
      "Epoch 6/10\n",
      "1875/1875 [==============================] - 12s 6ms/step - loss: 0.0193 - accuracy: 0.9941\n",
      "Epoch 7/10\n",
      "1875/1875 [==============================] - 12s 7ms/step - loss: 0.0139 - accuracy: 0.9958\n",
      "Epoch 8/10\n",
      "1875/1875 [==============================] - 13s 7ms/step - loss: 0.0102 - accuracy: 0.9970\n",
      "Epoch 9/10\n",
      "1875/1875 [==============================] - 12s 6ms/step - loss: 0.0075 - accuracy: 0.9982\n",
      "Epoch 10/10\n",
      "1875/1875 [==============================] - 12s 6ms/step - loss: 0.0056 - accuracy: 0.9987\n"
     ]
    }
   ],
   "source": [
    "history = model.fit(x_train,y_train,epochs=10,batch_size=32)"
   ]
  },
  {
   "cell_type": "code",
   "execution_count": 6,
   "id": "ff72e435",
   "metadata": {
    "execution": {
     "iopub.execute_input": "2022-10-16T15:53:10.517633Z",
     "iopub.status.busy": "2022-10-16T15:53:10.516986Z",
     "iopub.status.idle": "2022-10-16T15:53:10.521863Z",
     "shell.execute_reply": "2022-10-16T15:53:10.521099Z"
    },
    "papermill": {
     "duration": 0.154394,
     "end_time": "2022-10-16T15:53:10.524318",
     "exception": false,
     "start_time": "2022-10-16T15:53:10.369924",
     "status": "completed"
    },
    "tags": []
   },
   "outputs": [],
   "source": [
    "image = random.choice(x_test)"
   ]
  },
  {
   "cell_type": "code",
   "execution_count": 7,
   "id": "eb5a4fcd",
   "metadata": {
    "execution": {
     "iopub.execute_input": "2022-10-16T15:53:10.809950Z",
     "iopub.status.busy": "2022-10-16T15:53:10.809336Z",
     "iopub.status.idle": "2022-10-16T15:53:10.972024Z",
     "shell.execute_reply": "2022-10-16T15:53:10.970793Z"
    },
    "papermill": {
     "duration": 0.308055,
     "end_time": "2022-10-16T15:53:10.974182",
     "exception": false,
     "start_time": "2022-10-16T15:53:10.666127",
     "status": "completed"
    },
    "tags": []
   },
   "outputs": [
    {
     "data": {
      "image/png": "[encoded data removed]",
      "text/plain": [
       "<Figure size 432x288 with 1 Axes>"
      ]
     },
     "metadata": {
      "needs_background": "light"
     },
     "output_type": "display_data"
    }
   ],
   "source": [
    "plt.imshow(image,cmap=plt.get_cmap('gray'))\n",
    "plt.show()"
   ]
  },
  {
   "cell_type": "code",
   "execution_count": 8,
   "id": "8a6c063e",
   "metadata": {
    "execution": {
     "iopub.execute_input": "2022-10-16T15:53:11.330561Z",
     "iopub.status.busy": "2022-10-16T15:53:11.329827Z",
     "iopub.status.idle": "2022-10-16T15:53:11.334533Z",
     "shell.execute_reply": "2022-10-16T15:53:11.333728Z"
    },
    "papermill": {
     "duration": 0.21857,
     "end_time": "2022-10-16T15:53:11.336608",
     "exception": false,
     "start_time": "2022-10-16T15:53:11.118038",
     "status": "completed"
    },
    "tags": []
   },
   "outputs": [],
   "source": [
    "image = (image.reshape((1,28,28,1))).astype('float32') /255.0"
   ]
  },
  {
   "cell_type": "code",
   "execution_count": 9,
   "id": "45458e35",
   "metadata": {
    "execution": {
     "iopub.execute_input": "2022-10-16T15:53:11.623083Z",
     "iopub.status.busy": "2022-10-16T15:53:11.622320Z",
     "iopub.status.idle": "2022-10-16T15:53:11.765164Z",
     "shell.execute_reply": "2022-10-16T15:53:11.763972Z"
    },
    "papermill": {
     "duration": 0.290666,
     "end_time": "2022-10-16T15:53:11.768185",
     "exception": false,
     "start_time": "2022-10-16T15:53:11.477519",
     "status": "completed"
    },
    "tags": []
   },
   "outputs": [],
   "source": [
    "digit = np.argmax(model.predict(image)[0], axis=-1)"
   ]
  },
  {
   "cell_type": "code",
   "execution_count": 10,
   "id": "a59bcdb6",
   "metadata": {
    "execution": {
     "iopub.execute_input": "2022-10-16T15:53:12.052188Z",
     "iopub.status.busy": "2022-10-16T15:53:12.051746Z",
     "iopub.status.idle": "2022-10-16T15:53:12.058339Z",
     "shell.execute_reply": "2022-10-16T15:53:12.056749Z"
    },
    "papermill": {
     "duration": 0.151639,
     "end_time": "2022-10-16T15:53:12.060761",
     "exception": false,
     "start_time": "2022-10-16T15:53:11.909122",
     "status": "completed"
    },
    "tags": []
   },
   "outputs": [
    {
     "name": "stdout",
     "output_type": "stream",
     "text": [
      "Prediction: 6\n"
     ]
    }
   ],
   "source": [
    "print(\"Prediction:\", digit)"
   ]
  },
  {
   "cell_type": "code",
   "execution_count": null,
   "id": "77785fc6",
   "metadata": {
    "papermill": {
     "duration": 0.141504,
     "end_time": "2022-10-16T15:53:12.342717",
     "exception": false,
     "start_time": "2022-10-16T15:53:12.201213",
     "status": "completed"
    },
    "tags": []
   },
   "outputs": [],
   "source": []
  }
 ],
 "metadata": {
  "kernelspec": {
   "display_name": "Python 3",
   "language": "python",
   "name": "python3"
  },
  "language_info": {
   "codemirror_mode": {
    "name": "ipython",
    "version": 3
   },
   "file_extension": ".py",
   "mimetype": "text/x-python",
   "name": "python",
   "nbconvert_exporter": "python",
   "pygments_lexer": "ipython3",
   "version": "3.7.12"
  },
  "papermill": {
   "default_parameters": {},
   "duration": 164.258522,
   "end_time": "2022-10-16T15:53:15.582653",
   "environment_variables": {},
   "exception": null,
   "input_path": "__notebook__.ipynb",
   "output_path": "__notebook__.ipynb",
   "parameters": {},
   "start_time": "2022-10-16T15:50:31.324131",
   "version": "2.3.4"
  }
 },
 "nbformat": 4,
 "nbformat_minor": 5
}
