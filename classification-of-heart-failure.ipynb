{
 "cells": [
  {
   "cell_type": "markdown",
   "id": "41ffaba3",
   "metadata": {
    "papermill": {
     "duration": 0.016537,
     "end_time": "2022-12-14T15:46:39.941526",
     "exception": false,
     "start_time": "2022-12-14T15:46:39.924989",
     "status": "completed"
    },
    "tags": []
   },
   "source": [
    "\n",
    "# K-Nearest Neighbors\n",
    "\n",
    "\n",
    "\n",
    "## Objectives\n",
    "\n",
    "*   Use K Nearest neighbors to classify data\n"
   ]
  },
  {
   "cell_type": "markdown",
   "id": "3b57121d",
   "metadata": {
    "papermill": {
     "duration": 0.015647,
     "end_time": "2022-12-14T15:46:39.971875",
     "exception": false,
     "start_time": "2022-12-14T15:46:39.956228",
     "status": "completed"
    },
    "tags": []
   },
   "source": [
    "Let's load required libraries"
   ]
  },
  {
   "cell_type": "code",
   "execution_count": 1,
   "id": "9de137b6",
   "metadata": {
    "execution": {
     "iopub.execute_input": "2022-12-14T15:46:40.003041Z",
     "iopub.status.busy": "2022-12-14T15:46:40.002042Z",
     "iopub.status.idle": "2022-12-14T15:46:41.461231Z",
     "shell.execute_reply": "2022-12-14T15:46:41.460068Z"
    },
    "papermill": {
     "duration": 1.478112,
     "end_time": "2022-12-14T15:46:41.464111",
     "exception": false,
     "start_time": "2022-12-14T15:46:39.985999",
     "status": "completed"
    },
    "tags": []
   },
   "outputs": [],
   "source": [
    "import pandas as pd\n",
    "import numpy as np\n",
    "import matplotlib.pyplot as plt\n",
    "import seaborn as sns\n",
    "from sklearn import preprocessing\n",
    "from sklearn.model_selection import train_test_split\n",
    "from sklearn.neighbors import KNeighborsClassifier\n",
    "from sklearn import metrics\n",
    "import sklearn.tree as tree\n",
    "import warnings\n",
    "warnings.filterwarnings('ignore')\n",
    "%matplotlib inline"
   ]
  },
  {
   "cell_type": "markdown",
   "id": "3a3b9a81",
   "metadata": {
    "papermill": {
     "duration": 0.013864,
     "end_time": "2022-12-14T15:46:41.492303",
     "exception": false,
     "start_time": "2022-12-14T15:46:41.478439",
     "status": "completed"
    },
    "tags": []
   },
   "source": [
    "### About the dataset\n",
    "Dataset from Davide Chicco, Giuseppe Jurman: â€œMachine learning can predict survival of patients with heart failure from serum creatinine and ejection fraction alone. BMC Medical Informatics and Decision Making 20, 16 (2020)\n",
    "\n",
    "Import the dataset\n",
    "1\n",
    "This dataset was hosted on Kaggle. Click <a href=\"https://www.kaggle.com/datasets/sagar029/heart-failure?select=heart_failure.csv\">HERE</a>."
   ]
  },
  {
   "cell_type": "code",
   "execution_count": 2,
   "id": "cf06907e",
   "metadata": {
    "execution": {
     "iopub.execute_input": "2022-12-14T15:46:41.522395Z",
     "iopub.status.busy": "2022-12-14T15:46:41.521988Z",
     "iopub.status.idle": "2022-12-14T15:46:41.563394Z",
     "shell.execute_reply": "2022-12-14T15:46:41.562117Z"
    },
    "papermill": {
     "duration": 0.059494,
     "end_time": "2022-12-14T15:46:41.565964",
     "exception": false,
     "start_time": "2022-12-14T15:46:41.506470",
     "status": "completed"
    },
    "tags": []
   },
   "outputs": [
    {
     "data": {
      "text/html": [
       "<div>\n",
       "<style scoped>\n",
       "    .dataframe tbody tr th:only-of-type {\n",
       "        vertical-align: middle;\n",
       "    }\n",
       "\n",
       "    .dataframe tbody tr th {\n",
       "        vertical-align: top;\n",
       "    }\n",
       "\n",
       "    .dataframe thead th {\n",
       "        text-align: right;\n",
       "    }\n",
       "</style>\n",
       "<table border=\"1\" class=\"dataframe\">\n",
       "  <thead>\n",
       "    <tr style=\"text-align: right;\">\n",
       "      <th></th>\n",
       "      <th>age</th>\n",
       "      <th>anaemia</th>\n",
       "      <th>creatinine_phosphokinase</th>\n",
       "      <th>diabetes</th>\n",
       "      <th>ejection_fraction</th>\n",
       "      <th>high_blood_pressure</th>\n",
       "      <th>platelets</th>\n",
       "      <th>serum_creatinine</th>\n",
       "      <th>serum_sodium</th>\n",
       "      <th>sex</th>\n",
       "      <th>smoking</th>\n",
       "      <th>time</th>\n",
       "      <th>DEATH_EVENT</th>\n",
       "    </tr>\n",
       "  </thead>\n",
       "  <tbody>\n",
       "    <tr>\n",
       "      <th>0</th>\n",
       "      <td>75.0</td>\n",
       "      <td>0</td>\n",
       "      <td>582</td>\n",
       "      <td>0</td>\n",
       "      <td>20</td>\n",
       "      <td>1</td>\n",
       "      <td>265000.00</td>\n",
       "      <td>1.9</td>\n",
       "      <td>130</td>\n",
       "      <td>1</td>\n",
       "      <td>0</td>\n",
       "      <td>4</td>\n",
       "      <td>1</td>\n",
       "    </tr>\n",
       "    <tr>\n",
       "      <th>1</th>\n",
       "      <td>55.0</td>\n",
       "      <td>0</td>\n",
       "      <td>7861</td>\n",
       "      <td>0</td>\n",
       "      <td>38</td>\n",
       "      <td>0</td>\n",
       "      <td>263358.03</td>\n",
       "      <td>1.1</td>\n",
       "      <td>136</td>\n",
       "      <td>1</td>\n",
       "      <td>0</td>\n",
       "      <td>6</td>\n",
       "      <td>1</td>\n",
       "    </tr>\n",
       "    <tr>\n",
       "      <th>2</th>\n",
       "      <td>65.0</td>\n",
       "      <td>0</td>\n",
       "      <td>146</td>\n",
       "      <td>0</td>\n",
       "      <td>20</td>\n",
       "      <td>0</td>\n",
       "      <td>162000.00</td>\n",
       "      <td>1.3</td>\n",
       "      <td>129</td>\n",
       "      <td>1</td>\n",
       "      <td>1</td>\n",
       "      <td>7</td>\n",
       "      <td>1</td>\n",
       "    </tr>\n",
       "    <tr>\n",
       "      <th>3</th>\n",
       "      <td>50.0</td>\n",
       "      <td>1</td>\n",
       "      <td>111</td>\n",
       "      <td>0</td>\n",
       "      <td>20</td>\n",
       "      <td>0</td>\n",
       "      <td>210000.00</td>\n",
       "      <td>1.9</td>\n",
       "      <td>137</td>\n",
       "      <td>1</td>\n",
       "      <td>0</td>\n",
       "      <td>7</td>\n",
       "      <td>1</td>\n",
       "    </tr>\n",
       "    <tr>\n",
       "      <th>4</th>\n",
       "      <td>65.0</td>\n",
       "      <td>1</td>\n",
       "      <td>160</td>\n",
       "      <td>1</td>\n",
       "      <td>20</td>\n",
       "      <td>0</td>\n",
       "      <td>327000.00</td>\n",
       "      <td>2.7</td>\n",
       "      <td>116</td>\n",
       "      <td>0</td>\n",
       "      <td>0</td>\n",
       "      <td>8</td>\n",
       "      <td>1</td>\n",
       "    </tr>\n",
       "  </tbody>\n",
       "</table>\n",
       "</div>"
      ],
      "text/plain": [
       "    age  anaemia  creatinine_phosphokinase  diabetes  ejection_fraction  \\\n",
       "0  75.0        0                       582         0                 20   \n",
       "1  55.0        0                      7861         0                 38   \n",
       "2  65.0        0                       146         0                 20   \n",
       "3  50.0        1                       111         0                 20   \n",
       "4  65.0        1                       160         1                 20   \n",
       "\n",
       "   high_blood_pressure  platelets  serum_creatinine  serum_sodium  sex  \\\n",
       "0                    1  265000.00               1.9           130    1   \n",
       "1                    0  263358.03               1.1           136    1   \n",
       "2                    0  162000.00               1.3           129    1   \n",
       "3                    0  210000.00               1.9           137    1   \n",
       "4                    0  327000.00               2.7           116    0   \n",
       "\n",
       "   smoking  time  DEATH_EVENT  \n",
       "0        0     4            1  \n",
       "1        0     6            1  \n",
       "2        1     7            1  \n",
       "3        0     7            1  \n",
       "4        0     8            1  "
      ]
     },
     "execution_count": 2,
     "metadata": {},
     "output_type": "execute_result"
    }
   ],
   "source": [
    "df = pd.read_csv(\"../input/heart-failure/heart_failure.csv\")\n",
    "df.head()"
   ]
  },
  {
   "cell_type": "code",
   "execution_count": 3,
   "id": "6beaf656",
   "metadata": {
    "execution": {
     "iopub.execute_input": "2022-12-14T15:46:41.598180Z",
     "iopub.status.busy": "2022-12-14T15:46:41.597793Z",
     "iopub.status.idle": "2022-12-14T15:46:41.614933Z",
     "shell.execute_reply": "2022-12-14T15:46:41.613865Z"
    },
    "papermill": {
     "duration": 0.035397,
     "end_time": "2022-12-14T15:46:41.617363",
     "exception": false,
     "start_time": "2022-12-14T15:46:41.581966",
     "status": "completed"
    },
    "tags": []
   },
   "outputs": [
    {
     "data": {
      "text/html": [
       "<div>\n",
       "<style scoped>\n",
       "    .dataframe tbody tr th:only-of-type {\n",
       "        vertical-align: middle;\n",
       "    }\n",
       "\n",
       "    .dataframe tbody tr th {\n",
       "        vertical-align: top;\n",
       "    }\n",
       "\n",
       "    .dataframe thead th {\n",
       "        text-align: right;\n",
       "    }\n",
       "</style>\n",
       "<table border=\"1\" class=\"dataframe\">\n",
       "  <thead>\n",
       "    <tr style=\"text-align: right;\">\n",
       "      <th></th>\n",
       "      <th>age</th>\n",
       "      <th>anaemia</th>\n",
       "      <th>creatinine_phosphokinase</th>\n",
       "      <th>diabetes</th>\n",
       "      <th>ejection_fraction</th>\n",
       "      <th>high_blood_pressure</th>\n",
       "      <th>platelets</th>\n",
       "      <th>serum_creatinine</th>\n",
       "      <th>serum_sodium</th>\n",
       "      <th>sex</th>\n",
       "      <th>smoking</th>\n",
       "      <th>time</th>\n",
       "      <th>DEATH_EVENT</th>\n",
       "    </tr>\n",
       "  </thead>\n",
       "  <tbody>\n",
       "    <tr>\n",
       "      <th>294</th>\n",
       "      <td>62.0</td>\n",
       "      <td>0</td>\n",
       "      <td>61</td>\n",
       "      <td>1</td>\n",
       "      <td>38</td>\n",
       "      <td>1</td>\n",
       "      <td>155000.0</td>\n",
       "      <td>1.1</td>\n",
       "      <td>143</td>\n",
       "      <td>1</td>\n",
       "      <td>1</td>\n",
       "      <td>270</td>\n",
       "      <td>0</td>\n",
       "    </tr>\n",
       "    <tr>\n",
       "      <th>295</th>\n",
       "      <td>55.0</td>\n",
       "      <td>0</td>\n",
       "      <td>1820</td>\n",
       "      <td>0</td>\n",
       "      <td>38</td>\n",
       "      <td>0</td>\n",
       "      <td>270000.0</td>\n",
       "      <td>1.2</td>\n",
       "      <td>139</td>\n",
       "      <td>0</td>\n",
       "      <td>0</td>\n",
       "      <td>271</td>\n",
       "      <td>0</td>\n",
       "    </tr>\n",
       "    <tr>\n",
       "      <th>296</th>\n",
       "      <td>45.0</td>\n",
       "      <td>0</td>\n",
       "      <td>2060</td>\n",
       "      <td>1</td>\n",
       "      <td>60</td>\n",
       "      <td>0</td>\n",
       "      <td>742000.0</td>\n",
       "      <td>0.8</td>\n",
       "      <td>138</td>\n",
       "      <td>0</td>\n",
       "      <td>0</td>\n",
       "      <td>278</td>\n",
       "      <td>0</td>\n",
       "    </tr>\n",
       "    <tr>\n",
       "      <th>297</th>\n",
       "      <td>45.0</td>\n",
       "      <td>0</td>\n",
       "      <td>2413</td>\n",
       "      <td>0</td>\n",
       "      <td>38</td>\n",
       "      <td>0</td>\n",
       "      <td>140000.0</td>\n",
       "      <td>1.4</td>\n",
       "      <td>140</td>\n",
       "      <td>1</td>\n",
       "      <td>1</td>\n",
       "      <td>280</td>\n",
       "      <td>0</td>\n",
       "    </tr>\n",
       "    <tr>\n",
       "      <th>298</th>\n",
       "      <td>50.0</td>\n",
       "      <td>0</td>\n",
       "      <td>196</td>\n",
       "      <td>0</td>\n",
       "      <td>45</td>\n",
       "      <td>0</td>\n",
       "      <td>395000.0</td>\n",
       "      <td>1.6</td>\n",
       "      <td>136</td>\n",
       "      <td>1</td>\n",
       "      <td>1</td>\n",
       "      <td>285</td>\n",
       "      <td>0</td>\n",
       "    </tr>\n",
       "  </tbody>\n",
       "</table>\n",
       "</div>"
      ],
      "text/plain": [
       "      age  anaemia  creatinine_phosphokinase  diabetes  ejection_fraction  \\\n",
       "294  62.0        0                        61         1                 38   \n",
       "295  55.0        0                      1820         0                 38   \n",
       "296  45.0        0                      2060         1                 60   \n",
       "297  45.0        0                      2413         0                 38   \n",
       "298  50.0        0                       196         0                 45   \n",
       "\n",
       "     high_blood_pressure  platelets  serum_creatinine  serum_sodium  sex  \\\n",
       "294                    1   155000.0               1.1           143    1   \n",
       "295                    0   270000.0               1.2           139    0   \n",
       "296                    0   742000.0               0.8           138    0   \n",
       "297                    0   140000.0               1.4           140    1   \n",
       "298                    0   395000.0               1.6           136    1   \n",
       "\n",
       "     smoking  time  DEATH_EVENT  \n",
       "294        1   270            0  \n",
       "295        0   271            0  \n",
       "296        0   278            0  \n",
       "297        1   280            0  \n",
       "298        1   285            0  "
      ]
     },
     "execution_count": 3,
     "metadata": {},
     "output_type": "execute_result"
    }
   ],
   "source": [
    "df.tail()"
   ]
  },
  {
   "cell_type": "code",
   "execution_count": 4,
   "id": "bfe81301",
   "metadata": {
    "execution": {
     "iopub.execute_input": "2022-12-14T15:46:41.648312Z",
     "iopub.status.busy": "2022-12-14T15:46:41.647899Z",
     "iopub.status.idle": "2022-12-14T15:46:41.654668Z",
     "shell.execute_reply": "2022-12-14T15:46:41.653584Z"
    },
    "papermill": {
     "duration": 0.024953,
     "end_time": "2022-12-14T15:46:41.656983",
     "exception": false,
     "start_time": "2022-12-14T15:46:41.632030",
     "status": "completed"
    },
    "tags": []
   },
   "outputs": [
    {
     "data": {
      "text/plain": [
       "(299, 13)"
      ]
     },
     "execution_count": 4,
     "metadata": {},
     "output_type": "execute_result"
    }
   ],
   "source": [
    "df.shape"
   ]
  },
  {
   "cell_type": "code",
   "execution_count": 5,
   "id": "c6f6795d",
   "metadata": {
    "execution": {
     "iopub.execute_input": "2022-12-14T15:46:41.688149Z",
     "iopub.status.busy": "2022-12-14T15:46:41.687713Z",
     "iopub.status.idle": "2022-12-14T15:46:41.695298Z",
     "shell.execute_reply": "2022-12-14T15:46:41.693992Z"
    },
    "papermill": {
     "duration": 0.02623,
     "end_time": "2022-12-14T15:46:41.697708",
     "exception": false,
     "start_time": "2022-12-14T15:46:41.671478",
     "status": "completed"
    },
    "tags": []
   },
   "outputs": [
    {
     "data": {
      "text/plain": [
       "Index(['age', 'anaemia', 'creatinine_phosphokinase', 'diabetes',\n",
       "       'ejection_fraction', 'high_blood_pressure', 'platelets',\n",
       "       'serum_creatinine', 'serum_sodium', 'sex', 'smoking', 'time',\n",
       "       'DEATH_EVENT'],\n",
       "      dtype='object')"
      ]
     },
     "execution_count": 5,
     "metadata": {},
     "output_type": "execute_result"
    }
   ],
   "source": [
    "df.columns"
   ]
  },
  {
   "cell_type": "code",
   "execution_count": 6,
   "id": "fed3cdc3",
   "metadata": {
    "execution": {
     "iopub.execute_input": "2022-12-14T15:46:41.729931Z",
     "iopub.status.busy": "2022-12-14T15:46:41.728723Z",
     "iopub.status.idle": "2022-12-14T15:46:41.755524Z",
     "shell.execute_reply": "2022-12-14T15:46:41.754331Z"
    },
    "papermill": {
     "duration": 0.046169,
     "end_time": "2022-12-14T15:46:41.758841",
     "exception": false,
     "start_time": "2022-12-14T15:46:41.712672",
     "status": "completed"
    },
    "tags": []
   },
   "outputs": [
    {
     "name": "stdout",
     "output_type": "stream",
     "text": [
      "<class 'pandas.core.frame.DataFrame'>\n",
      "RangeIndex: 299 entries, 0 to 298\n",
      "Data columns (total 13 columns):\n",
      " #   Column                    Non-Null Count  Dtype  \n",
      "---  ------                    --------------  -----  \n",
      " 0   age                       299 non-null    float64\n",
      " 1   anaemia                   299 non-null    int64  \n",
      " 2   creatinine_phosphokinase  299 non-null    int64  \n",
      " 3   diabetes                  299 non-null    int64  \n",
      " 4   ejection_fraction         299 non-null    int64  \n",
      " 5   high_blood_pressure       299 non-null    int64  \n",
      " 6   platelets                 299 non-null    float64\n",
      " 7   serum_creatinine          299 non-null    float64\n",
      " 8   serum_sodium              299 non-null    int64  \n",
      " 9   sex                       299 non-null    int64  \n",
      " 10  smoking                   299 non-null    int64  \n",
      " 11  time                      299 non-null    int64  \n",
      " 12  DEATH_EVENT               299 non-null    int64  \n",
      "dtypes: float64(3), int64(10)\n",
      "memory usage: 30.5 KB\n"
     ]
    }
   ],
   "source": [
    "df.info()"
   ]
  },
  {
   "cell_type": "markdown",
   "id": "f96a0781",
   "metadata": {
    "papermill": {
     "duration": 0.01521,
     "end_time": "2022-12-14T15:46:41.789204",
     "exception": false,
     "start_time": "2022-12-14T15:46:41.773994",
     "status": "completed"
    },
    "tags": []
   },
   "source": [
    "### Cleaning The Data"
   ]
  },
  {
   "cell_type": "code",
   "execution_count": 7,
   "id": "69930496",
   "metadata": {
    "execution": {
     "iopub.execute_input": "2022-12-14T15:46:41.821688Z",
     "iopub.status.busy": "2022-12-14T15:46:41.821114Z",
     "iopub.status.idle": "2022-12-14T15:46:41.830069Z",
     "shell.execute_reply": "2022-12-14T15:46:41.829190Z"
    },
    "papermill": {
     "duration": 0.027719,
     "end_time": "2022-12-14T15:46:41.832154",
     "exception": false,
     "start_time": "2022-12-14T15:46:41.804435",
     "status": "completed"
    },
    "tags": []
   },
   "outputs": [
    {
     "data": {
      "text/plain": [
       "age                         0\n",
       "anaemia                     0\n",
       "creatinine_phosphokinase    0\n",
       "diabetes                    0\n",
       "ejection_fraction           0\n",
       "high_blood_pressure         0\n",
       "platelets                   0\n",
       "serum_creatinine            0\n",
       "serum_sodium                0\n",
       "sex                         0\n",
       "smoking                     0\n",
       "time                        0\n",
       "DEATH_EVENT                 0\n",
       "dtype: int64"
      ]
     },
     "execution_count": 7,
     "metadata": {},
     "output_type": "execute_result"
    }
   ],
   "source": [
    "# Missing values\n",
    "df.isnull().sum()"
   ]
  },
  {
   "cell_type": "code",
   "execution_count": 8,
   "id": "a4acae22",
   "metadata": {
    "execution": {
     "iopub.execute_input": "2022-12-14T15:46:41.863946Z",
     "iopub.status.busy": "2022-12-14T15:46:41.863480Z",
     "iopub.status.idle": "2022-12-14T15:46:41.874650Z",
     "shell.execute_reply": "2022-12-14T15:46:41.873577Z"
    },
    "papermill": {
     "duration": 0.030088,
     "end_time": "2022-12-14T15:46:41.877067",
     "exception": false,
     "start_time": "2022-12-14T15:46:41.846979",
     "status": "completed"
    },
    "tags": []
   },
   "outputs": [
    {
     "data": {
      "text/plain": [
       "0"
      ]
     },
     "execution_count": 8,
     "metadata": {},
     "output_type": "execute_result"
    }
   ],
   "source": [
    "# Check for dupicate\n",
    "df.duplicated().sum()"
   ]
  },
  {
   "cell_type": "markdown",
   "id": "79720429",
   "metadata": {
    "papermill": {
     "duration": 0.015065,
     "end_time": "2022-12-14T15:46:41.907429",
     "exception": false,
     "start_time": "2022-12-14T15:46:41.892364",
     "status": "completed"
    },
    "tags": []
   },
   "source": [
    "#### Inspecting our columns"
   ]
  },
  {
   "cell_type": "code",
   "execution_count": 9,
   "id": "ef45be2a",
   "metadata": {
    "execution": {
     "iopub.execute_input": "2022-12-14T15:46:41.939306Z",
     "iopub.status.busy": "2022-12-14T15:46:41.938912Z",
     "iopub.status.idle": "2022-12-14T15:46:41.946589Z",
     "shell.execute_reply": "2022-12-14T15:46:41.945310Z"
    },
    "papermill": {
     "duration": 0.026446,
     "end_time": "2022-12-14T15:46:41.949093",
     "exception": false,
     "start_time": "2022-12-14T15:46:41.922647",
     "status": "completed"
    },
    "tags": []
   },
   "outputs": [
    {
     "data": {
      "text/plain": [
       "Index(['age', 'anaemia', 'creatinine_phosphokinase', 'diabetes',\n",
       "       'ejection_fraction', 'high_blood_pressure', 'platelets',\n",
       "       'serum_creatinine', 'serum_sodium', 'sex', 'smoking', 'time'],\n",
       "      dtype='object')"
      ]
     },
     "execution_count": 9,
     "metadata": {},
     "output_type": "execute_result"
    }
   ],
   "source": [
    "Cols = df.columns.drop(\"DEATH_EVENT\")\n",
    "Cols"
   ]
  },
  {
   "cell_type": "code",
   "execution_count": 10,
   "id": "19eb99f6",
   "metadata": {
    "execution": {
     "iopub.execute_input": "2022-12-14T15:46:41.981561Z",
     "iopub.status.busy": "2022-12-14T15:46:41.981176Z",
     "iopub.status.idle": "2022-12-14T15:46:56.210758Z",
     "shell.execute_reply": "2022-12-14T15:46:56.209546Z"
    },
    "papermill": {
     "duration": 14.248919,
     "end_time": "2022-12-14T15:46:56.213225",
     "exception": false,
     "start_time": "2022-12-14T15:46:41.964306",
     "status": "completed"
    },
    "tags": []
   },
   "outputs": [
    {
     "data": {
      "image/png": "[encoded data removed]",
      "text/plain": [
       "<Figure size 1296x432 with 1 Axes>"
      ]
     },
     "metadata": {
      "needs_background": "light"
     },
     "output_type": "display_data"
    },
    {
     "data": {
      "image/png": "[encoded data removed]",
      "text/plain": [
       "<Figure size 1296x432 with 1 Axes>"
      ]
     },
     "metadata": {
      "needs_background": "light"
     },
     "output_type": "display_data"
    },
    {
     "data": {
      "image/png": "[encoded data removed]",
      "text/plain": [
       "<Figure size 1296x432 with 1 Axes>"
      ]
     },
     "metadata": {
      "needs_background": "light"
     },
     "output_type": "display_data"
    },
    {
     "data": {
      "image/png": "[encoded data removed]",
      "text/plain": [
       "<Figure size 1296x432 with 1 Axes>"
      ]
     },
     "metadata": {
      "needs_background": "light"
     },
     "output_type": "display_data"
    },
    {
     "data": {
      "image/png": "[encoded data removed]",
      "text/plain": [
       "<Figure size 1296x432 with 1 Axes>"
      ]
     },
     "metadata": {
      "needs_background": "light"
     },
     "output_type": "display_data"
    },
    {
     "data": {
      "image/png": "[encoded data removed]",
      "text/plain": [
       "<Figure size 1296x432 with 1 Axes>"
      ]
     },
     "metadata": {
      "needs_background": "light"
     },
     "output_type": "display_data"
    },
    {
     "data": {
      "image/png": "[encoded data removed]",
      "text/plain": [
       "<Figure size 1296x432 with 1 Axes>"
      ]
     },
     "metadata": {
      "needs_background": "light"
     },
     "output_type": "display_data"
    },
    {
     "data": {
      "image/png": "[encoded data removed]",
      "text/plain": [
       "<Figure size 1296x432 with 1 Axes>"
      ]
     },
     "metadata": {
      "needs_background": "light"
     },
     "output_type": "display_data"
    },
    {
     "data": {
      "image/png": "[encoded data removed]",
      "text/plain": [
       "<Figure size 1296x432 with 1 Axes>"
      ]
     },
     "metadata": {
      "needs_background": "light"
     },
     "output_type": "display_data"
    },
    {
     "data": {
      "image/png": "[encoded data removed]",
      "text/plain": [
       "<Figure size 1296x432 with 1 Axes>"
      ]
     },
     "metadata": {
      "needs_background": "light"
     },
     "output_type": "display_data"
    },
    {
     "data": {
      "image/png": "[encoded data removed]",
      "text/plain": [
       "<Figure size 1296x432 with 1 Axes>"
      ]
     },
     "metadata": {
      "needs_background": "light"
     },
     "output_type": "display_data"
    },
    {
     "data": {
      "image/png": "[encoded data removed]",
      "text/plain": [
       "<Figure size 1296x432 with 1 Axes>"
      ]
     },
     "metadata": {
      "needs_background": "light"
     },
     "output_type": "display_data"
    }
   ],
   "source": [
    "for col in Cols:\n",
    "    plt.figure(figsize=(18,6))\n",
    "    sns.boxplot(x=col, y=\"DEATH_EVENT\", data=df)\n",
    "    plt.show()"
   ]
  },
  {
   "cell_type": "code",
   "execution_count": 11,
   "id": "5f17e717",
   "metadata": {
    "execution": {
     "iopub.execute_input": "2022-12-14T15:46:56.255514Z",
     "iopub.status.busy": "2022-12-14T15:46:56.254543Z",
     "iopub.status.idle": "2022-12-14T15:46:56.586682Z",
     "shell.execute_reply": "2022-12-14T15:46:56.585808Z"
    },
    "papermill": {
     "duration": 0.356003,
     "end_time": "2022-12-14T15:46:56.589556",
     "exception": false,
     "start_time": "2022-12-14T15:46:56.233553",
     "status": "completed"
    },
    "tags": []
   },
   "outputs": [
    {
     "data": {
      "image/png": "[encoded data removed]",
      "text/plain": [
       "<Figure size 1296x432 with 1 Axes>"
      ]
     },
     "metadata": {
      "needs_background": "light"
     },
     "output_type": "display_data"
    }
   ],
   "source": [
    "# Outliers values\n",
    "plt.figure(figsize=(18,6))\n",
    "plt.boxplot(df, labels=df.columns)\n",
    "plt.show()"
   ]
  },
  {
   "cell_type": "markdown",
   "id": "a273ac3d",
   "metadata": {
    "papermill": {
     "duration": 0.01967,
     "end_time": "2022-12-14T15:46:56.629345",
     "exception": false,
     "start_time": "2022-12-14T15:46:56.609675",
     "status": "completed"
    },
    "tags": []
   },
   "source": [
    "### Creatinine phosphokinase column"
   ]
  },
  {
   "cell_type": "code",
   "execution_count": 12,
   "id": "7340f70a",
   "metadata": {
    "execution": {
     "iopub.execute_input": "2022-12-14T15:46:56.670892Z",
     "iopub.status.busy": "2022-12-14T15:46:56.670046Z",
     "iopub.status.idle": "2022-12-14T15:46:56.679997Z",
     "shell.execute_reply": "2022-12-14T15:46:56.678888Z"
    },
    "papermill": {
     "duration": 0.033299,
     "end_time": "2022-12-14T15:46:56.682368",
     "exception": false,
     "start_time": "2022-12-14T15:46:56.649069",
     "status": "completed"
    },
    "tags": []
   },
   "outputs": [
    {
     "data": {
      "text/plain": [
       "count     299.000000\n",
       "mean      581.839465\n",
       "std       970.287881\n",
       "min        23.000000\n",
       "25%       116.500000\n",
       "50%       250.000000\n",
       "75%       582.000000\n",
       "max      7861.000000\n",
       "Name: creatinine_phosphokinase, dtype: float64"
      ]
     },
     "execution_count": 12,
     "metadata": {},
     "output_type": "execute_result"
    }
   ],
   "source": [
    "df['creatinine_phosphokinase'].describe()"
   ]
  },
  {
   "cell_type": "code",
   "execution_count": 13,
   "id": "6e987eca",
   "metadata": {
    "execution": {
     "iopub.execute_input": "2022-12-14T15:46:56.728282Z",
     "iopub.status.busy": "2022-12-14T15:46:56.727877Z",
     "iopub.status.idle": "2022-12-14T15:46:57.012984Z",
     "shell.execute_reply": "2022-12-14T15:46:57.011860Z"
    },
    "papermill": {
     "duration": 0.312999,
     "end_time": "2022-12-14T15:46:57.015891",
     "exception": false,
     "start_time": "2022-12-14T15:46:56.702892",
     "status": "completed"
    },
    "tags": []
   },
   "outputs": [
    {
     "data": {
      "text/plain": [
       "Text(0.5, 1.0, 'Outliers values')"
      ]
     },
     "execution_count": 13,
     "metadata": {},
     "output_type": "execute_result"
    },
    {
     "data": {
      "image/png": "[encoded data removed]",
      "text/plain": [
       "<Figure size 1440x1080 with 1 Axes>"
      ]
     },
     "metadata": {
      "needs_background": "light"
     },
     "output_type": "display_data"
    }
   ],
   "source": [
    "plt.figure(figsize=(20, 15))\n",
    "sns.boxplot(df['creatinine_phosphokinase'], labels=['Creatinine Phosphokinase'])\n",
    "plt.title('Outliers values')"
   ]
  },
  {
   "cell_type": "code",
   "execution_count": 14,
   "id": "c78c801c",
   "metadata": {
    "execution": {
     "iopub.execute_input": "2022-12-14T15:46:57.063095Z",
     "iopub.status.busy": "2022-12-14T15:46:57.062263Z",
     "iopub.status.idle": "2022-12-14T15:46:57.073561Z",
     "shell.execute_reply": "2022-12-14T15:46:57.072485Z"
    },
    "papermill": {
     "duration": 0.035928,
     "end_time": "2022-12-14T15:46:57.076186",
     "exception": false,
     "start_time": "2022-12-14T15:46:57.040258",
     "status": "completed"
    },
    "tags": []
   },
   "outputs": [],
   "source": [
    "def clean_data(data,col='column_name'):\n",
    "    \n",
    "    '''Takes a Dataframe column and remove outliers by replacing the outliers greater than maximum \n",
    "    with the maximum and outliers lower than the minimum with the minimum\n",
    "    \n",
    "    \n",
    "        Parameters:\n",
    "            data (2d array): Pandas Dataframe column\n",
    "    \n",
    "            col (str) : The Dataframe Column name\n",
    "    \n",
    "        Returns:\n",
    "            Cleaned column: Description of return value\n",
    "    \n",
    "    '''\n",
    "    \n",
    "    import numpy as np\n",
    "    import pandas as pd\n",
    "    import seaborn as sns\n",
    "    q1 = data[col].quantile(0.25)\n",
    "    q3 = data[col].quantile(0.75)\n",
    "\n",
    "    iqr = q3 - q1\n",
    "\n",
    "    min = q1 - 1.5*(iqr)\n",
    "    max = q3 + 1.5*(iqr)\n",
    "    \n",
    "    for i in data.index:\n",
    "        if data.loc[i, col] > max:\n",
    "            data.loc[i, col] = max\n",
    "        if data.loc[i, col] < min:\n",
    "            data.loc[i, col] = min\n",
    "    plt.figure(figsize=(20, 15))        \n",
    "    sns.boxplot(data[col],orient='v')\n",
    "    plt.title(f'Cleaned {col} column')\n",
    "    plt.show()"
   ]
  },
  {
   "cell_type": "code",
   "execution_count": 15,
   "id": "53811cf4",
   "metadata": {
    "execution": {
     "iopub.execute_input": "2022-12-14T15:46:57.122588Z",
     "iopub.status.busy": "2022-12-14T15:46:57.122217Z",
     "iopub.status.idle": "2022-12-14T15:46:57.381201Z",
     "shell.execute_reply": "2022-12-14T15:46:57.380019Z"
    },
    "papermill": {
     "duration": 0.285977,
     "end_time": "2022-12-14T15:46:57.383640",
     "exception": false,
     "start_time": "2022-12-14T15:46:57.097663",
     "status": "completed"
    },
    "tags": []
   },
   "outputs": [
    {
     "data": {
      "image/png": "[encoded data removed]",
      "text/plain": [
       "<Figure size 1440x1080 with 1 Axes>"
      ]
     },
     "metadata": {
      "needs_background": "light"
     },
     "output_type": "display_data"
    }
   ],
   "source": [
    "clean_data(df, 'creatinine_phosphokinase')"
   ]
  },
  {
   "cell_type": "code",
   "execution_count": 16,
   "id": "7a06cd99",
   "metadata": {
    "execution": {
     "iopub.execute_input": "2022-12-14T15:46:57.427931Z",
     "iopub.status.busy": "2022-12-14T15:46:57.427513Z",
     "iopub.status.idle": "2022-12-14T15:46:57.439933Z",
     "shell.execute_reply": "2022-12-14T15:46:57.438681Z"
    },
    "papermill": {
     "duration": 0.037506,
     "end_time": "2022-12-14T15:46:57.442670",
     "exception": false,
     "start_time": "2022-12-14T15:46:57.405164",
     "status": "completed"
    },
    "tags": []
   },
   "outputs": [
    {
     "data": {
      "text/plain": [
       "count    299.000000\n",
       "mean      38.083612\n",
       "std       11.834841\n",
       "min       14.000000\n",
       "25%       30.000000\n",
       "50%       38.000000\n",
       "75%       45.000000\n",
       "max       80.000000\n",
       "Name: ejection_fraction, dtype: float64"
      ]
     },
     "execution_count": 16,
     "metadata": {},
     "output_type": "execute_result"
    }
   ],
   "source": [
    "df['ejection_fraction'].describe()"
   ]
  },
  {
   "cell_type": "code",
   "execution_count": 17,
   "id": "f8e195d0",
   "metadata": {
    "execution": {
     "iopub.execute_input": "2022-12-14T15:46:57.487148Z",
     "iopub.status.busy": "2022-12-14T15:46:57.486403Z",
     "iopub.status.idle": "2022-12-14T15:46:57.737140Z",
     "shell.execute_reply": "2022-12-14T15:46:57.736020Z"
    },
    "papermill": {
     "duration": 0.275497,
     "end_time": "2022-12-14T15:46:57.739389",
     "exception": false,
     "start_time": "2022-12-14T15:46:57.463892",
     "status": "completed"
    },
    "tags": []
   },
   "outputs": [
    {
     "data": {
      "text/plain": [
       "Text(0.5, 1.0, 'Outliers values')"
      ]
     },
     "execution_count": 17,
     "metadata": {},
     "output_type": "execute_result"
    },
    {
     "data": {
      "image/png": "[encoded data removed]",
      "text/plain": [
       "<Figure size 1440x1080 with 1 Axes>"
      ]
     },
     "metadata": {
      "needs_background": "light"
     },
     "output_type": "display_data"
    }
   ],
   "source": [
    "plt.figure(figsize=(20, 15))\n",
    "sns.boxplot(df['ejection_fraction'], labels=['Ejection fraction'])\n",
    "plt.title('Outliers values')"
   ]
  },
  {
   "cell_type": "code",
   "execution_count": 18,
   "id": "8508eac1",
   "metadata": {
    "execution": {
     "iopub.execute_input": "2022-12-14T15:46:57.785929Z",
     "iopub.status.busy": "2022-12-14T15:46:57.785491Z",
     "iopub.status.idle": "2022-12-14T15:46:58.021506Z",
     "shell.execute_reply": "2022-12-14T15:46:58.020410Z"
    },
    "papermill": {
     "duration": 0.262818,
     "end_time": "2022-12-14T15:46:58.023852",
     "exception": false,
     "start_time": "2022-12-14T15:46:57.761034",
     "status": "completed"
    },
    "tags": []
   },
   "outputs": [
    {
     "data": {
      "image/png": "[encoded data removed]",
      "text/plain": [
       "<Figure size 1440x1080 with 1 Axes>"
      ]
     },
     "metadata": {
      "needs_background": "light"
     },
     "output_type": "display_data"
    }
   ],
   "source": [
    "clean_data(df, 'ejection_fraction')"
   ]
  },
  {
   "cell_type": "code",
   "execution_count": 19,
   "id": "a086bc39",
   "metadata": {
    "execution": {
     "iopub.execute_input": "2022-12-14T15:46:58.069683Z",
     "iopub.status.busy": "2022-12-14T15:46:58.068537Z",
     "iopub.status.idle": "2022-12-14T15:46:58.079615Z",
     "shell.execute_reply": "2022-12-14T15:46:58.078105Z"
    },
    "papermill": {
     "duration": 0.036223,
     "end_time": "2022-12-14T15:46:58.082131",
     "exception": false,
     "start_time": "2022-12-14T15:46:58.045908",
     "status": "completed"
    },
    "tags": []
   },
   "outputs": [
    {
     "data": {
      "text/plain": [
       "count       299.000000\n",
       "mean     263358.029264\n",
       "std       97804.236869\n",
       "min       25100.000000\n",
       "25%      212500.000000\n",
       "50%      262000.000000\n",
       "75%      303500.000000\n",
       "max      850000.000000\n",
       "Name: platelets, dtype: float64"
      ]
     },
     "execution_count": 19,
     "metadata": {},
     "output_type": "execute_result"
    }
   ],
   "source": [
    "df['platelets'].describe()"
   ]
  },
  {
   "cell_type": "code",
   "execution_count": 20,
   "id": "d61c691f",
   "metadata": {
    "execution": {
     "iopub.execute_input": "2022-12-14T15:46:58.128679Z",
     "iopub.status.busy": "2022-12-14T15:46:58.127580Z",
     "iopub.status.idle": "2022-12-14T15:46:58.368568Z",
     "shell.execute_reply": "2022-12-14T15:46:58.367452Z"
    },
    "papermill": {
     "duration": 0.267008,
     "end_time": "2022-12-14T15:46:58.371155",
     "exception": false,
     "start_time": "2022-12-14T15:46:58.104147",
     "status": "completed"
    },
    "tags": []
   },
   "outputs": [
    {
     "data": {
      "text/plain": [
       "Text(0.5, 1.0, 'Outliers values')"
      ]
     },
     "execution_count": 20,
     "metadata": {},
     "output_type": "execute_result"
    },
    {
     "data": {
      "image/png": "[encoded data removed]",
      "text/plain": [
       "<Figure size 1440x1080 with 1 Axes>"
      ]
     },
     "metadata": {
      "needs_background": "light"
     },
     "output_type": "display_data"
    }
   ],
   "source": [
    "plt.figure(figsize=(20, 15))\n",
    "sns.boxplot(df['platelets'], labels=['platelets'])\n",
    "plt.title('Outliers values')"
   ]
  },
  {
   "cell_type": "code",
   "execution_count": 21,
   "id": "ac3653fc",
   "metadata": {
    "execution": {
     "iopub.execute_input": "2022-12-14T15:46:58.416613Z",
     "iopub.status.busy": "2022-12-14T15:46:58.416201Z",
     "iopub.status.idle": "2022-12-14T15:46:58.669366Z",
     "shell.execute_reply": "2022-12-14T15:46:58.668286Z"
    },
    "papermill": {
     "duration": 0.278655,
     "end_time": "2022-12-14T15:46:58.671882",
     "exception": false,
     "start_time": "2022-12-14T15:46:58.393227",
     "status": "completed"
    },
    "tags": []
   },
   "outputs": [
    {
     "data": {
      "image/png": "[encoded data removed]",
      "text/plain": [
       "<Figure size 1440x1080 with 1 Axes>"
      ]
     },
     "metadata": {
      "needs_background": "light"
     },
     "output_type": "display_data"
    }
   ],
   "source": [
    "clean_data(df, 'platelets')"
   ]
  },
  {
   "cell_type": "code",
   "execution_count": 22,
   "id": "bf2052cb",
   "metadata": {
    "execution": {
     "iopub.execute_input": "2022-12-14T15:46:58.718376Z",
     "iopub.status.busy": "2022-12-14T15:46:58.717420Z",
     "iopub.status.idle": "2022-12-14T15:46:58.728698Z",
     "shell.execute_reply": "2022-12-14T15:46:58.727572Z"
    },
    "papermill": {
     "duration": 0.036912,
     "end_time": "2022-12-14T15:46:58.731147",
     "exception": false,
     "start_time": "2022-12-14T15:46:58.694235",
     "status": "completed"
    },
    "tags": []
   },
   "outputs": [
    {
     "data": {
      "text/plain": [
       "count    299.00000\n",
       "mean       1.39388\n",
       "std        1.03451\n",
       "min        0.50000\n",
       "25%        0.90000\n",
       "50%        1.10000\n",
       "75%        1.40000\n",
       "max        9.40000\n",
       "Name: serum_creatinine, dtype: float64"
      ]
     },
     "execution_count": 22,
     "metadata": {},
     "output_type": "execute_result"
    }
   ],
   "source": [
    "df['serum_creatinine'].describe()"
   ]
  },
  {
   "cell_type": "code",
   "execution_count": 23,
   "id": "647648d3",
   "metadata": {
    "execution": {
     "iopub.execute_input": "2022-12-14T15:46:58.777335Z",
     "iopub.status.busy": "2022-12-14T15:46:58.776943Z",
     "iopub.status.idle": "2022-12-14T15:46:59.020743Z",
     "shell.execute_reply": "2022-12-14T15:46:59.019602Z"
    },
    "papermill": {
     "duration": 0.269924,
     "end_time": "2022-12-14T15:46:59.023174",
     "exception": false,
     "start_time": "2022-12-14T15:46:58.753250",
     "status": "completed"
    },
    "tags": []
   },
   "outputs": [
    {
     "data": {
      "text/plain": [
       "Text(0.5, 1.0, 'Outliers values')"
      ]
     },
     "execution_count": 23,
     "metadata": {},
     "output_type": "execute_result"
    },
    {
     "data": {
      "image/png": "[encoded data removed]",
      "text/plain": [
       "<Figure size 1440x1080 with 1 Axes>"
      ]
     },
     "metadata": {
      "needs_background": "light"
     },
     "output_type": "display_data"
    }
   ],
   "source": [
    "plt.figure(figsize=(20, 15))\n",
    "plt.boxplot(df['serum_creatinine'], labels=['Serum creatinine'])\n",
    "plt.title('Outliers values')"
   ]
  },
  {
   "cell_type": "code",
   "execution_count": 24,
   "id": "d5355db7",
   "metadata": {
    "execution": {
     "iopub.execute_input": "2022-12-14T15:46:59.070843Z",
     "iopub.status.busy": "2022-12-14T15:46:59.070399Z",
     "iopub.status.idle": "2022-12-14T15:46:59.318795Z",
     "shell.execute_reply": "2022-12-14T15:46:59.317949Z"
    },
    "papermill": {
     "duration": 0.275014,
     "end_time": "2022-12-14T15:46:59.321116",
     "exception": false,
     "start_time": "2022-12-14T15:46:59.046102",
     "status": "completed"
    },
    "tags": []
   },
   "outputs": [
    {
     "data": {
      "image/png": "[encoded data removed]",
      "text/plain": [
       "<Figure size 1440x1080 with 1 Axes>"
      ]
     },
     "metadata": {
      "needs_background": "light"
     },
     "output_type": "display_data"
    }
   ],
   "source": [
    "clean_data(df, 'serum_creatinine')"
   ]
  },
  {
   "cell_type": "code",
   "execution_count": 25,
   "id": "ebb99af0",
   "metadata": {
    "execution": {
     "iopub.execute_input": "2022-12-14T15:46:59.369149Z",
     "iopub.status.busy": "2022-12-14T15:46:59.368051Z",
     "iopub.status.idle": "2022-12-14T15:46:59.379191Z",
     "shell.execute_reply": "2022-12-14T15:46:59.378195Z"
    },
    "papermill": {
     "duration": 0.037682,
     "end_time": "2022-12-14T15:46:59.381461",
     "exception": false,
     "start_time": "2022-12-14T15:46:59.343779",
     "status": "completed"
    },
    "tags": []
   },
   "outputs": [
    {
     "data": {
      "text/plain": [
       "count    299.000000\n",
       "mean     136.625418\n",
       "std        4.412477\n",
       "min      113.000000\n",
       "25%      134.000000\n",
       "50%      137.000000\n",
       "75%      140.000000\n",
       "max      148.000000\n",
       "Name: serum_sodium, dtype: float64"
      ]
     },
     "execution_count": 25,
     "metadata": {},
     "output_type": "execute_result"
    }
   ],
   "source": [
    "df.serum_sodium.describe()"
   ]
  },
  {
   "cell_type": "code",
   "execution_count": 26,
   "id": "f202f152",
   "metadata": {
    "execution": {
     "iopub.execute_input": "2022-12-14T15:46:59.430330Z",
     "iopub.status.busy": "2022-12-14T15:46:59.429382Z",
     "iopub.status.idle": "2022-12-14T15:46:59.682904Z",
     "shell.execute_reply": "2022-12-14T15:46:59.681695Z"
    },
    "papermill": {
     "duration": 0.281423,
     "end_time": "2022-12-14T15:46:59.685766",
     "exception": false,
     "start_time": "2022-12-14T15:46:59.404343",
     "status": "completed"
    },
    "tags": []
   },
   "outputs": [
    {
     "data": {
      "text/plain": [
       "Text(0.5, 1.0, 'Outliers values')"
      ]
     },
     "execution_count": 26,
     "metadata": {},
     "output_type": "execute_result"
    },
    {
     "data": {
      "image/png": "[encoded data removed]",
      "text/plain": [
       "<Figure size 1440x1080 with 1 Axes>"
      ]
     },
     "metadata": {
      "needs_background": "light"
     },
     "output_type": "display_data"
    }
   ],
   "source": [
    "plt.figure(figsize=(20, 15))\n",
    "sns.boxplot(df['serum_sodium'], labels=['Serum sodium'])\n",
    "plt.title('Outliers values')"
   ]
  },
  {
   "cell_type": "code",
   "execution_count": 27,
   "id": "c673cccd",
   "metadata": {
    "execution": {
     "iopub.execute_input": "2022-12-14T15:46:59.733864Z",
     "iopub.status.busy": "2022-12-14T15:46:59.733462Z",
     "iopub.status.idle": "2022-12-14T15:46:59.976351Z",
     "shell.execute_reply": "2022-12-14T15:46:59.975163Z"
    },
    "papermill": {
     "duration": 0.269565,
     "end_time": "2022-12-14T15:46:59.978828",
     "exception": false,
     "start_time": "2022-12-14T15:46:59.709263",
     "status": "completed"
    },
    "tags": []
   },
   "outputs": [
    {
     "data": {
      "image/png": "[encoded data removed]",
      "text/plain": [
       "<Figure size 1440x1080 with 1 Axes>"
      ]
     },
     "metadata": {
      "needs_background": "light"
     },
     "output_type": "display_data"
    }
   ],
   "source": [
    "clean_data(df, 'serum_sodium')"
   ]
  },
  {
   "cell_type": "markdown",
   "id": "481ca1fd",
   "metadata": {
    "papermill": {
     "duration": 0.024257,
     "end_time": "2022-12-14T15:47:00.026840",
     "exception": false,
     "start_time": "2022-12-14T15:47:00.002583",
     "status": "completed"
    },
    "tags": []
   },
   "source": [
    "### Dropping the time column"
   ]
  },
  {
   "cell_type": "code",
   "execution_count": 28,
   "id": "1848010d",
   "metadata": {
    "execution": {
     "iopub.execute_input": "2022-12-14T15:47:00.077670Z",
     "iopub.status.busy": "2022-12-14T15:47:00.077257Z",
     "iopub.status.idle": "2022-12-14T15:47:00.085327Z",
     "shell.execute_reply": "2022-12-14T15:47:00.084484Z"
    },
    "papermill": {
     "duration": 0.035926,
     "end_time": "2022-12-14T15:47:00.087345",
     "exception": false,
     "start_time": "2022-12-14T15:47:00.051419",
     "status": "completed"
    },
    "tags": []
   },
   "outputs": [],
   "source": [
    "df.drop('time', axis=1, inplace=True)"
   ]
  },
  {
   "cell_type": "markdown",
   "id": "463b5c42",
   "metadata": {
    "papermill": {
     "duration": 0.024388,
     "end_time": "2022-12-14T15:47:00.136574",
     "exception": false,
     "start_time": "2022-12-14T15:47:00.112186",
     "status": "completed"
    },
    "tags": []
   },
   "source": [
    "## Exploring the data\n"
   ]
  },
  {
   "cell_type": "code",
   "execution_count": 29,
   "id": "51369e39",
   "metadata": {
    "execution": {
     "iopub.execute_input": "2022-12-14T15:47:00.188179Z",
     "iopub.status.busy": "2022-12-14T15:47:00.187304Z",
     "iopub.status.idle": "2022-12-14T15:47:00.205790Z",
     "shell.execute_reply": "2022-12-14T15:47:00.204952Z"
    },
    "papermill": {
     "duration": 0.046583,
     "end_time": "2022-12-14T15:47:00.207827",
     "exception": false,
     "start_time": "2022-12-14T15:47:00.161244",
     "status": "completed"
    },
    "tags": []
   },
   "outputs": [
    {
     "data": {
      "text/html": [
       "<div>\n",
       "<style scoped>\n",
       "    .dataframe tbody tr th:only-of-type {\n",
       "        vertical-align: middle;\n",
       "    }\n",
       "\n",
       "    .dataframe tbody tr th {\n",
       "        vertical-align: top;\n",
       "    }\n",
       "\n",
       "    .dataframe thead th {\n",
       "        text-align: right;\n",
       "    }\n",
       "</style>\n",
       "<table border=\"1\" class=\"dataframe\">\n",
       "  <thead>\n",
       "    <tr style=\"text-align: right;\">\n",
       "      <th></th>\n",
       "      <th>age</th>\n",
       "      <th>anaemia</th>\n",
       "      <th>creatinine_phosphokinase</th>\n",
       "      <th>diabetes</th>\n",
       "      <th>ejection_fraction</th>\n",
       "      <th>high_blood_pressure</th>\n",
       "      <th>platelets</th>\n",
       "      <th>serum_creatinine</th>\n",
       "      <th>serum_sodium</th>\n",
       "      <th>sex</th>\n",
       "      <th>smoking</th>\n",
       "      <th>DEATH_EVENT</th>\n",
       "    </tr>\n",
       "  </thead>\n",
       "  <tbody>\n",
       "    <tr>\n",
       "      <th>0</th>\n",
       "      <td>75.0</td>\n",
       "      <td>0</td>\n",
       "      <td>582.00</td>\n",
       "      <td>0</td>\n",
       "      <td>20.0</td>\n",
       "      <td>1</td>\n",
       "      <td>265000.00</td>\n",
       "      <td>1.90</td>\n",
       "      <td>130</td>\n",
       "      <td>1</td>\n",
       "      <td>0</td>\n",
       "      <td>1</td>\n",
       "    </tr>\n",
       "    <tr>\n",
       "      <th>1</th>\n",
       "      <td>55.0</td>\n",
       "      <td>0</td>\n",
       "      <td>1280.25</td>\n",
       "      <td>0</td>\n",
       "      <td>38.0</td>\n",
       "      <td>0</td>\n",
       "      <td>263358.03</td>\n",
       "      <td>1.10</td>\n",
       "      <td>136</td>\n",
       "      <td>1</td>\n",
       "      <td>0</td>\n",
       "      <td>1</td>\n",
       "    </tr>\n",
       "    <tr>\n",
       "      <th>2</th>\n",
       "      <td>65.0</td>\n",
       "      <td>0</td>\n",
       "      <td>146.00</td>\n",
       "      <td>0</td>\n",
       "      <td>20.0</td>\n",
       "      <td>0</td>\n",
       "      <td>162000.00</td>\n",
       "      <td>1.30</td>\n",
       "      <td>129</td>\n",
       "      <td>1</td>\n",
       "      <td>1</td>\n",
       "      <td>1</td>\n",
       "    </tr>\n",
       "    <tr>\n",
       "      <th>3</th>\n",
       "      <td>50.0</td>\n",
       "      <td>1</td>\n",
       "      <td>111.00</td>\n",
       "      <td>0</td>\n",
       "      <td>20.0</td>\n",
       "      <td>0</td>\n",
       "      <td>210000.00</td>\n",
       "      <td>1.90</td>\n",
       "      <td>137</td>\n",
       "      <td>1</td>\n",
       "      <td>0</td>\n",
       "      <td>1</td>\n",
       "    </tr>\n",
       "    <tr>\n",
       "      <th>4</th>\n",
       "      <td>65.0</td>\n",
       "      <td>1</td>\n",
       "      <td>160.00</td>\n",
       "      <td>1</td>\n",
       "      <td>20.0</td>\n",
       "      <td>0</td>\n",
       "      <td>327000.00</td>\n",
       "      <td>2.15</td>\n",
       "      <td>125</td>\n",
       "      <td>0</td>\n",
       "      <td>0</td>\n",
       "      <td>1</td>\n",
       "    </tr>\n",
       "    <tr>\n",
       "      <th>5</th>\n",
       "      <td>90.0</td>\n",
       "      <td>1</td>\n",
       "      <td>47.00</td>\n",
       "      <td>0</td>\n",
       "      <td>40.0</td>\n",
       "      <td>1</td>\n",
       "      <td>204000.00</td>\n",
       "      <td>2.10</td>\n",
       "      <td>132</td>\n",
       "      <td>1</td>\n",
       "      <td>1</td>\n",
       "      <td>1</td>\n",
       "    </tr>\n",
       "    <tr>\n",
       "      <th>6</th>\n",
       "      <td>75.0</td>\n",
       "      <td>1</td>\n",
       "      <td>246.00</td>\n",
       "      <td>0</td>\n",
       "      <td>15.0</td>\n",
       "      <td>0</td>\n",
       "      <td>127000.00</td>\n",
       "      <td>1.20</td>\n",
       "      <td>137</td>\n",
       "      <td>1</td>\n",
       "      <td>0</td>\n",
       "      <td>1</td>\n",
       "    </tr>\n",
       "    <tr>\n",
       "      <th>7</th>\n",
       "      <td>60.0</td>\n",
       "      <td>1</td>\n",
       "      <td>315.00</td>\n",
       "      <td>1</td>\n",
       "      <td>60.0</td>\n",
       "      <td>0</td>\n",
       "      <td>440000.00</td>\n",
       "      <td>1.10</td>\n",
       "      <td>131</td>\n",
       "      <td>1</td>\n",
       "      <td>1</td>\n",
       "      <td>1</td>\n",
       "    </tr>\n",
       "    <tr>\n",
       "      <th>8</th>\n",
       "      <td>65.0</td>\n",
       "      <td>0</td>\n",
       "      <td>157.00</td>\n",
       "      <td>0</td>\n",
       "      <td>65.0</td>\n",
       "      <td>0</td>\n",
       "      <td>263358.03</td>\n",
       "      <td>1.50</td>\n",
       "      <td>138</td>\n",
       "      <td>0</td>\n",
       "      <td>0</td>\n",
       "      <td>1</td>\n",
       "    </tr>\n",
       "    <tr>\n",
       "      <th>9</th>\n",
       "      <td>80.0</td>\n",
       "      <td>1</td>\n",
       "      <td>123.00</td>\n",
       "      <td>0</td>\n",
       "      <td>35.0</td>\n",
       "      <td>1</td>\n",
       "      <td>388000.00</td>\n",
       "      <td>2.15</td>\n",
       "      <td>133</td>\n",
       "      <td>1</td>\n",
       "      <td>1</td>\n",
       "      <td>1</td>\n",
       "    </tr>\n",
       "  </tbody>\n",
       "</table>\n",
       "</div>"
      ],
      "text/plain": [
       "    age  anaemia  creatinine_phosphokinase  diabetes  ejection_fraction  \\\n",
       "0  75.0        0                    582.00         0               20.0   \n",
       "1  55.0        0                   1280.25         0               38.0   \n",
       "2  65.0        0                    146.00         0               20.0   \n",
       "3  50.0        1                    111.00         0               20.0   \n",
       "4  65.0        1                    160.00         1               20.0   \n",
       "5  90.0        1                     47.00         0               40.0   \n",
       "6  75.0        1                    246.00         0               15.0   \n",
       "7  60.0        1                    315.00         1               60.0   \n",
       "8  65.0        0                    157.00         0               65.0   \n",
       "9  80.0        1                    123.00         0               35.0   \n",
       "\n",
       "   high_blood_pressure  platelets  serum_creatinine  serum_sodium  sex  \\\n",
       "0                    1  265000.00              1.90           130    1   \n",
       "1                    0  263358.03              1.10           136    1   \n",
       "2                    0  162000.00              1.30           129    1   \n",
       "3                    0  210000.00              1.90           137    1   \n",
       "4                    0  327000.00              2.15           125    0   \n",
       "5                    1  204000.00              2.10           132    1   \n",
       "6                    0  127000.00              1.20           137    1   \n",
       "7                    0  440000.00              1.10           131    1   \n",
       "8                    0  263358.03              1.50           138    0   \n",
       "9                    1  388000.00              2.15           133    1   \n",
       "\n",
       "   smoking  DEATH_EVENT  \n",
       "0        0            1  \n",
       "1        0            1  \n",
       "2        1            1  \n",
       "3        0            1  \n",
       "4        0            1  \n",
       "5        1            1  \n",
       "6        0            1  \n",
       "7        1            1  \n",
       "8        0            1  \n",
       "9        1            1  "
      ]
     },
     "execution_count": 29,
     "metadata": {},
     "output_type": "execute_result"
    }
   ],
   "source": [
    "df.head(10)"
   ]
  },
  {
   "cell_type": "markdown",
   "id": "14417598",
   "metadata": {
    "papermill": {
     "duration": 0.024444,
     "end_time": "2022-12-14T15:47:00.257558",
     "exception": false,
     "start_time": "2022-12-14T15:47:00.233114",
     "status": "completed"
    },
    "tags": []
   },
   "source": [
    "### Feature set\n",
    "Let's define feature sets, X:"
   ]
  },
  {
   "cell_type": "code",
   "execution_count": 30,
   "id": "95f0ffaf",
   "metadata": {
    "execution": {
     "iopub.execute_input": "2022-12-14T15:47:00.311687Z",
     "iopub.status.busy": "2022-12-14T15:47:00.310866Z",
     "iopub.status.idle": "2022-12-14T15:47:00.321533Z",
     "shell.execute_reply": "2022-12-14T15:47:00.320812Z"
    },
    "papermill": {
     "duration": 0.041459,
     "end_time": "2022-12-14T15:47:00.323774",
     "exception": false,
     "start_time": "2022-12-14T15:47:00.282315",
     "status": "completed"
    },
    "tags": []
   },
   "outputs": [
    {
     "data": {
      "text/plain": [
       "array([[7.5000000e+01, 0.0000000e+00, 5.8200000e+02, 0.0000000e+00,\n",
       "        2.0000000e+01, 1.0000000e+00, 2.6500000e+05, 1.9000000e+00,\n",
       "        1.3000000e+02, 1.0000000e+00, 0.0000000e+00],\n",
       "       [5.5000000e+01, 0.0000000e+00, 1.2802500e+03, 0.0000000e+00,\n",
       "        3.8000000e+01, 0.0000000e+00, 2.6335803e+05, 1.1000000e+00,\n",
       "        1.3600000e+02, 1.0000000e+00, 0.0000000e+00],\n",
       "       [6.5000000e+01, 0.0000000e+00, 1.4600000e+02, 0.0000000e+00,\n",
       "        2.0000000e+01, 0.0000000e+00, 1.6200000e+05, 1.3000000e+00,\n",
       "        1.2900000e+02, 1.0000000e+00, 1.0000000e+00],\n",
       "       [5.0000000e+01, 1.0000000e+00, 1.1100000e+02, 0.0000000e+00,\n",
       "        2.0000000e+01, 0.0000000e+00, 2.1000000e+05, 1.9000000e+00,\n",
       "        1.3700000e+02, 1.0000000e+00, 0.0000000e+00],\n",
       "       [6.5000000e+01, 1.0000000e+00, 1.6000000e+02, 1.0000000e+00,\n",
       "        2.0000000e+01, 0.0000000e+00, 3.2700000e+05, 2.1500000e+00,\n",
       "        1.2500000e+02, 0.0000000e+00, 0.0000000e+00]])"
      ]
     },
     "execution_count": 30,
     "metadata": {},
     "output_type": "execute_result"
    }
   ],
   "source": [
    "X = df[['age', 'anaemia','creatinine_phosphokinase', 'diabetes', 'ejection_fraction', 'high_blood_pressure', 'platelets', 'serum_creatinine','serum_sodium', 'sex', 'smoking']].values  #.astype(float)\n",
    "X[0:5]\n"
   ]
  },
  {
   "cell_type": "markdown",
   "id": "833366da",
   "metadata": {
    "papermill": {
     "duration": 0.024722,
     "end_time": "2022-12-14T15:47:00.374076",
     "exception": false,
     "start_time": "2022-12-14T15:47:00.349354",
     "status": "completed"
    },
    "tags": []
   },
   "source": [
    "What are our labels?"
   ]
  },
  {
   "cell_type": "code",
   "execution_count": 31,
   "id": "d2fd87c1",
   "metadata": {
    "execution": {
     "iopub.execute_input": "2022-12-14T15:47:00.426949Z",
     "iopub.status.busy": "2022-12-14T15:47:00.426249Z",
     "iopub.status.idle": "2022-12-14T15:47:00.433118Z",
     "shell.execute_reply": "2022-12-14T15:47:00.432304Z"
    },
    "papermill": {
     "duration": 0.03598,
     "end_time": "2022-12-14T15:47:00.435322",
     "exception": false,
     "start_time": "2022-12-14T15:47:00.399342",
     "status": "completed"
    },
    "tags": []
   },
   "outputs": [
    {
     "data": {
      "text/plain": [
       "array([1, 1, 1, 1, 1])"
      ]
     },
     "execution_count": 31,
     "metadata": {},
     "output_type": "execute_result"
    }
   ],
   "source": [
    "y = df['DEATH_EVENT'].values\n",
    "y[0:5]"
   ]
  },
  {
   "cell_type": "markdown",
   "id": "50dcb359",
   "metadata": {
    "papermill": {
     "duration": 0.02555,
     "end_time": "2022-12-14T15:47:00.486854",
     "exception": false,
     "start_time": "2022-12-14T15:47:00.461304",
     "status": "completed"
    },
    "tags": []
   },
   "source": [
    "### Train Test Split\n",
    "Out of Sample Accuracy is the percentage of correct predictions that the model makes on data that the model has NOT been trained on. Doing a train and test on the same dataset will most likely have low out-of-sample accuracy, due to the likelihood of our model overfitting.\n",
    "\n",
    "It is important that our models have a high, out-of-sample accuracy, because the purpose of any model, of course, is to make correct predictions on unknown data. So how can we improve out-of-sample accuracy? One way is to use an evaluation approach called Train/Test Split.\n",
    "Train/Test Split involves splitting the dataset into training and testing sets respectively, which are mutually exclusive. After which, you train with the training set and test with the testing set.\n",
    "\n",
    "This will provide a more accurate evaluation on out-of-sample accuracy because the testing dataset is not part of the dataset that has been used to train the model. It is more realistic for the real world problems.\n"
   ]
  },
  {
   "cell_type": "code",
   "execution_count": 32,
   "id": "eb31d545",
   "metadata": {
    "execution": {
     "iopub.execute_input": "2022-12-14T15:47:00.539921Z",
     "iopub.status.busy": "2022-12-14T15:47:00.539222Z",
     "iopub.status.idle": "2022-12-14T15:47:00.546339Z",
     "shell.execute_reply": "2022-12-14T15:47:00.545005Z"
    },
    "papermill": {
     "duration": 0.03667,
     "end_time": "2022-12-14T15:47:00.548872",
     "exception": false,
     "start_time": "2022-12-14T15:47:00.512202",
     "status": "completed"
    },
    "tags": []
   },
   "outputs": [
    {
     "name": "stdout",
     "output_type": "stream",
     "text": [
      "Train set: (239, 11) (239,)\n",
      "Test set: (60, 11) (60,)\n"
     ]
    }
   ],
   "source": [
    "X_train, X_test, y_train, y_test = train_test_split( X, y, test_size=0.2, random_state=4)\n",
    "print ('Train set:', X_train.shape,  y_train.shape)\n",
    "print ('Test set:', X_test.shape,  y_test.shape)"
   ]
  },
  {
   "cell_type": "markdown",
   "id": "a8a730bc",
   "metadata": {
    "papermill": {
     "duration": 0.026406,
     "end_time": "2022-12-14T15:47:00.600953",
     "exception": false,
     "start_time": "2022-12-14T15:47:00.574547",
     "status": "completed"
    },
    "tags": []
   },
   "source": [
    "## Normalize Data"
   ]
  },
  {
   "cell_type": "markdown",
   "id": "23da5f6d",
   "metadata": {
    "papermill": {
     "duration": 0.024931,
     "end_time": "2022-12-14T15:47:00.651291",
     "exception": false,
     "start_time": "2022-12-14T15:47:00.626360",
     "status": "completed"
    },
    "tags": []
   },
   "source": [
    "Data Standardization gives the data zero mean and unit variance, it is good practice, especially for algorithms such as KNN which is based on the distance of data points:"
   ]
  },
  {
   "cell_type": "code",
   "execution_count": 33,
   "id": "bff7b9c4",
   "metadata": {
    "execution": {
     "iopub.execute_input": "2022-12-14T15:47:00.704025Z",
     "iopub.status.busy": "2022-12-14T15:47:00.702927Z",
     "iopub.status.idle": "2022-12-14T15:47:00.709287Z",
     "shell.execute_reply": "2022-12-14T15:47:00.708542Z"
    },
    "papermill": {
     "duration": 0.034905,
     "end_time": "2022-12-14T15:47:00.711415",
     "exception": false,
     "start_time": "2022-12-14T15:47:00.676510",
     "status": "completed"
    },
    "tags": []
   },
   "outputs": [],
   "source": [
    "scaler = preprocessing.StandardScaler()\n",
    "X_train = scaler.fit_transform(X_train)\n",
    "X_test = scaler.transform(X_test)"
   ]
  },
  {
   "cell_type": "markdown",
   "id": "ca2def2d",
   "metadata": {
    "papermill": {
     "duration": 0.02512,
     "end_time": "2022-12-14T15:47:00.762184",
     "exception": false,
     "start_time": "2022-12-14T15:47:00.737064",
     "status": "completed"
    },
    "tags": []
   },
   "source": [
    "<div id=\"classification\">\n",
    "    <h2>Classification</h2>\n",
    "</div>\n"
   ]
  },
  {
   "cell_type": "markdown",
   "id": "d53cb265",
   "metadata": {
    "papermill": {
     "duration": 0.025176,
     "end_time": "2022-12-14T15:47:00.812491",
     "exception": false,
     "start_time": "2022-12-14T15:47:00.787315",
     "status": "completed"
    },
    "tags": []
   },
   "source": [
    "<h3>K nearest neighbor (KNN)</h3>\n"
   ]
  },
  {
   "cell_type": "markdown",
   "id": "f0ed7226",
   "metadata": {
    "papermill": {
     "duration": 0.025161,
     "end_time": "2022-12-14T15:47:00.863215",
     "exception": false,
     "start_time": "2022-12-14T15:47:00.838054",
     "status": "completed"
    },
    "tags": []
   },
   "source": [
    "### Training\n",
    "\n",
    "Let's start the algorithm with k=4 for now:"
   ]
  },
  {
   "cell_type": "code",
   "execution_count": 34,
   "id": "1aa3f375",
   "metadata": {
    "execution": {
     "iopub.execute_input": "2022-12-14T15:47:00.915930Z",
     "iopub.status.busy": "2022-12-14T15:47:00.915262Z",
     "iopub.status.idle": "2022-12-14T15:47:00.925175Z",
     "shell.execute_reply": "2022-12-14T15:47:00.923992Z"
    },
    "papermill": {
     "duration": 0.039027,
     "end_time": "2022-12-14T15:47:00.927621",
     "exception": false,
     "start_time": "2022-12-14T15:47:00.888594",
     "status": "completed"
    },
    "tags": []
   },
   "outputs": [
    {
     "data": {
      "text/plain": [
       "KNeighborsClassifier(n_neighbors=4)"
      ]
     },
     "execution_count": 34,
     "metadata": {},
     "output_type": "execute_result"
    }
   ],
   "source": [
    "k = 4\n",
    "#Train Model and Predict  \n",
    "neigh = KNeighborsClassifier(n_neighbors = k).fit(X_train,y_train)\n",
    "neigh"
   ]
  },
  {
   "cell_type": "markdown",
   "id": "544f3e2a",
   "metadata": {
    "papermill": {
     "duration": 0.025254,
     "end_time": "2022-12-14T15:47:00.979727",
     "exception": false,
     "start_time": "2022-12-14T15:47:00.954473",
     "status": "completed"
    },
    "tags": []
   },
   "source": [
    "### Predicting\n",
    "\n",
    "We can use the model to make predictions on the test set:\n"
   ]
  },
  {
   "cell_type": "code",
   "execution_count": 35,
   "id": "72e46e06",
   "metadata": {
    "execution": {
     "iopub.execute_input": "2022-12-14T15:47:01.032238Z",
     "iopub.status.busy": "2022-12-14T15:47:01.031848Z",
     "iopub.status.idle": "2022-12-14T15:47:01.042668Z",
     "shell.execute_reply": "2022-12-14T15:47:01.041630Z"
    },
    "papermill": {
     "duration": 0.039731,
     "end_time": "2022-12-14T15:47:01.044797",
     "exception": false,
     "start_time": "2022-12-14T15:47:01.005066",
     "status": "completed"
    },
    "tags": []
   },
   "outputs": [
    {
     "data": {
      "text/plain": [
       "array([0, 0, 0, 0, 0])"
      ]
     },
     "execution_count": 35,
     "metadata": {},
     "output_type": "execute_result"
    }
   ],
   "source": [
    "yhat = neigh.predict(X_test)\n",
    "yhat[0:5]"
   ]
  },
  {
   "cell_type": "markdown",
   "id": "2aa656c4",
   "metadata": {
    "papermill": {
     "duration": 0.02591,
     "end_time": "2022-12-14T15:47:01.096293",
     "exception": false,
     "start_time": "2022-12-14T15:47:01.070383",
     "status": "completed"
    },
    "tags": []
   },
   "source": [
    "## EVALUATION"
   ]
  },
  {
   "cell_type": "markdown",
   "id": "51ca0186",
   "metadata": {
    "papermill": {
     "duration": 0.025421,
     "end_time": "2022-12-14T15:47:01.148389",
     "exception": false,
     "start_time": "2022-12-14T15:47:01.122968",
     "status": "completed"
    },
    "tags": []
   },
   "source": [
    "### Confusion Tree"
   ]
  },
  {
   "cell_type": "code",
   "execution_count": 36,
   "id": "5a622016",
   "metadata": {
    "execution": {
     "iopub.execute_input": "2022-12-14T15:47:01.202463Z",
     "iopub.status.busy": "2022-12-14T15:47:01.201725Z",
     "iopub.status.idle": "2022-12-14T15:47:01.208371Z",
     "shell.execute_reply": "2022-12-14T15:47:01.207551Z"
    },
    "papermill": {
     "duration": 0.036068,
     "end_time": "2022-12-14T15:47:01.210406",
     "exception": false,
     "start_time": "2022-12-14T15:47:01.174338",
     "status": "completed"
    },
    "tags": []
   },
   "outputs": [],
   "source": [
    "confusion_matrix = metrics.confusion_matrix(y_test, yhat)"
   ]
  },
  {
   "cell_type": "code",
   "execution_count": 37,
   "id": "5db57faa",
   "metadata": {
    "execution": {
     "iopub.execute_input": "2022-12-14T15:47:01.265323Z",
     "iopub.status.busy": "2022-12-14T15:47:01.263818Z",
     "iopub.status.idle": "2022-12-14T15:47:01.497459Z",
     "shell.execute_reply": "2022-12-14T15:47:01.496563Z"
    },
    "papermill": {
     "duration": 0.26364,
     "end_time": "2022-12-14T15:47:01.499937",
     "exception": false,
     "start_time": "2022-12-14T15:47:01.236297",
     "status": "completed"
    },
    "tags": []
   },
   "outputs": [
    {
     "data": {
      "image/png": "[encoded data removed]",
      "text/plain": [
       "<Figure size 432x288 with 2 Axes>"
      ]
     },
     "metadata": {
      "needs_background": "light"
     },
     "output_type": "display_data"
    }
   ],
   "source": [
    "cm_display = metrics.ConfusionMatrixDisplay(confusion_matrix = confusion_matrix, display_labels = [False, True])\n",
    "cm_display.plot()\n",
    "plt.show()"
   ]
  },
  {
   "cell_type": "code",
   "execution_count": 38,
   "id": "449cf7d3",
   "metadata": {
    "execution": {
     "iopub.execute_input": "2022-12-14T15:47:01.554214Z",
     "iopub.status.busy": "2022-12-14T15:47:01.553800Z",
     "iopub.status.idle": "2022-12-14T15:47:01.559819Z",
     "shell.execute_reply": "2022-12-14T15:47:01.558981Z"
    },
    "papermill": {
     "duration": 0.037223,
     "end_time": "2022-12-14T15:47:01.563924",
     "exception": false,
     "start_time": "2022-12-14T15:47:01.526701",
     "status": "completed"
    },
    "tags": []
   },
   "outputs": [
    {
     "name": "stdout",
     "output_type": "stream",
     "text": [
      "Accuracy:  0.7333333333333333\n"
     ]
    }
   ],
   "source": [
    "## Accuracy\n",
    "Accuracy = metrics.accuracy_score(y_test, yhat)\n",
    "print(\"Accuracy: \", Accuracy)"
   ]
  },
  {
   "cell_type": "code",
   "execution_count": 39,
   "id": "4308ec88",
   "metadata": {
    "execution": {
     "iopub.execute_input": "2022-12-14T15:47:01.618965Z",
     "iopub.status.busy": "2022-12-14T15:47:01.617761Z",
     "iopub.status.idle": "2022-12-14T15:47:01.626102Z",
     "shell.execute_reply": "2022-12-14T15:47:01.624856Z"
    },
    "papermill": {
     "duration": 0.037986,
     "end_time": "2022-12-14T15:47:01.628431",
     "exception": false,
     "start_time": "2022-12-14T15:47:01.590445",
     "status": "completed"
    },
    "tags": []
   },
   "outputs": [
    {
     "name": "stdout",
     "output_type": "stream",
     "text": [
      "Precision:  0.75\n"
     ]
    }
   ],
   "source": [
    "## Precision\n",
    "Precision = metrics.precision_score(y_test, yhat)\n",
    "print(\"Precision: \", Precision)"
   ]
  },
  {
   "cell_type": "code",
   "execution_count": 40,
   "id": "f0633069",
   "metadata": {
    "execution": {
     "iopub.execute_input": "2022-12-14T15:47:01.681636Z",
     "iopub.status.busy": "2022-12-14T15:47:01.681224Z",
     "iopub.status.idle": "2022-12-14T15:47:01.689892Z",
     "shell.execute_reply": "2022-12-14T15:47:01.688601Z"
    },
    "papermill": {
     "duration": 0.038346,
     "end_time": "2022-12-14T15:47:01.692453",
     "exception": false,
     "start_time": "2022-12-14T15:47:01.654107",
     "status": "completed"
    },
    "tags": []
   },
   "outputs": [
    {
     "name": "stdout",
     "output_type": "stream",
     "text": [
      "Sensitivity-Recall:  0.16666666666666666\n"
     ]
    }
   ],
   "source": [
    "## Sensitivity\n",
    "Sensitivity = metrics.recall_score(y_test, yhat)\n",
    "print(\"Sensitivity-Recall: \", Sensitivity)"
   ]
  },
  {
   "cell_type": "code",
   "execution_count": 41,
   "id": "acdbc77b",
   "metadata": {
    "execution": {
     "iopub.execute_input": "2022-12-14T15:47:01.746036Z",
     "iopub.status.busy": "2022-12-14T15:47:01.745614Z",
     "iopub.status.idle": "2022-12-14T15:47:01.753201Z",
     "shell.execute_reply": "2022-12-14T15:47:01.751987Z"
    },
    "papermill": {
     "duration": 0.037992,
     "end_time": "2022-12-14T15:47:01.756248",
     "exception": false,
     "start_time": "2022-12-14T15:47:01.718256",
     "status": "completed"
    },
    "tags": []
   },
   "outputs": [
    {
     "name": "stdout",
     "output_type": "stream",
     "text": [
      "F1 Score:  0.27272727272727276\n"
     ]
    }
   ],
   "source": [
    "## F1 Score\n",
    "F1_Score = metrics.f1_score(y_test, yhat)\n",
    "print(\"F1 Score: \", F1_Score)"
   ]
  },
  {
   "cell_type": "markdown",
   "id": "b204957f",
   "metadata": {
    "papermill": {
     "duration": 0.025286,
     "end_time": "2022-12-14T15:47:01.807535",
     "exception": false,
     "start_time": "2022-12-14T15:47:01.782249",
     "status": "completed"
    },
    "tags": []
   },
   "source": [
    "### Accuracy evaluation\n",
    "\n",
    "In multilabel classification, **accuracy classification score** is a function that computes subset accuracy. This function is equal to the jaccard_score function. Essentially, it calculates how closely the actual labels and predicted labels are matched in the test set.\n"
   ]
  },
  {
   "cell_type": "code",
   "execution_count": 42,
   "id": "a05a0d2f",
   "metadata": {
    "execution": {
     "iopub.execute_input": "2022-12-14T15:47:01.861281Z",
     "iopub.status.busy": "2022-12-14T15:47:01.860329Z",
     "iopub.status.idle": "2022-12-14T15:47:01.874786Z",
     "shell.execute_reply": "2022-12-14T15:47:01.873917Z"
    },
    "papermill": {
     "duration": 0.044154,
     "end_time": "2022-12-14T15:47:01.877322",
     "exception": false,
     "start_time": "2022-12-14T15:47:01.833168",
     "status": "completed"
    },
    "tags": []
   },
   "outputs": [
    {
     "name": "stdout",
     "output_type": "stream",
     "text": [
      "Train set Accuracy:  0.7824267782426778\n",
      "Test set Accuracy:  0.7333333333333333\n"
     ]
    }
   ],
   "source": [
    "print(\"Train set Accuracy: \", metrics.accuracy_score(y_train, neigh.predict(X_train)))\n",
    "print(\"Test set Accuracy: \", metrics.accuracy_score(y_test, yhat))"
   ]
  },
  {
   "cell_type": "markdown",
   "id": "a88dfb71",
   "metadata": {
    "papermill": {
     "duration": 0.025324,
     "end_time": "2022-12-14T15:47:01.928407",
     "exception": false,
     "start_time": "2022-12-14T15:47:01.903083",
     "status": "completed"
    },
    "tags": []
   },
   "source": [
    "## Practice\n",
    "\n",
    "Can you build the model again, but this time with k=6?\n"
   ]
  },
  {
   "cell_type": "code",
   "execution_count": 43,
   "id": "c4dacbed",
   "metadata": {
    "execution": {
     "iopub.execute_input": "2022-12-14T15:47:01.981048Z",
     "iopub.status.busy": "2022-12-14T15:47:01.980640Z",
     "iopub.status.idle": "2022-12-14T15:47:02.000162Z",
     "shell.execute_reply": "2022-12-14T15:47:01.998474Z"
    },
    "papermill": {
     "duration": 0.049194,
     "end_time": "2022-12-14T15:47:02.003195",
     "exception": false,
     "start_time": "2022-12-14T15:47:01.954001",
     "status": "completed"
    },
    "tags": []
   },
   "outputs": [
    {
     "name": "stdout",
     "output_type": "stream",
     "text": [
      "Train set Accuracy:  0.7447698744769874\n",
      "Test set Accuracy:  0.7333333333333333\n"
     ]
    }
   ],
   "source": [
    "# write your code here\n",
    "k = 6\n",
    "#Train Model and Predict  \n",
    "neigh6 = KNeighborsClassifier(n_neighbors = k).fit(X_train,y_train)\n",
    "yhat6 = neigh.predict(X_test)\n",
    "print(\"Train set Accuracy: \", metrics.accuracy_score(y_train, neigh6.predict(X_train)))\n",
    "print(\"Test set Accuracy: \", metrics.accuracy_score(y_test, yhat6))"
   ]
  },
  {
   "cell_type": "code",
   "execution_count": 44,
   "id": "d27894c5",
   "metadata": {
    "execution": {
     "iopub.execute_input": "2022-12-14T15:47:02.056936Z",
     "iopub.status.busy": "2022-12-14T15:47:02.056540Z",
     "iopub.status.idle": "2022-12-14T15:47:02.077579Z",
     "shell.execute_reply": "2022-12-14T15:47:02.076116Z"
    },
    "papermill": {
     "duration": 0.051132,
     "end_time": "2022-12-14T15:47:02.080322",
     "exception": false,
     "start_time": "2022-12-14T15:47:02.029190",
     "status": "completed"
    },
    "tags": []
   },
   "outputs": [
    {
     "name": "stdout",
     "output_type": "stream",
     "text": [
      "Train set Accuracy:  0.7405857740585774\n",
      "Test set Accuracy:  0.7333333333333333\n"
     ]
    }
   ],
   "source": [
    "k = 9\n",
    "#Train Model and Predict  \n",
    "neigh9 = KNeighborsClassifier(n_neighbors = k).fit(X_train,y_train)\n",
    "yhat9 = neigh.predict(X_test)\n",
    "print(\"Train set Accuracy: \", metrics.accuracy_score(y_train, neigh9.predict(X_train)))\n",
    "print(\"Test set Accuracy: \", metrics.accuracy_score(y_test, yhat9))"
   ]
  },
  {
   "cell_type": "markdown",
   "id": "4f938a3e",
   "metadata": {
    "papermill": {
     "duration": 0.025235,
     "end_time": "2022-12-14T15:47:02.131456",
     "exception": false,
     "start_time": "2022-12-14T15:47:02.106221",
     "status": "completed"
    },
    "tags": []
   },
   "source": [
    "#### What about other K?\n",
    "\n",
    "K in KNN, is the number of nearest neighbors to examine. It is supposed to be specified by the user. So, how can we choose right value for K?\n",
    "The general solution is to reserve a part of your data for testing the accuracy of the model. Then choose k =1, use the training part for modeling, and calculate the accuracy of prediction using all samples in your test set. Repeat this process, increasing the k, and see which k is the best for your model.\n",
    "\n",
    "We can calculate the accuracy of KNN for different values of k.\n"
   ]
  },
  {
   "cell_type": "code",
   "execution_count": 45,
   "id": "f4aa6fb6",
   "metadata": {
    "execution": {
     "iopub.execute_input": "2022-12-14T15:47:02.185075Z",
     "iopub.status.busy": "2022-12-14T15:47:02.184661Z",
     "iopub.status.idle": "2022-12-14T15:47:02.225719Z",
     "shell.execute_reply": "2022-12-14T15:47:02.224570Z"
    },
    "papermill": {
     "duration": 0.071006,
     "end_time": "2022-12-14T15:47:02.228142",
     "exception": false,
     "start_time": "2022-12-14T15:47:02.157136",
     "status": "completed"
    },
    "tags": []
   },
   "outputs": [
    {
     "data": {
      "text/plain": [
       "array([0.68333333, 0.71666667, 0.7       , 0.73333333, 0.73333333,\n",
       "       0.76666667, 0.71666667, 0.75      , 0.75      ])"
      ]
     },
     "execution_count": 45,
     "metadata": {},
     "output_type": "execute_result"
    }
   ],
   "source": [
    "Ks = 10\n",
    "mean_acc = np.zeros((Ks-1))\n",
    "std_acc = np.zeros((Ks-1))\n",
    "\n",
    "for n in range(1,Ks):\n",
    "    \n",
    "    #Train Model and Predict  \n",
    "    neigh = KNeighborsClassifier(n_neighbors = n).fit(X_train,y_train)\n",
    "    yhat=neigh.predict(X_test)\n",
    "    mean_acc[n-1] = metrics.accuracy_score(y_test, yhat)\n",
    "\n",
    "    \n",
    "    std_acc[n-1]=np.std(yhat==y_test)/np.sqrt(yhat.shape[0])\n",
    "\n",
    "mean_acc"
   ]
  },
  {
   "cell_type": "markdown",
   "id": "c1abdda2",
   "metadata": {
    "papermill": {
     "duration": 0.025799,
     "end_time": "2022-12-14T15:47:02.279726",
     "exception": false,
     "start_time": "2022-12-14T15:47:02.253927",
     "status": "completed"
    },
    "tags": []
   },
   "source": [
    "#### Plot the model accuracy for a different number of neighbors."
   ]
  },
  {
   "cell_type": "code",
   "execution_count": 46,
   "id": "c6866f54",
   "metadata": {
    "execution": {
     "iopub.execute_input": "2022-12-14T15:47:02.333128Z",
     "iopub.status.busy": "2022-12-14T15:47:02.332726Z",
     "iopub.status.idle": "2022-12-14T15:47:02.622291Z",
     "shell.execute_reply": "2022-12-14T15:47:02.621129Z"
    },
    "papermill": {
     "duration": 0.319411,
     "end_time": "2022-12-14T15:47:02.624831",
     "exception": false,
     "start_time": "2022-12-14T15:47:02.305420",
     "status": "completed"
    },
    "tags": []
   },
   "outputs": [
    {
     "data": {
      "image/png": "[encoded data removed]",
      "text/plain": [
       "<Figure size 432x288 with 1 Axes>"
      ]
     },
     "metadata": {
      "needs_background": "light"
     },
     "output_type": "display_data"
    }
   ],
   "source": [
    "plt.plot(range(1,Ks),mean_acc,'g')\n",
    "plt.fill_between(range(1,Ks),mean_acc - 1 * std_acc,mean_acc + 1 * std_acc, alpha=0.10)\n",
    "plt.fill_between(range(1,Ks),mean_acc - 3 * std_acc,mean_acc + 3 * std_acc, alpha=0.10,color=\"green\")\n",
    "plt.legend(('Accuracy ', '+/- 1xstd','+/- 3xstd'))\n",
    "plt.ylabel('Accuracy ')\n",
    "plt.xlabel('Number of Neighbors (K)')\n",
    "plt.tight_layout()\n",
    "plt.show()"
   ]
  },
  {
   "cell_type": "code",
   "execution_count": 47,
   "id": "a0a838fc",
   "metadata": {
    "execution": {
     "iopub.execute_input": "2022-12-14T15:47:02.680611Z",
     "iopub.status.busy": "2022-12-14T15:47:02.680221Z",
     "iopub.status.idle": "2022-12-14T15:47:02.685977Z",
     "shell.execute_reply": "2022-12-14T15:47:02.684924Z"
    },
    "papermill": {
     "duration": 0.037093,
     "end_time": "2022-12-14T15:47:02.688880",
     "exception": false,
     "start_time": "2022-12-14T15:47:02.651787",
     "status": "completed"
    },
    "tags": []
   },
   "outputs": [
    {
     "name": "stdout",
     "output_type": "stream",
     "text": [
      "The best accuracy was with 0.7666666666666667 with k= 6\n"
     ]
    }
   ],
   "source": [
    "print( \"The best accuracy was with\", mean_acc.max(), \"with k=\", mean_acc.argmax()+1) "
   ]
  },
  {
   "cell_type": "markdown",
   "id": "ff868259",
   "metadata": {
    "papermill": {
     "duration": 0.026209,
     "end_time": "2022-12-14T15:47:02.741546",
     "exception": false,
     "start_time": "2022-12-14T15:47:02.715337",
     "status": "completed"
    },
    "tags": []
   },
   "source": [
    "## THANK YOU"
   ]
  }
 ],
 "metadata": {
  "kernelspec": {
   "display_name": "Python 3",
   "language": "python",
   "name": "python3"
  },
  "language_info": {
   "codemirror_mode": {
    "name": "ipython",
    "version": 3
   },
   "file_extension": ".py",
   "mimetype": "text/x-python",
   "name": "python",
   "nbconvert_exporter": "python",
   "pygments_lexer": "ipython3",
   "version": "3.7.12"
  },
  "papermill": {
   "default_parameters": {},
   "duration": 32.211669,
   "end_time": "2022-12-14T15:47:03.590503",
   "environment_variables": {},
   "exception": null,
   "input_path": "__notebook__.ipynb",
   "output_path": "__notebook__.ipynb",
   "parameters": {},
   "start_time": "2022-12-14T15:46:31.378834",
   "version": "2.3.4"
  }
 },
 "nbformat": 4,
 "nbformat_minor": 5
}
