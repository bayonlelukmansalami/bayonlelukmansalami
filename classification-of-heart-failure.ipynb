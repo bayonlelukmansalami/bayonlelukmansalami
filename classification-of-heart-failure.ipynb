{
 "cells": [
  {
   "cell_type": "markdown",
   "id": "9320c325",
   "metadata": {
    "papermill": {
     "duration": 0.015777,
     "end_time": "2022-10-08T14:12:12.728109",
     "exception": false,
     "start_time": "2022-10-08T14:12:12.712332",
     "status": "completed"
    },
    "tags": []
   },
   "source": [
    "\n",
    "# K-Nearest Neighbors for Classification of dealth\n",
    "\n",
    "\n",
    "\n",
    "## Objectives\n",
    "\n",
    "*   Use K Nearest neighbors to classify data\n"
   ]
  },
  {
   "cell_type": "markdown",
   "id": "ddecfabf",
   "metadata": {
    "papermill": {
     "duration": 0.015471,
     "end_time": "2022-10-08T14:12:12.757731",
     "exception": false,
     "start_time": "2022-10-08T14:12:12.742260",
     "status": "completed"
    },
    "tags": []
   },
   "source": [
    "Let's load required libraries"
   ]
  },
  {
   "cell_type": "code",
   "execution_count": 1,
   "id": "3b5e2042",
   "metadata": {
    "execution": {
     "iopub.execute_input": "2022-10-08T14:12:12.787314Z",
     "iopub.status.busy": "2022-10-08T14:12:12.786354Z",
     "iopub.status.idle": "2022-10-08T14:12:14.158844Z",
     "shell.execute_reply": "2022-10-08T14:12:14.157821Z"
    },
    "papermill": {
     "duration": 1.390604,
     "end_time": "2022-10-08T14:12:14.161720",
     "exception": false,
     "start_time": "2022-10-08T14:12:12.771116",
     "status": "completed"
    },
    "tags": []
   },
   "outputs": [],
   "source": [
    "import pandas as pd\n",
    "import numpy as np\n",
    "import matplotlib.pyplot as plt\n",
    "import seaborn as sns\n",
    "from sklearn import preprocessing\n",
    "from sklearn.model_selection import train_test_split\n",
    "from sklearn.neighbors import KNeighborsClassifier\n",
    "from sklearn import metrics\n",
    "%matplotlib inline"
   ]
  },
  {
   "cell_type": "markdown",
   "id": "3ddedc61",
   "metadata": {
    "papermill": {
     "duration": 0.01325,
     "end_time": "2022-10-08T14:12:14.188648",
     "exception": false,
     "start_time": "2022-10-08T14:12:14.175398",
     "status": "completed"
    },
    "tags": []
   },
   "source": [
    "### About the dataset\n",
    "Dataset from Davide Chicco, Giuseppe Jurman: â€œMachine learning can predict survival of patients with heart failure from serum creatinine and ejection fraction alone. BMC Medical Informatics and Decision Making 20, 16 (2020)\n",
    "\n",
    "Import the dataset\n",
    "1\n",
    "This dataset was hosted on Kaggle. Click <a href=\"https://www.kaggle.com/datasets/sagar029/heart-failure?select=heart_failure.csv\">HERE</a>."
   ]
  },
  {
   "cell_type": "code",
   "execution_count": 2,
   "id": "805d2226",
   "metadata": {
    "execution": {
     "iopub.execute_input": "2022-10-08T14:12:14.217770Z",
     "iopub.status.busy": "2022-10-08T14:12:14.217136Z",
     "iopub.status.idle": "2022-10-08T14:12:14.253970Z",
     "shell.execute_reply": "2022-10-08T14:12:14.252883Z"
    },
    "papermill": {
     "duration": 0.054421,
     "end_time": "2022-10-08T14:12:14.256695",
     "exception": false,
     "start_time": "2022-10-08T14:12:14.202274",
     "status": "completed"
    },
    "tags": []
   },
   "outputs": [
    {
     "data": {
      "text/html": [
       "<div>\n",
       "<style scoped>\n",
       "    .dataframe tbody tr th:only-of-type {\n",
       "        vertical-align: middle;\n",
       "    }\n",
       "\n",
       "    .dataframe tbody tr th {\n",
       "        vertical-align: top;\n",
       "    }\n",
       "\n",
       "    .dataframe thead th {\n",
       "        text-align: right;\n",
       "    }\n",
       "</style>\n",
       "<table border=\"1\" class=\"dataframe\">\n",
       "  <thead>\n",
       "    <tr style=\"text-align: right;\">\n",
       "      <th></th>\n",
       "      <th>age</th>\n",
       "      <th>anaemia</th>\n",
       "      <th>creatinine_phosphokinase</th>\n",
       "      <th>diabetes</th>\n",
       "      <th>ejection_fraction</th>\n",
       "      <th>high_blood_pressure</th>\n",
       "      <th>platelets</th>\n",
       "      <th>serum_creatinine</th>\n",
       "      <th>serum_sodium</th>\n",
       "      <th>sex</th>\n",
       "      <th>smoking</th>\n",
       "      <th>time</th>\n",
       "      <th>DEATH_EVENT</th>\n",
       "    </tr>\n",
       "  </thead>\n",
       "  <tbody>\n",
       "    <tr>\n",
       "      <th>0</th>\n",
       "      <td>75.0</td>\n",
       "      <td>0</td>\n",
       "      <td>582</td>\n",
       "      <td>0</td>\n",
       "      <td>20</td>\n",
       "      <td>1</td>\n",
       "      <td>265000.00</td>\n",
       "      <td>1.9</td>\n",
       "      <td>130</td>\n",
       "      <td>1</td>\n",
       "      <td>0</td>\n",
       "      <td>4</td>\n",
       "      <td>1</td>\n",
       "    </tr>\n",
       "    <tr>\n",
       "      <th>1</th>\n",
       "      <td>55.0</td>\n",
       "      <td>0</td>\n",
       "      <td>7861</td>\n",
       "      <td>0</td>\n",
       "      <td>38</td>\n",
       "      <td>0</td>\n",
       "      <td>263358.03</td>\n",
       "      <td>1.1</td>\n",
       "      <td>136</td>\n",
       "      <td>1</td>\n",
       "      <td>0</td>\n",
       "      <td>6</td>\n",
       "      <td>1</td>\n",
       "    </tr>\n",
       "    <tr>\n",
       "      <th>2</th>\n",
       "      <td>65.0</td>\n",
       "      <td>0</td>\n",
       "      <td>146</td>\n",
       "      <td>0</td>\n",
       "      <td>20</td>\n",
       "      <td>0</td>\n",
       "      <td>162000.00</td>\n",
       "      <td>1.3</td>\n",
       "      <td>129</td>\n",
       "      <td>1</td>\n",
       "      <td>1</td>\n",
       "      <td>7</td>\n",
       "      <td>1</td>\n",
       "    </tr>\n",
       "    <tr>\n",
       "      <th>3</th>\n",
       "      <td>50.0</td>\n",
       "      <td>1</td>\n",
       "      <td>111</td>\n",
       "      <td>0</td>\n",
       "      <td>20</td>\n",
       "      <td>0</td>\n",
       "      <td>210000.00</td>\n",
       "      <td>1.9</td>\n",
       "      <td>137</td>\n",
       "      <td>1</td>\n",
       "      <td>0</td>\n",
       "      <td>7</td>\n",
       "      <td>1</td>\n",
       "    </tr>\n",
       "    <tr>\n",
       "      <th>4</th>\n",
       "      <td>65.0</td>\n",
       "      <td>1</td>\n",
       "      <td>160</td>\n",
       "      <td>1</td>\n",
       "      <td>20</td>\n",
       "      <td>0</td>\n",
       "      <td>327000.00</td>\n",
       "      <td>2.7</td>\n",
       "      <td>116</td>\n",
       "      <td>0</td>\n",
       "      <td>0</td>\n",
       "      <td>8</td>\n",
       "      <td>1</td>\n",
       "    </tr>\n",
       "  </tbody>\n",
       "</table>\n",
       "</div>"
      ],
      "text/plain": [
       "    age  anaemia  creatinine_phosphokinase  diabetes  ejection_fraction  \\\n",
       "0  75.0        0                       582         0                 20   \n",
       "1  55.0        0                      7861         0                 38   \n",
       "2  65.0        0                       146         0                 20   \n",
       "3  50.0        1                       111         0                 20   \n",
       "4  65.0        1                       160         1                 20   \n",
       "\n",
       "   high_blood_pressure  platelets  serum_creatinine  serum_sodium  sex  \\\n",
       "0                    1  265000.00               1.9           130    1   \n",
       "1                    0  263358.03               1.1           136    1   \n",
       "2                    0  162000.00               1.3           129    1   \n",
       "3                    0  210000.00               1.9           137    1   \n",
       "4                    0  327000.00               2.7           116    0   \n",
       "\n",
       "   smoking  time  DEATH_EVENT  \n",
       "0        0     4            1  \n",
       "1        0     6            1  \n",
       "2        1     7            1  \n",
       "3        0     7            1  \n",
       "4        0     8            1  "
      ]
     },
     "execution_count": 2,
     "metadata": {},
     "output_type": "execute_result"
    }
   ],
   "source": [
    "df = pd.read_csv(\"../input/heart-failure/heart_failure.csv\")\n",
    "df.head()"
   ]
  },
  {
   "cell_type": "code",
   "execution_count": 3,
   "id": "d6d67ab2",
   "metadata": {
    "execution": {
     "iopub.execute_input": "2022-10-08T14:12:14.285979Z",
     "iopub.status.busy": "2022-10-08T14:12:14.285051Z",
     "iopub.status.idle": "2022-10-08T14:12:14.301237Z",
     "shell.execute_reply": "2022-10-08T14:12:14.300221Z"
    },
    "papermill": {
     "duration": 0.032688,
     "end_time": "2022-10-08T14:12:14.303233",
     "exception": false,
     "start_time": "2022-10-08T14:12:14.270545",
     "status": "completed"
    },
    "tags": []
   },
   "outputs": [
    {
     "data": {
      "text/html": [
       "<div>\n",
       "<style scoped>\n",
       "    .dataframe tbody tr th:only-of-type {\n",
       "        vertical-align: middle;\n",
       "    }\n",
       "\n",
       "    .dataframe tbody tr th {\n",
       "        vertical-align: top;\n",
       "    }\n",
       "\n",
       "    .dataframe thead th {\n",
       "        text-align: right;\n",
       "    }\n",
       "</style>\n",
       "<table border=\"1\" class=\"dataframe\">\n",
       "  <thead>\n",
       "    <tr style=\"text-align: right;\">\n",
       "      <th></th>\n",
       "      <th>age</th>\n",
       "      <th>anaemia</th>\n",
       "      <th>creatinine_phosphokinase</th>\n",
       "      <th>diabetes</th>\n",
       "      <th>ejection_fraction</th>\n",
       "      <th>high_blood_pressure</th>\n",
       "      <th>platelets</th>\n",
       "      <th>serum_creatinine</th>\n",
       "      <th>serum_sodium</th>\n",
       "      <th>sex</th>\n",
       "      <th>smoking</th>\n",
       "      <th>time</th>\n",
       "      <th>DEATH_EVENT</th>\n",
       "    </tr>\n",
       "  </thead>\n",
       "  <tbody>\n",
       "    <tr>\n",
       "      <th>294</th>\n",
       "      <td>62.0</td>\n",
       "      <td>0</td>\n",
       "      <td>61</td>\n",
       "      <td>1</td>\n",
       "      <td>38</td>\n",
       "      <td>1</td>\n",
       "      <td>155000.0</td>\n",
       "      <td>1.1</td>\n",
       "      <td>143</td>\n",
       "      <td>1</td>\n",
       "      <td>1</td>\n",
       "      <td>270</td>\n",
       "      <td>0</td>\n",
       "    </tr>\n",
       "    <tr>\n",
       "      <th>295</th>\n",
       "      <td>55.0</td>\n",
       "      <td>0</td>\n",
       "      <td>1820</td>\n",
       "      <td>0</td>\n",
       "      <td>38</td>\n",
       "      <td>0</td>\n",
       "      <td>270000.0</td>\n",
       "      <td>1.2</td>\n",
       "      <td>139</td>\n",
       "      <td>0</td>\n",
       "      <td>0</td>\n",
       "      <td>271</td>\n",
       "      <td>0</td>\n",
       "    </tr>\n",
       "    <tr>\n",
       "      <th>296</th>\n",
       "      <td>45.0</td>\n",
       "      <td>0</td>\n",
       "      <td>2060</td>\n",
       "      <td>1</td>\n",
       "      <td>60</td>\n",
       "      <td>0</td>\n",
       "      <td>742000.0</td>\n",
       "      <td>0.8</td>\n",
       "      <td>138</td>\n",
       "      <td>0</td>\n",
       "      <td>0</td>\n",
       "      <td>278</td>\n",
       "      <td>0</td>\n",
       "    </tr>\n",
       "    <tr>\n",
       "      <th>297</th>\n",
       "      <td>45.0</td>\n",
       "      <td>0</td>\n",
       "      <td>2413</td>\n",
       "      <td>0</td>\n",
       "      <td>38</td>\n",
       "      <td>0</td>\n",
       "      <td>140000.0</td>\n",
       "      <td>1.4</td>\n",
       "      <td>140</td>\n",
       "      <td>1</td>\n",
       "      <td>1</td>\n",
       "      <td>280</td>\n",
       "      <td>0</td>\n",
       "    </tr>\n",
       "    <tr>\n",
       "      <th>298</th>\n",
       "      <td>50.0</td>\n",
       "      <td>0</td>\n",
       "      <td>196</td>\n",
       "      <td>0</td>\n",
       "      <td>45</td>\n",
       "      <td>0</td>\n",
       "      <td>395000.0</td>\n",
       "      <td>1.6</td>\n",
       "      <td>136</td>\n",
       "      <td>1</td>\n",
       "      <td>1</td>\n",
       "      <td>285</td>\n",
       "      <td>0</td>\n",
       "    </tr>\n",
       "  </tbody>\n",
       "</table>\n",
       "</div>"
      ],
      "text/plain": [
       "      age  anaemia  creatinine_phosphokinase  diabetes  ejection_fraction  \\\n",
       "294  62.0        0                        61         1                 38   \n",
       "295  55.0        0                      1820         0                 38   \n",
       "296  45.0        0                      2060         1                 60   \n",
       "297  45.0        0                      2413         0                 38   \n",
       "298  50.0        0                       196         0                 45   \n",
       "\n",
       "     high_blood_pressure  platelets  serum_creatinine  serum_sodium  sex  \\\n",
       "294                    1   155000.0               1.1           143    1   \n",
       "295                    0   270000.0               1.2           139    0   \n",
       "296                    0   742000.0               0.8           138    0   \n",
       "297                    0   140000.0               1.4           140    1   \n",
       "298                    0   395000.0               1.6           136    1   \n",
       "\n",
       "     smoking  time  DEATH_EVENT  \n",
       "294        1   270            0  \n",
       "295        0   271            0  \n",
       "296        0   278            0  \n",
       "297        1   280            0  \n",
       "298        1   285            0  "
      ]
     },
     "execution_count": 3,
     "metadata": {},
     "output_type": "execute_result"
    }
   ],
   "source": [
    "df.tail()"
   ]
  },
  {
   "cell_type": "code",
   "execution_count": 4,
   "id": "4cb21953",
   "metadata": {
    "execution": {
     "iopub.execute_input": "2022-10-08T14:12:14.332837Z",
     "iopub.status.busy": "2022-10-08T14:12:14.331998Z",
     "iopub.status.idle": "2022-10-08T14:12:14.338579Z",
     "shell.execute_reply": "2022-10-08T14:12:14.337583Z"
    },
    "papermill": {
     "duration": 0.023748,
     "end_time": "2022-10-08T14:12:14.340762",
     "exception": false,
     "start_time": "2022-10-08T14:12:14.317014",
     "status": "completed"
    },
    "tags": []
   },
   "outputs": [
    {
     "data": {
      "text/plain": [
       "(299, 13)"
      ]
     },
     "execution_count": 4,
     "metadata": {},
     "output_type": "execute_result"
    }
   ],
   "source": [
    "df.shape"
   ]
  },
  {
   "cell_type": "code",
   "execution_count": 5,
   "id": "30fd4fab",
   "metadata": {
    "execution": {
     "iopub.execute_input": "2022-10-08T14:12:14.370735Z",
     "iopub.status.busy": "2022-10-08T14:12:14.369710Z",
     "iopub.status.idle": "2022-10-08T14:12:14.376662Z",
     "shell.execute_reply": "2022-10-08T14:12:14.375832Z"
    },
    "papermill": {
     "duration": 0.023982,
     "end_time": "2022-10-08T14:12:14.378609",
     "exception": false,
     "start_time": "2022-10-08T14:12:14.354627",
     "status": "completed"
    },
    "tags": []
   },
   "outputs": [
    {
     "data": {
      "text/plain": [
       "Index(['age', 'anaemia', 'creatinine_phosphokinase', 'diabetes',\n",
       "       'ejection_fraction', 'high_blood_pressure', 'platelets',\n",
       "       'serum_creatinine', 'serum_sodium', 'sex', 'smoking', 'time',\n",
       "       'DEATH_EVENT'],\n",
       "      dtype='object')"
      ]
     },
     "execution_count": 5,
     "metadata": {},
     "output_type": "execute_result"
    }
   ],
   "source": [
    "df.columns"
   ]
  },
  {
   "cell_type": "code",
   "execution_count": 6,
   "id": "bf0bd64e",
   "metadata": {
    "execution": {
     "iopub.execute_input": "2022-10-08T14:12:14.408557Z",
     "iopub.status.busy": "2022-10-08T14:12:14.407808Z",
     "iopub.status.idle": "2022-10-08T14:12:14.435536Z",
     "shell.execute_reply": "2022-10-08T14:12:14.434461Z"
    },
    "papermill": {
     "duration": 0.045989,
     "end_time": "2022-10-08T14:12:14.438619",
     "exception": false,
     "start_time": "2022-10-08T14:12:14.392630",
     "status": "completed"
    },
    "tags": []
   },
   "outputs": [
    {
     "name": "stdout",
     "output_type": "stream",
     "text": [
      "<class 'pandas.core.frame.DataFrame'>\n",
      "RangeIndex: 299 entries, 0 to 298\n",
      "Data columns (total 13 columns):\n",
      " #   Column                    Non-Null Count  Dtype  \n",
      "---  ------                    --------------  -----  \n",
      " 0   age                       299 non-null    float64\n",
      " 1   anaemia                   299 non-null    int64  \n",
      " 2   creatinine_phosphokinase  299 non-null    int64  \n",
      " 3   diabetes                  299 non-null    int64  \n",
      " 4   ejection_fraction         299 non-null    int64  \n",
      " 5   high_blood_pressure       299 non-null    int64  \n",
      " 6   platelets                 299 non-null    float64\n",
      " 7   serum_creatinine          299 non-null    float64\n",
      " 8   serum_sodium              299 non-null    int64  \n",
      " 9   sex                       299 non-null    int64  \n",
      " 10  smoking                   299 non-null    int64  \n",
      " 11  time                      299 non-null    int64  \n",
      " 12  DEATH_EVENT               299 non-null    int64  \n",
      "dtypes: float64(3), int64(10)\n",
      "memory usage: 30.5 KB\n"
     ]
    }
   ],
   "source": [
    "df.info()"
   ]
  },
  {
   "cell_type": "markdown",
   "id": "78e3981e",
   "metadata": {
    "papermill": {
     "duration": 0.018135,
     "end_time": "2022-10-08T14:12:14.473754",
     "exception": false,
     "start_time": "2022-10-08T14:12:14.455619",
     "status": "completed"
    },
    "tags": []
   },
   "source": [
    "### Cleaning The Data"
   ]
  },
  {
   "cell_type": "code",
   "execution_count": 7,
   "id": "c3c4e712",
   "metadata": {
    "execution": {
     "iopub.execute_input": "2022-10-08T14:12:14.510786Z",
     "iopub.status.busy": "2022-10-08T14:12:14.509843Z",
     "iopub.status.idle": "2022-10-08T14:12:14.519099Z",
     "shell.execute_reply": "2022-10-08T14:12:14.518039Z"
    },
    "papermill": {
     "duration": 0.032061,
     "end_time": "2022-10-08T14:12:14.521155",
     "exception": false,
     "start_time": "2022-10-08T14:12:14.489094",
     "status": "completed"
    },
    "tags": []
   },
   "outputs": [
    {
     "data": {
      "text/plain": [
       "age                         0\n",
       "anaemia                     0\n",
       "creatinine_phosphokinase    0\n",
       "diabetes                    0\n",
       "ejection_fraction           0\n",
       "high_blood_pressure         0\n",
       "platelets                   0\n",
       "serum_creatinine            0\n",
       "serum_sodium                0\n",
       "sex                         0\n",
       "smoking                     0\n",
       "time                        0\n",
       "DEATH_EVENT                 0\n",
       "dtype: int64"
      ]
     },
     "execution_count": 7,
     "metadata": {},
     "output_type": "execute_result"
    }
   ],
   "source": [
    "# Missing values\n",
    "df.isnull().sum()"
   ]
  },
  {
   "cell_type": "code",
   "execution_count": 8,
   "id": "da43ff40",
   "metadata": {
    "execution": {
     "iopub.execute_input": "2022-10-08T14:12:14.552188Z",
     "iopub.status.busy": "2022-10-08T14:12:14.551493Z",
     "iopub.status.idle": "2022-10-08T14:12:14.561431Z",
     "shell.execute_reply": "2022-10-08T14:12:14.560427Z"
    },
    "papermill": {
     "duration": 0.027593,
     "end_time": "2022-10-08T14:12:14.563501",
     "exception": false,
     "start_time": "2022-10-08T14:12:14.535908",
     "status": "completed"
    },
    "tags": []
   },
   "outputs": [
    {
     "data": {
      "text/plain": [
       "0"
      ]
     },
     "execution_count": 8,
     "metadata": {},
     "output_type": "execute_result"
    }
   ],
   "source": [
    "# Check for dupicate\n",
    "df.duplicated().sum()"
   ]
  },
  {
   "cell_type": "markdown",
   "id": "162d9057",
   "metadata": {
    "papermill": {
     "duration": 0.013958,
     "end_time": "2022-10-08T14:12:14.591782",
     "exception": false,
     "start_time": "2022-10-08T14:12:14.577824",
     "status": "completed"
    },
    "tags": []
   },
   "source": [
    "#### Inspecting our columns"
   ]
  },
  {
   "cell_type": "code",
   "execution_count": 9,
   "id": "1e7488dc",
   "metadata": {
    "execution": {
     "iopub.execute_input": "2022-10-08T14:12:14.622597Z",
     "iopub.status.busy": "2022-10-08T14:12:14.622173Z",
     "iopub.status.idle": "2022-10-08T14:12:14.629277Z",
     "shell.execute_reply": "2022-10-08T14:12:14.628295Z"
    },
    "papermill": {
     "duration": 0.025144,
     "end_time": "2022-10-08T14:12:14.631272",
     "exception": false,
     "start_time": "2022-10-08T14:12:14.606128",
     "status": "completed"
    },
    "tags": []
   },
   "outputs": [
    {
     "data": {
      "text/plain": [
       "Index(['age', 'anaemia', 'creatinine_phosphokinase', 'diabetes',\n",
       "       'ejection_fraction', 'high_blood_pressure', 'platelets',\n",
       "       'serum_creatinine', 'serum_sodium', 'sex', 'smoking', 'time'],\n",
       "      dtype='object')"
      ]
     },
     "execution_count": 9,
     "metadata": {},
     "output_type": "execute_result"
    }
   ],
   "source": [
    "Cols = df.columns.drop(\"DEATH_EVENT\")\n",
    "Cols"
   ]
  },
  {
   "cell_type": "code",
   "execution_count": 10,
   "id": "803cdcd3",
   "metadata": {
    "execution": {
     "iopub.execute_input": "2022-10-08T14:12:14.661575Z",
     "iopub.status.busy": "2022-10-08T14:12:14.661174Z",
     "iopub.status.idle": "2022-10-08T14:12:29.186953Z",
     "shell.execute_reply": "2022-10-08T14:12:29.186103Z"
    },
    "papermill": {
     "duration": 14.54361,
     "end_time": "2022-10-08T14:12:29.189265",
     "exception": false,
     "start_time": "2022-10-08T14:12:14.645655",
     "status": "completed"
    },
    "tags": []
   },
   "outputs": [
    {
     "data": {
      "image/png": "[encoded data removed]",
      "text/plain": [
       "<Figure size 1296x432 with 1 Axes>"
      ]
     },
     "metadata": {
      "needs_background": "light"
     },
     "output_type": "display_data"
    },
    {
     "data": {
      "image/png": "[encoded data removed]",
      "text/plain": [
       "<Figure size 1296x432 with 1 Axes>"
      ]
     },
     "metadata": {
      "needs_background": "light"
     },
     "output_type": "display_data"
    },
    {
     "data": {
      "image/png": "[encoded data removed]",
      "text/plain": [
       "<Figure size 1296x432 with 1 Axes>"
      ]
     },
     "metadata": {
      "needs_background": "light"
     },
     "output_type": "display_data"
    },
    {
     "data": {
      "image/png": "[encoded data removed]",
      "text/plain": [
       "<Figure size 1296x432 with 1 Axes>"
      ]
     },
     "metadata": {
      "needs_background": "light"
     },
     "output_type": "display_data"
    },
    {
     "data": {
      "image/png": "[encoded data removed]",
      "text/plain": [
       "<Figure size 1296x432 with 1 Axes>"
      ]
     },
     "metadata": {
      "needs_background": "light"
     },
     "output_type": "display_data"
    },
    {
     "data": {
      "image/png": "[encoded data removed]",
      "text/plain": [
       "<Figure size 1296x432 with 1 Axes>"
      ]
     },
     "metadata": {
      "needs_background": "light"
     },
     "output_type": "display_data"
    },
    {
     "data": {
      "image/png": "[encoded data removed]",
      "text/plain": [
       "<Figure size 1296x432 with 1 Axes>"
      ]
     },
     "metadata": {
      "needs_background": "light"
     },
     "output_type": "display_data"
    },
    {
     "data": {
      "image/png": "[encoded data removed]",
      "text/plain": [
       "<Figure size 1296x432 with 1 Axes>"
      ]
     },
     "metadata": {
      "needs_background": "light"
     },
     "output_type": "display_data"
    },
    {
     "data": {
      "image/png": "[encoded data removed]",
      "text/plain": [
       "<Figure size 1296x432 with 1 Axes>"
      ]
     },
     "metadata": {
      "needs_background": "light"
     },
     "output_type": "display_data"
    },
    {
     "data": {
      "image/png": "[encoded data removed]",
      "text/plain": [
       "<Figure size 1296x432 with 1 Axes>"
      ]
     },
     "metadata": {
      "needs_background": "light"
     },
     "output_type": "display_data"
    },
    {
     "data": {
      "image/png": "[encoded data removed]",
      "text/plain": [
       "<Figure size 1296x432 with 1 Axes>"
      ]
     },
     "metadata": {
      "needs_background": "light"
     },
     "output_type": "display_data"
    },
    {
     "data": {
      "image/png": "[encoded data removed]",
      "text/plain": [
       "<Figure size 1296x432 with 1 Axes>"
      ]
     },
     "metadata": {
      "needs_background": "light"
     },
     "output_type": "display_data"
    }
   ],
   "source": [
    "for col in Cols:\n",
    "    plt.figure(figsize=(18,6))\n",
    "    sns.boxplot(x=col, y=\"DEATH_EVENT\", data=df)\n",
    "    plt.show()"
   ]
  },
  {
   "cell_type": "code",
   "execution_count": 11,
   "id": "ac790425",
   "metadata": {
    "execution": {
     "iopub.execute_input": "2022-10-08T14:12:29.229355Z",
     "iopub.status.busy": "2022-10-08T14:12:29.228478Z",
     "iopub.status.idle": "2022-10-08T14:12:29.582169Z",
     "shell.execute_reply": "2022-10-08T14:12:29.581066Z"
    },
    "papermill": {
     "duration": 0.37627,
     "end_time": "2022-10-08T14:12:29.584708",
     "exception": false,
     "start_time": "2022-10-08T14:12:29.208438",
     "status": "completed"
    },
    "tags": []
   },
   "outputs": [
    {
     "data": {
      "image/png": "[encoded data removed]",
      "text/plain": [
       "<Figure size 1440x1080 with 1 Axes>"
      ]
     },
     "metadata": {
      "needs_background": "light"
     },
     "output_type": "display_data"
    }
   ],
   "source": [
    "# Outliers values\n",
    "plt.figure(figsize=(20, 15))\n",
    "plt.boxplot(df, labels=df.columns)\n",
    "plt.show()\n"
   ]
  },
  {
   "cell_type": "markdown",
   "id": "4ec9d691",
   "metadata": {
    "papermill": {
     "duration": 0.019019,
     "end_time": "2022-10-08T14:12:29.622958",
     "exception": false,
     "start_time": "2022-10-08T14:12:29.603939",
     "status": "completed"
    },
    "tags": []
   },
   "source": [
    "### Creatinine phosphokinase column"
   ]
  },
  {
   "cell_type": "code",
   "execution_count": 12,
   "id": "7981366d",
   "metadata": {
    "execution": {
     "iopub.execute_input": "2022-10-08T14:12:29.662943Z",
     "iopub.status.busy": "2022-10-08T14:12:29.662202Z",
     "iopub.status.idle": "2022-10-08T14:12:29.673101Z",
     "shell.execute_reply": "2022-10-08T14:12:29.671950Z"
    },
    "papermill": {
     "duration": 0.03323,
     "end_time": "2022-10-08T14:12:29.675218",
     "exception": false,
     "start_time": "2022-10-08T14:12:29.641988",
     "status": "completed"
    },
    "tags": []
   },
   "outputs": [
    {
     "data": {
      "text/plain": [
       "count     299.000000\n",
       "mean      581.839465\n",
       "std       970.287881\n",
       "min        23.000000\n",
       "25%       116.500000\n",
       "50%       250.000000\n",
       "75%       582.000000\n",
       "max      7861.000000\n",
       "Name: creatinine_phosphokinase, dtype: float64"
      ]
     },
     "execution_count": 12,
     "metadata": {},
     "output_type": "execute_result"
    }
   ],
   "source": [
    "df['creatinine_phosphokinase'].describe()"
   ]
  },
  {
   "cell_type": "code",
   "execution_count": 13,
   "id": "9dfe69c7",
   "metadata": {
    "execution": {
     "iopub.execute_input": "2022-10-08T14:12:29.715264Z",
     "iopub.status.busy": "2022-10-08T14:12:29.714611Z",
     "iopub.status.idle": "2022-10-08T14:12:29.961163Z",
     "shell.execute_reply": "2022-10-08T14:12:29.960016Z"
    },
    "papermill": {
     "duration": 0.269369,
     "end_time": "2022-10-08T14:12:29.963697",
     "exception": false,
     "start_time": "2022-10-08T14:12:29.694328",
     "status": "completed"
    },
    "tags": []
   },
   "outputs": [
    {
     "name": "stderr",
     "output_type": "stream",
     "text": [
      "/opt/conda/lib/python3.7/site-packages/seaborn/_decorators.py:43: FutureWarning: Pass the following variable as a keyword arg: x. From version 0.12, the only valid positional argument will be `data`, and passing other arguments without an explicit keyword will result in an error or misinterpretation.\n",
      "  FutureWarning\n"
     ]
    },
    {
     "data": {
      "text/plain": [
       "Text(0.5, 1.0, 'Outliers values')"
      ]
     },
     "execution_count": 13,
     "metadata": {},
     "output_type": "execute_result"
    },
    {
     "data": {
      "image/png": "[encoded data removed]",
      "text/plain": [
       "<Figure size 1440x1080 with 1 Axes>"
      ]
     },
     "metadata": {
      "needs_background": "light"
     },
     "output_type": "display_data"
    }
   ],
   "source": [
    "plt.figure(figsize=(20, 15))\n",
    "sns.boxplot(df['creatinine_phosphokinase'], labels=['Creatinine Phosphokinase'])\n",
    "plt.title('Outliers values')"
   ]
  },
  {
   "cell_type": "code",
   "execution_count": 14,
   "id": "4ebf62d0",
   "metadata": {
    "execution": {
     "iopub.execute_input": "2022-10-08T14:12:30.005800Z",
     "iopub.status.busy": "2022-10-08T14:12:30.005387Z",
     "iopub.status.idle": "2022-10-08T14:12:30.032627Z",
     "shell.execute_reply": "2022-10-08T14:12:30.031567Z"
    },
    "papermill": {
     "duration": 0.051413,
     "end_time": "2022-10-08T14:12:30.035197",
     "exception": false,
     "start_time": "2022-10-08T14:12:29.983784",
     "status": "completed"
    },
    "tags": []
   },
   "outputs": [],
   "source": [
    "# Removing outliers\n",
    "q1 = df['creatinine_phosphokinase'].quantile(0.25)\n",
    "q3 = df['creatinine_phosphokinase'].quantile(0.75)\n",
    "iqr = q3 - q1\n",
    "toprange = q3 + iqr * 1.5\n",
    "botrange = q1 - iqr * 1.5\n",
    "for i in df.index:\n",
    "    if df.loc[i, 'creatinine_phosphokinase'] > toprange:\n",
    "        df.loc[i, 'creatinine_phosphokinase'] = toprange\n",
    "    if df.loc[i, 'creatinine_phosphokinase'] < botrange:\n",
    "        df.loc[i, 'creatinine_phosphokinase'] = botrange"
   ]
  },
  {
   "cell_type": "code",
   "execution_count": 15,
   "id": "5f49d614",
   "metadata": {
    "execution": {
     "iopub.execute_input": "2022-10-08T14:12:30.077607Z",
     "iopub.status.busy": "2022-10-08T14:12:30.076635Z",
     "iopub.status.idle": "2022-10-08T14:12:30.309968Z",
     "shell.execute_reply": "2022-10-08T14:12:30.309082Z"
    },
    "papermill": {
     "duration": 0.256654,
     "end_time": "2022-10-08T14:12:30.312027",
     "exception": false,
     "start_time": "2022-10-08T14:12:30.055373",
     "status": "completed"
    },
    "tags": []
   },
   "outputs": [
    {
     "name": "stderr",
     "output_type": "stream",
     "text": [
      "/opt/conda/lib/python3.7/site-packages/seaborn/_decorators.py:43: FutureWarning: Pass the following variable as a keyword arg: x. From version 0.12, the only valid positional argument will be `data`, and passing other arguments without an explicit keyword will result in an error or misinterpretation.\n",
      "  FutureWarning\n"
     ]
    },
    {
     "data": {
      "text/plain": [
       "Text(0.5, 1.0, 'Cleaning values')"
      ]
     },
     "execution_count": 15,
     "metadata": {},
     "output_type": "execute_result"
    },
    {
     "data": {
      "image/png": "[encoded data removed]",
      "text/plain": [
       "<Figure size 1440x1080 with 1 Axes>"
      ]
     },
     "metadata": {
      "needs_background": "light"
     },
     "output_type": "display_data"
    }
   ],
   "source": [
    "# Creatinine phosphokinase column after cleaning\n",
    "plt.figure(figsize=(20, 15))\n",
    "sns.boxplot(df['creatinine_phosphokinase'], labels=['Creatinine Phosphokinase'])\n",
    "plt.title('Cleaning values')"
   ]
  },
  {
   "cell_type": "code",
   "execution_count": 16,
   "id": "684a6d78",
   "metadata": {
    "execution": {
     "iopub.execute_input": "2022-10-08T14:12:30.354890Z",
     "iopub.status.busy": "2022-10-08T14:12:30.354459Z",
     "iopub.status.idle": "2022-10-08T14:12:30.365019Z",
     "shell.execute_reply": "2022-10-08T14:12:30.363949Z"
    },
    "papermill": {
     "duration": 0.034743,
     "end_time": "2022-10-08T14:12:30.367227",
     "exception": false,
     "start_time": "2022-10-08T14:12:30.332484",
     "status": "completed"
    },
    "tags": []
   },
   "outputs": [
    {
     "data": {
      "text/plain": [
       "count    299.000000\n",
       "mean      38.083612\n",
       "std       11.834841\n",
       "min       14.000000\n",
       "25%       30.000000\n",
       "50%       38.000000\n",
       "75%       45.000000\n",
       "max       80.000000\n",
       "Name: ejection_fraction, dtype: float64"
      ]
     },
     "execution_count": 16,
     "metadata": {},
     "output_type": "execute_result"
    }
   ],
   "source": [
    "df['ejection_fraction'].describe()"
   ]
  },
  {
   "cell_type": "code",
   "execution_count": 17,
   "id": "441ab23a",
   "metadata": {
    "execution": {
     "iopub.execute_input": "2022-10-08T14:12:30.410032Z",
     "iopub.status.busy": "2022-10-08T14:12:30.409607Z",
     "iopub.status.idle": "2022-10-08T14:12:30.638260Z",
     "shell.execute_reply": "2022-10-08T14:12:30.637140Z"
    },
    "papermill": {
     "duration": 0.252765,
     "end_time": "2022-10-08T14:12:30.640600",
     "exception": false,
     "start_time": "2022-10-08T14:12:30.387835",
     "status": "completed"
    },
    "tags": []
   },
   "outputs": [
    {
     "name": "stderr",
     "output_type": "stream",
     "text": [
      "/opt/conda/lib/python3.7/site-packages/seaborn/_decorators.py:43: FutureWarning: Pass the following variable as a keyword arg: x. From version 0.12, the only valid positional argument will be `data`, and passing other arguments without an explicit keyword will result in an error or misinterpretation.\n",
      "  FutureWarning\n"
     ]
    },
    {
     "data": {
      "text/plain": [
       "Text(0.5, 1.0, 'Outliers values')"
      ]
     },
     "execution_count": 17,
     "metadata": {},
     "output_type": "execute_result"
    },
    {
     "data": {
      "image/png": "[encoded data removed]",
      "text/plain": [
       "<Figure size 1440x1080 with 1 Axes>"
      ]
     },
     "metadata": {
      "needs_background": "light"
     },
     "output_type": "display_data"
    }
   ],
   "source": [
    "plt.figure(figsize=(20, 15))\n",
    "sns.boxplot(df['ejection_fraction'], labels=['Ejection fraction'])\n",
    "plt.title('Outliers values')"
   ]
  },
  {
   "cell_type": "code",
   "execution_count": 18,
   "id": "c03c5664",
   "metadata": {
    "execution": {
     "iopub.execute_input": "2022-10-08T14:12:30.685058Z",
     "iopub.status.busy": "2022-10-08T14:12:30.684661Z",
     "iopub.status.idle": "2022-10-08T14:12:30.702425Z",
     "shell.execute_reply": "2022-10-08T14:12:30.701550Z"
    },
    "papermill": {
     "duration": 0.042886,
     "end_time": "2022-10-08T14:12:30.704761",
     "exception": false,
     "start_time": "2022-10-08T14:12:30.661875",
     "status": "completed"
    },
    "tags": []
   },
   "outputs": [],
   "source": [
    "# Removing outliers\n",
    "q1 = df['ejection_fraction'].quantile(0.25)\n",
    "q3 = df['ejection_fraction'].quantile(0.75)\n",
    "iqr = q3 - q1\n",
    "toprange = q3 + iqr * 1.5\n",
    "botrange = q1 - iqr * 1.5\n",
    "for i in df.index:\n",
    "    if df.loc[i, 'ejection_fraction'] > toprange:\n",
    "        df.loc[i, 'ejection_fraction'] = toprange\n",
    "    if df.loc[i, 'ejection_fraction'] < botrange:\n",
    "        df.loc[i, 'ejection_fraction'] = botrange"
   ]
  },
  {
   "cell_type": "code",
   "execution_count": 19,
   "id": "3e09c162",
   "metadata": {
    "execution": {
     "iopub.execute_input": "2022-10-08T14:12:30.748490Z",
     "iopub.status.busy": "2022-10-08T14:12:30.748081Z",
     "iopub.status.idle": "2022-10-08T14:12:30.974913Z",
     "shell.execute_reply": "2022-10-08T14:12:30.973807Z"
    },
    "papermill": {
     "duration": 0.252342,
     "end_time": "2022-10-08T14:12:30.977913",
     "exception": false,
     "start_time": "2022-10-08T14:12:30.725571",
     "status": "completed"
    },
    "tags": []
   },
   "outputs": [
    {
     "name": "stderr",
     "output_type": "stream",
     "text": [
      "/opt/conda/lib/python3.7/site-packages/seaborn/_decorators.py:43: FutureWarning: Pass the following variable as a keyword arg: x. From version 0.12, the only valid positional argument will be `data`, and passing other arguments without an explicit keyword will result in an error or misinterpretation.\n",
      "  FutureWarning\n"
     ]
    },
    {
     "data": {
      "text/plain": [
       "Text(0.5, 1.0, 'Cleaning values')"
      ]
     },
     "execution_count": 19,
     "metadata": {},
     "output_type": "execute_result"
    },
    {
     "data": {
      "image/png": "[encoded data removed]",
      "text/plain": [
       "<Figure size 1440x1080 with 1 Axes>"
      ]
     },
     "metadata": {
      "needs_background": "light"
     },
     "output_type": "display_data"
    }
   ],
   "source": [
    "# Ejection fraction column after cleaning\n",
    "plt.figure(figsize=(20, 15))\n",
    "sns.boxplot(df['ejection_fraction'], labels=['Ejection fraction'])\n",
    "plt.title('Cleaning values')"
   ]
  },
  {
   "cell_type": "code",
   "execution_count": 20,
   "id": "f28fd337",
   "metadata": {
    "execution": {
     "iopub.execute_input": "2022-10-08T14:12:31.022957Z",
     "iopub.status.busy": "2022-10-08T14:12:31.022556Z",
     "iopub.status.idle": "2022-10-08T14:12:31.032746Z",
     "shell.execute_reply": "2022-10-08T14:12:31.031800Z"
    },
    "papermill": {
     "duration": 0.035105,
     "end_time": "2022-10-08T14:12:31.034992",
     "exception": false,
     "start_time": "2022-10-08T14:12:30.999887",
     "status": "completed"
    },
    "tags": []
   },
   "outputs": [
    {
     "data": {
      "text/plain": [
       "count       299.000000\n",
       "mean     263358.029264\n",
       "std       97804.236869\n",
       "min       25100.000000\n",
       "25%      212500.000000\n",
       "50%      262000.000000\n",
       "75%      303500.000000\n",
       "max      850000.000000\n",
       "Name: platelets, dtype: float64"
      ]
     },
     "execution_count": 20,
     "metadata": {},
     "output_type": "execute_result"
    }
   ],
   "source": [
    "df['platelets'].describe()"
   ]
  },
  {
   "cell_type": "code",
   "execution_count": 21,
   "id": "82938f2c",
   "metadata": {
    "execution": {
     "iopub.execute_input": "2022-10-08T14:12:31.080441Z",
     "iopub.status.busy": "2022-10-08T14:12:31.079704Z",
     "iopub.status.idle": "2022-10-08T14:12:31.297908Z",
     "shell.execute_reply": "2022-10-08T14:12:31.296540Z"
    },
    "papermill": {
     "duration": 0.243649,
     "end_time": "2022-10-08T14:12:31.300572",
     "exception": false,
     "start_time": "2022-10-08T14:12:31.056923",
     "status": "completed"
    },
    "tags": []
   },
   "outputs": [
    {
     "name": "stderr",
     "output_type": "stream",
     "text": [
      "/opt/conda/lib/python3.7/site-packages/seaborn/_decorators.py:43: FutureWarning: Pass the following variable as a keyword arg: x. From version 0.12, the only valid positional argument will be `data`, and passing other arguments without an explicit keyword will result in an error or misinterpretation.\n",
      "  FutureWarning\n"
     ]
    },
    {
     "data": {
      "text/plain": [
       "Text(0.5, 1.0, 'Outliers values')"
      ]
     },
     "execution_count": 21,
     "metadata": {},
     "output_type": "execute_result"
    },
    {
     "data": {
      "image/png": "[encoded data removed]",
      "text/plain": [
       "<Figure size 1440x1080 with 1 Axes>"
      ]
     },
     "metadata": {
      "needs_background": "light"
     },
     "output_type": "display_data"
    }
   ],
   "source": [
    "plt.figure(figsize=(20, 15))\n",
    "sns.boxplot(df['platelets'], labels=['platelets'])\n",
    "plt.title('Outliers values')"
   ]
  },
  {
   "cell_type": "code",
   "execution_count": 22,
   "id": "f764d8b1",
   "metadata": {
    "execution": {
     "iopub.execute_input": "2022-10-08T14:12:31.346123Z",
     "iopub.status.busy": "2022-10-08T14:12:31.345720Z",
     "iopub.status.idle": "2022-10-08T14:12:31.369144Z",
     "shell.execute_reply": "2022-10-08T14:12:31.368002Z"
    },
    "papermill": {
     "duration": 0.049286,
     "end_time": "2022-10-08T14:12:31.371931",
     "exception": false,
     "start_time": "2022-10-08T14:12:31.322645",
     "status": "completed"
    },
    "tags": []
   },
   "outputs": [],
   "source": [
    "# Removing outliers\n",
    "q1 = df.platelets.quantile(0.25)\n",
    "q3 = df.platelets.quantile(0.75)\n",
    "iqr = q3 - q1\n",
    "toprange = q3 + iqr * 1.5\n",
    "botrange = q1 - iqr * 1.5\n",
    "for i in df.index:\n",
    "    if df.loc[i, 'platelets'] > toprange:\n",
    "        df.loc[i, 'platelets'] = toprange\n",
    "    if df.loc[i, 'platelets'] < botrange:\n",
    "        df.loc[i, 'platelets'] = botrange"
   ]
  },
  {
   "cell_type": "code",
   "execution_count": 23,
   "id": "d26954a1",
   "metadata": {
    "execution": {
     "iopub.execute_input": "2022-10-08T14:12:31.417660Z",
     "iopub.status.busy": "2022-10-08T14:12:31.416626Z",
     "iopub.status.idle": "2022-10-08T14:12:31.650414Z",
     "shell.execute_reply": "2022-10-08T14:12:31.649451Z"
    },
    "papermill": {
     "duration": 0.259227,
     "end_time": "2022-10-08T14:12:31.652888",
     "exception": false,
     "start_time": "2022-10-08T14:12:31.393661",
     "status": "completed"
    },
    "tags": []
   },
   "outputs": [
    {
     "name": "stderr",
     "output_type": "stream",
     "text": [
      "/opt/conda/lib/python3.7/site-packages/seaborn/_decorators.py:43: FutureWarning: Pass the following variable as a keyword arg: x. From version 0.12, the only valid positional argument will be `data`, and passing other arguments without an explicit keyword will result in an error or misinterpretation.\n",
      "  FutureWarning\n"
     ]
    },
    {
     "data": {
      "text/plain": [
       "Text(0.5, 1.0, 'Cleaning values')"
      ]
     },
     "execution_count": 23,
     "metadata": {},
     "output_type": "execute_result"
    },
    {
     "data": {
      "image/png": "[encoded data removed]",
      "text/plain": [
       "<Figure size 1440x1080 with 1 Axes>"
      ]
     },
     "metadata": {
      "needs_background": "light"
     },
     "output_type": "display_data"
    }
   ],
   "source": [
    "# Platelets column after cleaning\n",
    "plt.figure(figsize=(20, 15))\n",
    "sns.boxplot(df['platelets'], labels=['Platelets'])\n",
    "plt.title('Cleaning values')"
   ]
  },
  {
   "cell_type": "code",
   "execution_count": 24,
   "id": "6bd483e3",
   "metadata": {
    "execution": {
     "iopub.execute_input": "2022-10-08T14:12:31.699134Z",
     "iopub.status.busy": "2022-10-08T14:12:31.698723Z",
     "iopub.status.idle": "2022-10-08T14:12:31.708591Z",
     "shell.execute_reply": "2022-10-08T14:12:31.707722Z"
    },
    "papermill": {
     "duration": 0.035423,
     "end_time": "2022-10-08T14:12:31.710651",
     "exception": false,
     "start_time": "2022-10-08T14:12:31.675228",
     "status": "completed"
    },
    "tags": []
   },
   "outputs": [
    {
     "data": {
      "text/plain": [
       "count    299.00000\n",
       "mean       1.39388\n",
       "std        1.03451\n",
       "min        0.50000\n",
       "25%        0.90000\n",
       "50%        1.10000\n",
       "75%        1.40000\n",
       "max        9.40000\n",
       "Name: serum_creatinine, dtype: float64"
      ]
     },
     "execution_count": 24,
     "metadata": {},
     "output_type": "execute_result"
    }
   ],
   "source": [
    "df['serum_creatinine'].describe()"
   ]
  },
  {
   "cell_type": "code",
   "execution_count": 25,
   "id": "faa04a7c",
   "metadata": {
    "execution": {
     "iopub.execute_input": "2022-10-08T14:12:31.756676Z",
     "iopub.status.busy": "2022-10-08T14:12:31.756266Z",
     "iopub.status.idle": "2022-10-08T14:12:31.974332Z",
     "shell.execute_reply": "2022-10-08T14:12:31.973222Z"
    },
    "papermill": {
     "duration": 0.244066,
     "end_time": "2022-10-08T14:12:31.976796",
     "exception": false,
     "start_time": "2022-10-08T14:12:31.732730",
     "status": "completed"
    },
    "tags": []
   },
   "outputs": [
    {
     "data": {
      "text/plain": [
       "Text(0.5, 1.0, 'Outliers values')"
      ]
     },
     "execution_count": 25,
     "metadata": {},
     "output_type": "execute_result"
    },
    {
     "data": {
      "image/png": "[encoded data removed]",
      "text/plain": [
       "<Figure size 1440x1080 with 1 Axes>"
      ]
     },
     "metadata": {
      "needs_background": "light"
     },
     "output_type": "display_data"
    }
   ],
   "source": [
    "plt.figure(figsize=(20, 15))\n",
    "plt.boxplot(df['serum_creatinine'], labels=['Serum creatinine'])\n",
    "plt.title('Outliers values')"
   ]
  },
  {
   "cell_type": "code",
   "execution_count": 26,
   "id": "a67003e5",
   "metadata": {
    "execution": {
     "iopub.execute_input": "2022-10-08T14:12:32.025364Z",
     "iopub.status.busy": "2022-10-08T14:12:32.024956Z",
     "iopub.status.idle": "2022-10-08T14:12:32.055031Z",
     "shell.execute_reply": "2022-10-08T14:12:32.053548Z"
    },
    "papermill": {
     "duration": 0.05692,
     "end_time": "2022-10-08T14:12:32.057489",
     "exception": false,
     "start_time": "2022-10-08T14:12:32.000569",
     "status": "completed"
    },
    "tags": []
   },
   "outputs": [],
   "source": [
    "# Removing outliers\n",
    "q1 = df.serum_creatinine.quantile(0.25)\n",
    "q3 = df.serum_creatinine.quantile(0.75)\n",
    "iqr = q3 - q1\n",
    "toprange = q3 + iqr * 1.5\n",
    "botrange = q1 - iqr * 1.5\n",
    "for i in df.index:\n",
    "    if df.loc[i, 'serum_creatinine'] > toprange:\n",
    "        df.loc[i, 'serum_creatinine'] = toprange\n",
    "    if df.loc[i, 'serum_creatinine'] < botrange:\n",
    "        df.loc[i, 'serum_creatinine'] = botrange"
   ]
  },
  {
   "cell_type": "code",
   "execution_count": 27,
   "id": "8c939d61",
   "metadata": {
    "execution": {
     "iopub.execute_input": "2022-10-08T14:12:32.105489Z",
     "iopub.status.busy": "2022-10-08T14:12:32.105072Z",
     "iopub.status.idle": "2022-10-08T14:12:32.338334Z",
     "shell.execute_reply": "2022-10-08T14:12:32.337248Z"
    },
    "papermill": {
     "duration": 0.260044,
     "end_time": "2022-10-08T14:12:32.340741",
     "exception": false,
     "start_time": "2022-10-08T14:12:32.080697",
     "status": "completed"
    },
    "tags": []
   },
   "outputs": [
    {
     "name": "stderr",
     "output_type": "stream",
     "text": [
      "/opt/conda/lib/python3.7/site-packages/seaborn/_decorators.py:43: FutureWarning: Pass the following variable as a keyword arg: x. From version 0.12, the only valid positional argument will be `data`, and passing other arguments without an explicit keyword will result in an error or misinterpretation.\n",
      "  FutureWarning\n"
     ]
    },
    {
     "data": {
      "text/plain": [
       "Text(0.5, 1.0, 'Cleaning values')"
      ]
     },
     "execution_count": 27,
     "metadata": {},
     "output_type": "execute_result"
    },
    {
     "data": {
      "image/png": "[encoded data removed]",
      "text/plain": [
       "<Figure size 1440x1080 with 1 Axes>"
      ]
     },
     "metadata": {
      "needs_background": "light"
     },
     "output_type": "display_data"
    }
   ],
   "source": [
    "# Platelets column after cleaning\n",
    "plt.figure(figsize=(20, 15))\n",
    "sns.boxplot(df['serum_creatinine'], labels=['Serum creatinine'])\n",
    "plt.title('Cleaning values')"
   ]
  },
  {
   "cell_type": "code",
   "execution_count": 28,
   "id": "1c7894bc",
   "metadata": {
    "execution": {
     "iopub.execute_input": "2022-10-08T14:12:32.388431Z",
     "iopub.status.busy": "2022-10-08T14:12:32.388032Z",
     "iopub.status.idle": "2022-10-08T14:12:32.398772Z",
     "shell.execute_reply": "2022-10-08T14:12:32.397752Z"
    },
    "papermill": {
     "duration": 0.036907,
     "end_time": "2022-10-08T14:12:32.400788",
     "exception": false,
     "start_time": "2022-10-08T14:12:32.363881",
     "status": "completed"
    },
    "tags": []
   },
   "outputs": [
    {
     "data": {
      "text/plain": [
       "count    299.000000\n",
       "mean     136.625418\n",
       "std        4.412477\n",
       "min      113.000000\n",
       "25%      134.000000\n",
       "50%      137.000000\n",
       "75%      140.000000\n",
       "max      148.000000\n",
       "Name: serum_sodium, dtype: float64"
      ]
     },
     "execution_count": 28,
     "metadata": {},
     "output_type": "execute_result"
    }
   ],
   "source": [
    "df.serum_sodium.describe()"
   ]
  },
  {
   "cell_type": "code",
   "execution_count": 29,
   "id": "4e1b0ab3",
   "metadata": {
    "execution": {
     "iopub.execute_input": "2022-10-08T14:12:32.450830Z",
     "iopub.status.busy": "2022-10-08T14:12:32.450053Z",
     "iopub.status.idle": "2022-10-08T14:12:32.676756Z",
     "shell.execute_reply": "2022-10-08T14:12:32.675700Z"
    },
    "papermill": {
     "duration": 0.255151,
     "end_time": "2022-10-08T14:12:32.679087",
     "exception": false,
     "start_time": "2022-10-08T14:12:32.423936",
     "status": "completed"
    },
    "tags": []
   },
   "outputs": [
    {
     "name": "stderr",
     "output_type": "stream",
     "text": [
      "/opt/conda/lib/python3.7/site-packages/seaborn/_decorators.py:43: FutureWarning: Pass the following variable as a keyword arg: x. From version 0.12, the only valid positional argument will be `data`, and passing other arguments without an explicit keyword will result in an error or misinterpretation.\n",
      "  FutureWarning\n"
     ]
    },
    {
     "data": {
      "text/plain": [
       "Text(0.5, 1.0, 'Outliers values')"
      ]
     },
     "execution_count": 29,
     "metadata": {},
     "output_type": "execute_result"
    },
    {
     "data": {
      "image/png": "[encoded data removed]",
      "text/plain": [
       "<Figure size 1440x1080 with 1 Axes>"
      ]
     },
     "metadata": {
      "needs_background": "light"
     },
     "output_type": "display_data"
    }
   ],
   "source": [
    "plt.figure(figsize=(20, 15))\n",
    "sns.boxplot(df['serum_sodium'], labels=['Serum sodium'])\n",
    "plt.title('Outliers values')"
   ]
  },
  {
   "cell_type": "code",
   "execution_count": 30,
   "id": "36803045",
   "metadata": {
    "execution": {
     "iopub.execute_input": "2022-10-08T14:12:32.729080Z",
     "iopub.status.busy": "2022-10-08T14:12:32.728102Z",
     "iopub.status.idle": "2022-10-08T14:12:32.747145Z",
     "shell.execute_reply": "2022-10-08T14:12:32.746311Z"
    },
    "papermill": {
     "duration": 0.046343,
     "end_time": "2022-10-08T14:12:32.749343",
     "exception": false,
     "start_time": "2022-10-08T14:12:32.703000",
     "status": "completed"
    },
    "tags": []
   },
   "outputs": [],
   "source": [
    "# Removing outliers\n",
    "q1 = df.serum_sodium.quantile(0.25)\n",
    "q3 = df.serum_sodium.quantile(0.75)\n",
    "iqr = q3 - q1\n",
    "toprange = q3 + iqr * 1.5\n",
    "botrange = q1 - iqr * 1.5\n",
    "for i in df.index:\n",
    "    if df.loc[i, 'serum_sodium'] > toprange:\n",
    "        df.loc[i, 'serum_sodium'] = toprange\n",
    "    if df.loc[i, 'serum_sodium'] < botrange:\n",
    "        df.loc[i, 'serum_sodium'] = botrange"
   ]
  },
  {
   "cell_type": "code",
   "execution_count": 31,
   "id": "1b7caeae",
   "metadata": {
    "execution": {
     "iopub.execute_input": "2022-10-08T14:12:32.798411Z",
     "iopub.status.busy": "2022-10-08T14:12:32.797649Z",
     "iopub.status.idle": "2022-10-08T14:12:33.016803Z",
     "shell.execute_reply": "2022-10-08T14:12:33.015493Z"
    },
    "papermill": {
     "duration": 0.246349,
     "end_time": "2022-10-08T14:12:33.019237",
     "exception": false,
     "start_time": "2022-10-08T14:12:32.772888",
     "status": "completed"
    },
    "tags": []
   },
   "outputs": [
    {
     "name": "stderr",
     "output_type": "stream",
     "text": [
      "/opt/conda/lib/python3.7/site-packages/seaborn/_decorators.py:43: FutureWarning: Pass the following variable as a keyword arg: x. From version 0.12, the only valid positional argument will be `data`, and passing other arguments without an explicit keyword will result in an error or misinterpretation.\n",
      "  FutureWarning\n"
     ]
    },
    {
     "data": {
      "text/plain": [
       "Text(0.5, 1.0, 'Cleaning values')"
      ]
     },
     "execution_count": 31,
     "metadata": {},
     "output_type": "execute_result"
    },
    {
     "data": {
      "image/png": "[encoded data removed]",
      "text/plain": [
       "<Figure size 1440x1080 with 1 Axes>"
      ]
     },
     "metadata": {
      "needs_background": "light"
     },
     "output_type": "display_data"
    }
   ],
   "source": [
    "# Serum sodium column after cleaning\n",
    "plt.figure(figsize=(20, 15))\n",
    "sns.boxplot(df['serum_sodium'], labels=['Serum sodium'])\n",
    "plt.title('Cleaning values')"
   ]
  },
  {
   "cell_type": "markdown",
   "id": "791ad90a",
   "metadata": {
    "papermill": {
     "duration": 0.024403,
     "end_time": "2022-10-08T14:12:33.068163",
     "exception": false,
     "start_time": "2022-10-08T14:12:33.043760",
     "status": "completed"
    },
    "tags": []
   },
   "source": [
    "### Dropping the time column"
   ]
  },
  {
   "cell_type": "code",
   "execution_count": 32,
   "id": "b8c1f9a7",
   "metadata": {
    "execution": {
     "iopub.execute_input": "2022-10-08T14:12:33.117541Z",
     "iopub.status.busy": "2022-10-08T14:12:33.117140Z",
     "iopub.status.idle": "2022-10-08T14:12:33.123996Z",
     "shell.execute_reply": "2022-10-08T14:12:33.123212Z"
    },
    "papermill": {
     "duration": 0.033891,
     "end_time": "2022-10-08T14:12:33.125999",
     "exception": false,
     "start_time": "2022-10-08T14:12:33.092108",
     "status": "completed"
    },
    "tags": []
   },
   "outputs": [],
   "source": [
    "df.drop('time', axis=1, inplace=True)"
   ]
  },
  {
   "cell_type": "markdown",
   "id": "b45d1e9e",
   "metadata": {
    "papermill": {
     "duration": 0.024775,
     "end_time": "2022-10-08T14:12:33.175253",
     "exception": false,
     "start_time": "2022-10-08T14:12:33.150478",
     "status": "completed"
    },
    "tags": []
   },
   "source": [
    "## Exploring the data\n"
   ]
  },
  {
   "cell_type": "code",
   "execution_count": 33,
   "id": "18b04e68",
   "metadata": {
    "execution": {
     "iopub.execute_input": "2022-10-08T14:12:33.226107Z",
     "iopub.status.busy": "2022-10-08T14:12:33.225125Z",
     "iopub.status.idle": "2022-10-08T14:12:33.244246Z",
     "shell.execute_reply": "2022-10-08T14:12:33.243203Z"
    },
    "papermill": {
     "duration": 0.046519,
     "end_time": "2022-10-08T14:12:33.246446",
     "exception": false,
     "start_time": "2022-10-08T14:12:33.199927",
     "status": "completed"
    },
    "tags": []
   },
   "outputs": [
    {
     "data": {
      "text/html": [
       "<div>\n",
       "<style scoped>\n",
       "    .dataframe tbody tr th:only-of-type {\n",
       "        vertical-align: middle;\n",
       "    }\n",
       "\n",
       "    .dataframe tbody tr th {\n",
       "        vertical-align: top;\n",
       "    }\n",
       "\n",
       "    .dataframe thead th {\n",
       "        text-align: right;\n",
       "    }\n",
       "</style>\n",
       "<table border=\"1\" class=\"dataframe\">\n",
       "  <thead>\n",
       "    <tr style=\"text-align: right;\">\n",
       "      <th></th>\n",
       "      <th>age</th>\n",
       "      <th>anaemia</th>\n",
       "      <th>creatinine_phosphokinase</th>\n",
       "      <th>diabetes</th>\n",
       "      <th>ejection_fraction</th>\n",
       "      <th>high_blood_pressure</th>\n",
       "      <th>platelets</th>\n",
       "      <th>serum_creatinine</th>\n",
       "      <th>serum_sodium</th>\n",
       "      <th>sex</th>\n",
       "      <th>smoking</th>\n",
       "      <th>DEATH_EVENT</th>\n",
       "    </tr>\n",
       "  </thead>\n",
       "  <tbody>\n",
       "    <tr>\n",
       "      <th>0</th>\n",
       "      <td>75.0</td>\n",
       "      <td>0</td>\n",
       "      <td>582.00</td>\n",
       "      <td>0</td>\n",
       "      <td>20.0</td>\n",
       "      <td>1</td>\n",
       "      <td>265000.00</td>\n",
       "      <td>1.90</td>\n",
       "      <td>130</td>\n",
       "      <td>1</td>\n",
       "      <td>0</td>\n",
       "      <td>1</td>\n",
       "    </tr>\n",
       "    <tr>\n",
       "      <th>1</th>\n",
       "      <td>55.0</td>\n",
       "      <td>0</td>\n",
       "      <td>1280.25</td>\n",
       "      <td>0</td>\n",
       "      <td>38.0</td>\n",
       "      <td>0</td>\n",
       "      <td>263358.03</td>\n",
       "      <td>1.10</td>\n",
       "      <td>136</td>\n",
       "      <td>1</td>\n",
       "      <td>0</td>\n",
       "      <td>1</td>\n",
       "    </tr>\n",
       "    <tr>\n",
       "      <th>2</th>\n",
       "      <td>65.0</td>\n",
       "      <td>0</td>\n",
       "      <td>146.00</td>\n",
       "      <td>0</td>\n",
       "      <td>20.0</td>\n",
       "      <td>0</td>\n",
       "      <td>162000.00</td>\n",
       "      <td>1.30</td>\n",
       "      <td>129</td>\n",
       "      <td>1</td>\n",
       "      <td>1</td>\n",
       "      <td>1</td>\n",
       "    </tr>\n",
       "    <tr>\n",
       "      <th>3</th>\n",
       "      <td>50.0</td>\n",
       "      <td>1</td>\n",
       "      <td>111.00</td>\n",
       "      <td>0</td>\n",
       "      <td>20.0</td>\n",
       "      <td>0</td>\n",
       "      <td>210000.00</td>\n",
       "      <td>1.90</td>\n",
       "      <td>137</td>\n",
       "      <td>1</td>\n",
       "      <td>0</td>\n",
       "      <td>1</td>\n",
       "    </tr>\n",
       "    <tr>\n",
       "      <th>4</th>\n",
       "      <td>65.0</td>\n",
       "      <td>1</td>\n",
       "      <td>160.00</td>\n",
       "      <td>1</td>\n",
       "      <td>20.0</td>\n",
       "      <td>0</td>\n",
       "      <td>327000.00</td>\n",
       "      <td>2.15</td>\n",
       "      <td>125</td>\n",
       "      <td>0</td>\n",
       "      <td>0</td>\n",
       "      <td>1</td>\n",
       "    </tr>\n",
       "    <tr>\n",
       "      <th>5</th>\n",
       "      <td>90.0</td>\n",
       "      <td>1</td>\n",
       "      <td>47.00</td>\n",
       "      <td>0</td>\n",
       "      <td>40.0</td>\n",
       "      <td>1</td>\n",
       "      <td>204000.00</td>\n",
       "      <td>2.10</td>\n",
       "      <td>132</td>\n",
       "      <td>1</td>\n",
       "      <td>1</td>\n",
       "      <td>1</td>\n",
       "    </tr>\n",
       "    <tr>\n",
       "      <th>6</th>\n",
       "      <td>75.0</td>\n",
       "      <td>1</td>\n",
       "      <td>246.00</td>\n",
       "      <td>0</td>\n",
       "      <td>15.0</td>\n",
       "      <td>0</td>\n",
       "      <td>127000.00</td>\n",
       "      <td>1.20</td>\n",
       "      <td>137</td>\n",
       "      <td>1</td>\n",
       "      <td>0</td>\n",
       "      <td>1</td>\n",
       "    </tr>\n",
       "    <tr>\n",
       "      <th>7</th>\n",
       "      <td>60.0</td>\n",
       "      <td>1</td>\n",
       "      <td>315.00</td>\n",
       "      <td>1</td>\n",
       "      <td>60.0</td>\n",
       "      <td>0</td>\n",
       "      <td>440000.00</td>\n",
       "      <td>1.10</td>\n",
       "      <td>131</td>\n",
       "      <td>1</td>\n",
       "      <td>1</td>\n",
       "      <td>1</td>\n",
       "    </tr>\n",
       "    <tr>\n",
       "      <th>8</th>\n",
       "      <td>65.0</td>\n",
       "      <td>0</td>\n",
       "      <td>157.00</td>\n",
       "      <td>0</td>\n",
       "      <td>65.0</td>\n",
       "      <td>0</td>\n",
       "      <td>263358.03</td>\n",
       "      <td>1.50</td>\n",
       "      <td>138</td>\n",
       "      <td>0</td>\n",
       "      <td>0</td>\n",
       "      <td>1</td>\n",
       "    </tr>\n",
       "    <tr>\n",
       "      <th>9</th>\n",
       "      <td>80.0</td>\n",
       "      <td>1</td>\n",
       "      <td>123.00</td>\n",
       "      <td>0</td>\n",
       "      <td>35.0</td>\n",
       "      <td>1</td>\n",
       "      <td>388000.00</td>\n",
       "      <td>2.15</td>\n",
       "      <td>133</td>\n",
       "      <td>1</td>\n",
       "      <td>1</td>\n",
       "      <td>1</td>\n",
       "    </tr>\n",
       "  </tbody>\n",
       "</table>\n",
       "</div>"
      ],
      "text/plain": [
       "    age  anaemia  creatinine_phosphokinase  diabetes  ejection_fraction  \\\n",
       "0  75.0        0                    582.00         0               20.0   \n",
       "1  55.0        0                   1280.25         0               38.0   \n",
       "2  65.0        0                    146.00         0               20.0   \n",
       "3  50.0        1                    111.00         0               20.0   \n",
       "4  65.0        1                    160.00         1               20.0   \n",
       "5  90.0        1                     47.00         0               40.0   \n",
       "6  75.0        1                    246.00         0               15.0   \n",
       "7  60.0        1                    315.00         1               60.0   \n",
       "8  65.0        0                    157.00         0               65.0   \n",
       "9  80.0        1                    123.00         0               35.0   \n",
       "\n",
       "   high_blood_pressure  platelets  serum_creatinine  serum_sodium  sex  \\\n",
       "0                    1  265000.00              1.90           130    1   \n",
       "1                    0  263358.03              1.10           136    1   \n",
       "2                    0  162000.00              1.30           129    1   \n",
       "3                    0  210000.00              1.90           137    1   \n",
       "4                    0  327000.00              2.15           125    0   \n",
       "5                    1  204000.00              2.10           132    1   \n",
       "6                    0  127000.00              1.20           137    1   \n",
       "7                    0  440000.00              1.10           131    1   \n",
       "8                    0  263358.03              1.50           138    0   \n",
       "9                    1  388000.00              2.15           133    1   \n",
       "\n",
       "   smoking  DEATH_EVENT  \n",
       "0        0            1  \n",
       "1        0            1  \n",
       "2        1            1  \n",
       "3        0            1  \n",
       "4        0            1  \n",
       "5        1            1  \n",
       "6        0            1  \n",
       "7        1            1  \n",
       "8        0            1  \n",
       "9        1            1  "
      ]
     },
     "execution_count": 33,
     "metadata": {},
     "output_type": "execute_result"
    }
   ],
   "source": [
    "df.head(10)"
   ]
  },
  {
   "cell_type": "markdown",
   "id": "066a9bc7",
   "metadata": {
    "papermill": {
     "duration": 0.024022,
     "end_time": "2022-10-08T14:12:33.295353",
     "exception": false,
     "start_time": "2022-10-08T14:12:33.271331",
     "status": "completed"
    },
    "tags": []
   },
   "source": [
    "### Feature set\n",
    "Let's define feature sets, X:"
   ]
  },
  {
   "cell_type": "code",
   "execution_count": 34,
   "id": "fa8ce7fa",
   "metadata": {
    "execution": {
     "iopub.execute_input": "2022-10-08T14:12:33.346183Z",
     "iopub.status.busy": "2022-10-08T14:12:33.345775Z",
     "iopub.status.idle": "2022-10-08T14:12:33.355069Z",
     "shell.execute_reply": "2022-10-08T14:12:33.354255Z"
    },
    "papermill": {
     "duration": 0.036934,
     "end_time": "2022-10-08T14:12:33.356997",
     "exception": false,
     "start_time": "2022-10-08T14:12:33.320063",
     "status": "completed"
    },
    "tags": []
   },
   "outputs": [
    {
     "data": {
      "text/plain": [
       "array([[7.5000000e+01, 0.0000000e+00, 5.8200000e+02, 0.0000000e+00,\n",
       "        2.0000000e+01, 1.0000000e+00, 2.6500000e+05, 1.9000000e+00,\n",
       "        1.3000000e+02, 1.0000000e+00, 0.0000000e+00],\n",
       "       [5.5000000e+01, 0.0000000e+00, 1.2802500e+03, 0.0000000e+00,\n",
       "        3.8000000e+01, 0.0000000e+00, 2.6335803e+05, 1.1000000e+00,\n",
       "        1.3600000e+02, 1.0000000e+00, 0.0000000e+00],\n",
       "       [6.5000000e+01, 0.0000000e+00, 1.4600000e+02, 0.0000000e+00,\n",
       "        2.0000000e+01, 0.0000000e+00, 1.6200000e+05, 1.3000000e+00,\n",
       "        1.2900000e+02, 1.0000000e+00, 1.0000000e+00],\n",
       "       [5.0000000e+01, 1.0000000e+00, 1.1100000e+02, 0.0000000e+00,\n",
       "        2.0000000e+01, 0.0000000e+00, 2.1000000e+05, 1.9000000e+00,\n",
       "        1.3700000e+02, 1.0000000e+00, 0.0000000e+00],\n",
       "       [6.5000000e+01, 1.0000000e+00, 1.6000000e+02, 1.0000000e+00,\n",
       "        2.0000000e+01, 0.0000000e+00, 3.2700000e+05, 2.1500000e+00,\n",
       "        1.2500000e+02, 0.0000000e+00, 0.0000000e+00]])"
      ]
     },
     "execution_count": 34,
     "metadata": {},
     "output_type": "execute_result"
    }
   ],
   "source": [
    "X = df[['age', 'anaemia','creatinine_phosphokinase', 'diabetes', 'ejection_fraction', 'high_blood_pressure', 'platelets', 'serum_creatinine','serum_sodium', 'sex', 'smoking']].values  #.astype(float)\n",
    "X[0:5]\n"
   ]
  },
  {
   "cell_type": "markdown",
   "id": "7a945bbc",
   "metadata": {
    "papermill": {
     "duration": 0.02434,
     "end_time": "2022-10-08T14:12:33.406320",
     "exception": false,
     "start_time": "2022-10-08T14:12:33.381980",
     "status": "completed"
    },
    "tags": []
   },
   "source": [
    "What are our labels?"
   ]
  },
  {
   "cell_type": "code",
   "execution_count": 35,
   "id": "6dab437c",
   "metadata": {
    "execution": {
     "iopub.execute_input": "2022-10-08T14:12:33.457116Z",
     "iopub.status.busy": "2022-10-08T14:12:33.456445Z",
     "iopub.status.idle": "2022-10-08T14:12:33.463059Z",
     "shell.execute_reply": "2022-10-08T14:12:33.462028Z"
    },
    "papermill": {
     "duration": 0.034411,
     "end_time": "2022-10-08T14:12:33.465141",
     "exception": false,
     "start_time": "2022-10-08T14:12:33.430730",
     "status": "completed"
    },
    "tags": []
   },
   "outputs": [
    {
     "data": {
      "text/plain": [
       "array([1, 1, 1, 1, 1])"
      ]
     },
     "execution_count": 35,
     "metadata": {},
     "output_type": "execute_result"
    }
   ],
   "source": [
    "y = df['DEATH_EVENT'].values\n",
    "y[0:5]"
   ]
  },
  {
   "cell_type": "markdown",
   "id": "7da6e583",
   "metadata": {
    "papermill": {
     "duration": 0.024201,
     "end_time": "2022-10-08T14:12:33.514433",
     "exception": false,
     "start_time": "2022-10-08T14:12:33.490232",
     "status": "completed"
    },
    "tags": []
   },
   "source": [
    "## Normalize Data"
   ]
  },
  {
   "cell_type": "markdown",
   "id": "e1f9ab18",
   "metadata": {
    "papermill": {
     "duration": 0.024392,
     "end_time": "2022-10-08T14:12:33.563568",
     "exception": false,
     "start_time": "2022-10-08T14:12:33.539176",
     "status": "completed"
    },
    "tags": []
   },
   "source": [
    "Data Standardization gives the data zero mean and unit variance, it is good practice, especially for algorithms such as KNN which is based on the distance of data points:"
   ]
  },
  {
   "cell_type": "code",
   "execution_count": 36,
   "id": "d1d7d3fe",
   "metadata": {
    "execution": {
     "iopub.execute_input": "2022-10-08T14:12:33.614655Z",
     "iopub.status.busy": "2022-10-08T14:12:33.614000Z",
     "iopub.status.idle": "2022-10-08T14:12:33.622557Z",
     "shell.execute_reply": "2022-10-08T14:12:33.621701Z"
    },
    "papermill": {
     "duration": 0.036565,
     "end_time": "2022-10-08T14:12:33.624553",
     "exception": false,
     "start_time": "2022-10-08T14:12:33.587988",
     "status": "completed"
    },
    "tags": []
   },
   "outputs": [
    {
     "data": {
      "text/plain": [
       "array([[ 1.19294523e+00, -8.71104775e-01,  4.10039982e-01,\n",
       "        -8.47579380e-01, -1.54580089e+00,  1.35927151e+00,\n",
       "         7.17500123e-02,  1.51466529e+00, -1.64917230e+00,\n",
       "         7.35688190e-01, -6.87681906e-01],\n",
       "       [-4.91279276e-01, -8.71104775e-01,  2.22459906e+00,\n",
       "        -8.47579380e-01, -2.86684140e-03, -7.35688190e-01,\n",
       "         5.15639924e-02, -3.06160609e-01, -1.75024265e-01,\n",
       "         7.35688190e-01, -6.87681906e-01],\n",
       "       [ 3.50832977e-01, -8.71104775e-01, -7.23003713e-01,\n",
       "        -8.47579380e-01, -1.54580089e+00, -7.35688190e-01,\n",
       "        -1.19450945e+00,  1.49045866e-01, -1.89486364e+00,\n",
       "         7.35688190e-01,  1.45416070e+00],\n",
       "       [-9.12335403e-01,  1.14796753e+00, -8.13959056e-01,\n",
       "        -8.47579380e-01, -1.54580089e+00, -7.35688190e-01,\n",
       "        -6.04407954e-01,  1.51466529e+00,  7.06670740e-02,\n",
       "         7.35688190e-01, -6.87681906e-01],\n",
       "       [ 3.50832977e-01,  1.14796753e+00, -6.86621576e-01,\n",
       "         1.17983050e+00, -1.54580089e+00, -7.35688190e-01,\n",
       "         8.33964447e-01,  2.08367338e+00, -2.87762899e+00,\n",
       "        -1.35927151e+00, -6.87681906e-01]])"
      ]
     },
     "execution_count": 36,
     "metadata": {},
     "output_type": "execute_result"
    }
   ],
   "source": [
    "X = preprocessing.StandardScaler().fit(X).transform(X.astype(float))\n",
    "X[0:5]"
   ]
  },
  {
   "cell_type": "markdown",
   "id": "96b8fa22",
   "metadata": {
    "papermill": {
     "duration": 0.024646,
     "end_time": "2022-10-08T14:12:33.673940",
     "exception": false,
     "start_time": "2022-10-08T14:12:33.649294",
     "status": "completed"
    },
    "tags": []
   },
   "source": [
    "### Train Test Split\n",
    "\n",
    "Out of Sample Accuracy is the percentage of correct predictions that the model makes on data that the model has NOT been trained on. Doing a train and test on the same dataset will most likely have low out-of-sample accuracy, due to the likelihood of our model overfitting.\n",
    "\n",
    "It is important that our models have a high, out-of-sample accuracy, because the purpose of any model, of course, is to make correct predictions on unknown data. So how can we improve out-of-sample accuracy? One way is to use an evaluation approach called Train/Test Split.\n",
    "Train/Test Split involves splitting the dataset into training and testing sets respectively, which are mutually exclusive. After which, you train with the training set and test with the testing set.\n",
    "\n",
    "This will provide a more accurate evaluation on out-of-sample accuracy because the testing dataset is not part of the dataset that has been used to train the model. It is more realistic for the real world problems.\n"
   ]
  },
  {
   "cell_type": "code",
   "execution_count": 37,
   "id": "7babf5c5",
   "metadata": {
    "execution": {
     "iopub.execute_input": "2022-10-08T14:12:33.725903Z",
     "iopub.status.busy": "2022-10-08T14:12:33.725232Z",
     "iopub.status.idle": "2022-10-08T14:12:33.732691Z",
     "shell.execute_reply": "2022-10-08T14:12:33.731460Z"
    },
    "papermill": {
     "duration": 0.035859,
     "end_time": "2022-10-08T14:12:33.734743",
     "exception": false,
     "start_time": "2022-10-08T14:12:33.698884",
     "status": "completed"
    },
    "tags": []
   },
   "outputs": [
    {
     "name": "stdout",
     "output_type": "stream",
     "text": [
      "Train set: (239, 11) (239,)\n",
      "Test set: (60, 11) (60,)\n"
     ]
    }
   ],
   "source": [
    "X_train, X_test, y_train, y_test = train_test_split( X, y, test_size=0.2, random_state=4)\n",
    "print ('Train set:', X_train.shape,  y_train.shape)\n",
    "print ('Test set:', X_test.shape,  y_test.shape)"
   ]
  },
  {
   "cell_type": "markdown",
   "id": "6a2cb96d",
   "metadata": {
    "papermill": {
     "duration": 0.024649,
     "end_time": "2022-10-08T14:12:33.784654",
     "exception": false,
     "start_time": "2022-10-08T14:12:33.760005",
     "status": "completed"
    },
    "tags": []
   },
   "source": [
    "<div id=\"classification\">\n",
    "    <h2>Classification</h2>\n",
    "</div>\n"
   ]
  },
  {
   "cell_type": "markdown",
   "id": "1bd3cb03",
   "metadata": {
    "papermill": {
     "duration": 0.025415,
     "end_time": "2022-10-08T14:12:33.835702",
     "exception": false,
     "start_time": "2022-10-08T14:12:33.810287",
     "status": "completed"
    },
    "tags": []
   },
   "source": [
    "<h3>K nearest neighbor (KNN)</h3>\n"
   ]
  },
  {
   "cell_type": "markdown",
   "id": "da85fe43",
   "metadata": {
    "papermill": {
     "duration": 0.025254,
     "end_time": "2022-10-08T14:12:33.886727",
     "exception": false,
     "start_time": "2022-10-08T14:12:33.861473",
     "status": "completed"
    },
    "tags": []
   },
   "source": [
    "### Training\n",
    "\n",
    "Let's start the algorithm with k=4 for now:"
   ]
  },
  {
   "cell_type": "code",
   "execution_count": 38,
   "id": "316ec74e",
   "metadata": {
    "execution": {
     "iopub.execute_input": "2022-10-08T14:12:33.939771Z",
     "iopub.status.busy": "2022-10-08T14:12:33.939093Z",
     "iopub.status.idle": "2022-10-08T14:12:33.948296Z",
     "shell.execute_reply": "2022-10-08T14:12:33.947235Z"
    },
    "papermill": {
     "duration": 0.038335,
     "end_time": "2022-10-08T14:12:33.950640",
     "exception": false,
     "start_time": "2022-10-08T14:12:33.912305",
     "status": "completed"
    },
    "tags": []
   },
   "outputs": [
    {
     "data": {
      "text/plain": [
       "KNeighborsClassifier(n_neighbors=4)"
      ]
     },
     "execution_count": 38,
     "metadata": {},
     "output_type": "execute_result"
    }
   ],
   "source": [
    "k = 4\n",
    "#Train Model and Predict  \n",
    "neigh = KNeighborsClassifier(n_neighbors = k).fit(X_train,y_train)\n",
    "neigh"
   ]
  },
  {
   "cell_type": "markdown",
   "id": "c00e2e71",
   "metadata": {
    "papermill": {
     "duration": 0.026016,
     "end_time": "2022-10-08T14:12:34.002820",
     "exception": false,
     "start_time": "2022-10-08T14:12:33.976804",
     "status": "completed"
    },
    "tags": []
   },
   "source": [
    "### Predicting\n",
    "\n",
    "We can use the model to make predictions on the test set:\n"
   ]
  },
  {
   "cell_type": "code",
   "execution_count": 39,
   "id": "20221543",
   "metadata": {
    "execution": {
     "iopub.execute_input": "2022-10-08T14:12:34.057314Z",
     "iopub.status.busy": "2022-10-08T14:12:34.056896Z",
     "iopub.status.idle": "2022-10-08T14:12:34.066735Z",
     "shell.execute_reply": "2022-10-08T14:12:34.065930Z"
    },
    "papermill": {
     "duration": 0.039764,
     "end_time": "2022-10-08T14:12:34.068890",
     "exception": false,
     "start_time": "2022-10-08T14:12:34.029126",
     "status": "completed"
    },
    "tags": []
   },
   "outputs": [
    {
     "data": {
      "text/plain": [
       "array([0, 0, 0, 0, 0])"
      ]
     },
     "execution_count": 39,
     "metadata": {},
     "output_type": "execute_result"
    }
   ],
   "source": [
    "yhat = neigh.predict(X_test)\n",
    "yhat[0:5]"
   ]
  },
  {
   "cell_type": "markdown",
   "id": "ca13d957",
   "metadata": {
    "papermill": {
     "duration": 0.025476,
     "end_time": "2022-10-08T14:12:34.120256",
     "exception": false,
     "start_time": "2022-10-08T14:12:34.094780",
     "status": "completed"
    },
    "tags": []
   },
   "source": [
    "### Accuracy evaluation\n",
    "\n",
    "In multilabel classification, **accuracy classification score** is a function that computes subset accuracy. This function is equal to the jaccard_score function. Essentially, it calculates how closely the actual labels and predicted labels are matched in the test set.\n"
   ]
  },
  {
   "cell_type": "code",
   "execution_count": 40,
   "id": "821608e5",
   "metadata": {
    "execution": {
     "iopub.execute_input": "2022-10-08T14:12:34.173715Z",
     "iopub.status.busy": "2022-10-08T14:12:34.172464Z",
     "iopub.status.idle": "2022-10-08T14:12:34.188810Z",
     "shell.execute_reply": "2022-10-08T14:12:34.187630Z"
    },
    "papermill": {
     "duration": 0.045857,
     "end_time": "2022-10-08T14:12:34.191499",
     "exception": false,
     "start_time": "2022-10-08T14:12:34.145642",
     "status": "completed"
    },
    "tags": []
   },
   "outputs": [
    {
     "name": "stdout",
     "output_type": "stream",
     "text": [
      "Train set Accuracy:  0.7824267782426778\n",
      "Test set Accuracy:  0.7333333333333333\n"
     ]
    }
   ],
   "source": [
    "print(\"Train set Accuracy: \", metrics.accuracy_score(y_train, neigh.predict(X_train)))\n",
    "print(\"Test set Accuracy: \", metrics.accuracy_score(y_test, yhat))"
   ]
  },
  {
   "cell_type": "markdown",
   "id": "a610e496",
   "metadata": {
    "papermill": {
     "duration": 0.028539,
     "end_time": "2022-10-08T14:12:34.246028",
     "exception": false,
     "start_time": "2022-10-08T14:12:34.217489",
     "status": "completed"
    },
    "tags": []
   },
   "source": [
    "## Practice\n",
    "\n",
    "Can you build the model again, but this time with k=6?\n"
   ]
  },
  {
   "cell_type": "code",
   "execution_count": 41,
   "id": "9bce99a5",
   "metadata": {
    "execution": {
     "iopub.execute_input": "2022-10-08T14:12:34.301073Z",
     "iopub.status.busy": "2022-10-08T14:12:34.299928Z",
     "iopub.status.idle": "2022-10-08T14:12:34.319786Z",
     "shell.execute_reply": "2022-10-08T14:12:34.318444Z"
    },
    "papermill": {
     "duration": 0.048657,
     "end_time": "2022-10-08T14:12:34.321796",
     "exception": false,
     "start_time": "2022-10-08T14:12:34.273139",
     "status": "completed"
    },
    "tags": []
   },
   "outputs": [
    {
     "name": "stdout",
     "output_type": "stream",
     "text": [
      "Train set Accuracy:  0.7531380753138075\n",
      "Test set Accuracy:  0.7333333333333333\n"
     ]
    }
   ],
   "source": [
    "# write your code here\n",
    "k = 6\n",
    "#Train Model and Predict  \n",
    "neigh6 = KNeighborsClassifier(n_neighbors = k).fit(X_train,y_train)\n",
    "yhat6 = neigh.predict(X_test)\n",
    "print(\"Train set Accuracy: \", metrics.accuracy_score(y_train, neigh6.predict(X_train)))\n",
    "print(\"Test set Accuracy: \", metrics.accuracy_score(y_test, yhat6))"
   ]
  },
  {
   "cell_type": "code",
   "execution_count": 42,
   "id": "b57c064b",
   "metadata": {
    "execution": {
     "iopub.execute_input": "2022-10-08T14:12:34.374587Z",
     "iopub.status.busy": "2022-10-08T14:12:34.373956Z",
     "iopub.status.idle": "2022-10-08T14:12:34.392123Z",
     "shell.execute_reply": "2022-10-08T14:12:34.391141Z"
    },
    "papermill": {
     "duration": 0.047002,
     "end_time": "2022-10-08T14:12:34.394197",
     "exception": false,
     "start_time": "2022-10-08T14:12:34.347195",
     "status": "completed"
    },
    "tags": []
   },
   "outputs": [
    {
     "name": "stdout",
     "output_type": "stream",
     "text": [
      "Train set Accuracy:  0.7405857740585774\n",
      "Test set Accuracy:  0.7333333333333333\n"
     ]
    }
   ],
   "source": [
    "k = 9\n",
    "#Train Model and Predict  \n",
    "neigh9 = KNeighborsClassifier(n_neighbors = k).fit(X_train,y_train)\n",
    "yhat9 = neigh.predict(X_test)\n",
    "print(\"Train set Accuracy: \", metrics.accuracy_score(y_train, neigh9.predict(X_train)))\n",
    "print(\"Test set Accuracy: \", metrics.accuracy_score(y_test, yhat9))"
   ]
  },
  {
   "cell_type": "markdown",
   "id": "4ac1b562",
   "metadata": {
    "papermill": {
     "duration": 0.026885,
     "end_time": "2022-10-08T14:12:34.446742",
     "exception": false,
     "start_time": "2022-10-08T14:12:34.419857",
     "status": "completed"
    },
    "tags": []
   },
   "source": [
    "#### What about other K?\n",
    "\n",
    "K in KNN, is the number of nearest neighbors to examine. It is supposed to be specified by the user. So, how can we choose right value for K?\n",
    "The general solution is to reserve a part of your data for testing the accuracy of the model. Then choose k =1, use the training part for modeling, and calculate the accuracy of prediction using all samples in your test set. Repeat this process, increasing the k, and see which k is the best for your model.\n",
    "\n",
    "We can calculate the accuracy of KNN for different values of k.\n"
   ]
  },
  {
   "cell_type": "code",
   "execution_count": 43,
   "id": "f5aacf20",
   "metadata": {
    "execution": {
     "iopub.execute_input": "2022-10-08T14:12:34.499954Z",
     "iopub.status.busy": "2022-10-08T14:12:34.499216Z",
     "iopub.status.idle": "2022-10-08T14:12:34.538575Z",
     "shell.execute_reply": "2022-10-08T14:12:34.537387Z"
    },
    "papermill": {
     "duration": 0.068131,
     "end_time": "2022-10-08T14:12:34.540859",
     "exception": false,
     "start_time": "2022-10-08T14:12:34.472728",
     "status": "completed"
    },
    "tags": []
   },
   "outputs": [
    {
     "data": {
      "text/plain": [
       "array([0.66666667, 0.71666667, 0.7       , 0.73333333, 0.73333333,\n",
       "       0.76666667, 0.73333333, 0.75      , 0.75      ])"
      ]
     },
     "execution_count": 43,
     "metadata": {},
     "output_type": "execute_result"
    }
   ],
   "source": [
    "Ks = 10\n",
    "mean_acc = np.zeros((Ks-1))\n",
    "std_acc = np.zeros((Ks-1))\n",
    "\n",
    "for n in range(1,Ks):\n",
    "    \n",
    "    #Train Model and Predict  \n",
    "    neigh = KNeighborsClassifier(n_neighbors = n).fit(X_train,y_train)\n",
    "    yhat=neigh.predict(X_test)\n",
    "    mean_acc[n-1] = metrics.accuracy_score(y_test, yhat)\n",
    "\n",
    "    \n",
    "    std_acc[n-1]=np.std(yhat==y_test)/np.sqrt(yhat.shape[0])\n",
    "\n",
    "mean_acc"
   ]
  },
  {
   "cell_type": "markdown",
   "id": "1a02d79d",
   "metadata": {
    "papermill": {
     "duration": 0.025847,
     "end_time": "2022-10-08T14:12:34.592568",
     "exception": false,
     "start_time": "2022-10-08T14:12:34.566721",
     "status": "completed"
    },
    "tags": []
   },
   "source": [
    "#### Plot the model accuracy for a different number of neighbors."
   ]
  },
  {
   "cell_type": "code",
   "execution_count": 44,
   "id": "2eee5743",
   "metadata": {
    "execution": {
     "iopub.execute_input": "2022-10-08T14:12:34.648239Z",
     "iopub.status.busy": "2022-10-08T14:12:34.647176Z",
     "iopub.status.idle": "2022-10-08T14:12:34.892699Z",
     "shell.execute_reply": "2022-10-08T14:12:34.891575Z"
    },
    "papermill": {
     "duration": 0.275561,
     "end_time": "2022-10-08T14:12:34.895063",
     "exception": false,
     "start_time": "2022-10-08T14:12:34.619502",
     "status": "completed"
    },
    "tags": []
   },
   "outputs": [
    {
     "data": {
      "image/png": "[encoded data removed]",
      "text/plain": [
       "<Figure size 432x288 with 1 Axes>"
      ]
     },
     "metadata": {
      "needs_background": "light"
     },
     "output_type": "display_data"
    }
   ],
   "source": [
    "plt.plot(range(1,Ks),mean_acc,'g')\n",
    "plt.fill_between(range(1,Ks),mean_acc - 1 * std_acc,mean_acc + 1 * std_acc, alpha=0.10)\n",
    "plt.fill_between(range(1,Ks),mean_acc - 3 * std_acc,mean_acc + 3 * std_acc, alpha=0.10,color=\"green\")\n",
    "plt.legend(('Accuracy ', '+/- 1xstd','+/- 3xstd'))\n",
    "plt.ylabel('Accuracy ')\n",
    "plt.xlabel('Number of Neighbors (K)')\n",
    "plt.tight_layout()\n",
    "plt.show()"
   ]
  },
  {
   "cell_type": "code",
   "execution_count": 45,
   "id": "e9d66bd8",
   "metadata": {
    "execution": {
     "iopub.execute_input": "2022-10-08T14:12:34.950181Z",
     "iopub.status.busy": "2022-10-08T14:12:34.949410Z",
     "iopub.status.idle": "2022-10-08T14:12:34.955729Z",
     "shell.execute_reply": "2022-10-08T14:12:34.954689Z"
    },
    "papermill": {
     "duration": 0.035877,
     "end_time": "2022-10-08T14:12:34.957887",
     "exception": false,
     "start_time": "2022-10-08T14:12:34.922010",
     "status": "completed"
    },
    "tags": []
   },
   "outputs": [
    {
     "name": "stdout",
     "output_type": "stream",
     "text": [
      "The best accuracy was with 0.7666666666666667 with k= 6\n"
     ]
    }
   ],
   "source": [
    "print( \"The best accuracy was with\", mean_acc.max(), \"with k=\", mean_acc.argmax()+1) "
   ]
  },
  {
   "cell_type": "code",
   "execution_count": null,
   "id": "9606861a",
   "metadata": {
    "papermill": {
     "duration": 0.025953,
     "end_time": "2022-10-08T14:12:35.009882",
     "exception": false,
     "start_time": "2022-10-08T14:12:34.983929",
     "status": "completed"
    },
    "tags": []
   },
   "outputs": [],
   "source": []
  }
 ],
 "metadata": {
  "kernelspec": {
   "display_name": "Python 3",
   "language": "python",
   "name": "python3"
  },
  "language_info": {
   "codemirror_mode": {
    "name": "ipython",
    "version": 3
   },
   "file_extension": ".py",
   "mimetype": "text/x-python",
   "name": "python",
   "nbconvert_exporter": "python",
   "pygments_lexer": "ipython3",
   "version": "3.7.12"
  },
  "papermill": {
   "default_parameters": {},
   "duration": 31.686247,
   "end_time": "2022-10-08T14:12:35.758345",
   "environment_variables": {},
   "exception": null,
   "input_path": "__notebook__.ipynb",
   "output_path": "__notebook__.ipynb",
   "parameters": {},
   "start_time": "2022-10-08T14:12:04.072098",
   "version": "2.3.4"
  }
 },
 "nbformat": 4,
 "nbformat_minor": 5
}
